{
  "nbformat": 4,
  "nbformat_minor": 0,
  "metadata": {
    "colab": {
      "name": "US_Accident_Exploratory_data_analysis.ipynb",
      "provenance": [],
      "collapsed_sections": [],
      "include_colab_link": true
    },
    "kernelspec": {
      "name": "python3",
      "display_name": "Python 3"
    },
    "language_info": {
      "name": "python"
    }
  },
  "cells": [
    {
      "cell_type": "markdown",
      "metadata": {
        "id": "view-in-github",
        "colab_type": "text"
      },
      "source": [
        "<a href=\"https://colab.research.google.com/github/SahilMazumder27/US_Accidents_Exploratory_Data_Analysis/blob/main/US_Accident_Exploratory_data_analysis.ipynb\" target=\"_parent\"><img src=\"https://colab.research.google.com/assets/colab-badge.svg\" alt=\"Open In Colab\"/></a>"
      ]
    },
    {
      "cell_type": "markdown",
      "metadata": {
        "id": "Hx7V5-IkGImj"
      },
      "source": [
        "# US Accidents Exploratory Data Analysis\n",
        "\n",
        "TODO - talk about the EDA \n",
        "TODO - talk about the dataset(source,what it contains, how it will be useful)\n",
        "- Kaggle\n",
        "- Information about accidents\n",
        "- Can be useful too prevent accidents\n",
        "- Mention that this data does not contain data about New York"
      ]
    },
    {
      "cell_type": "code",
      "metadata": {
        "id": "13AEbDN9kxks"
      },
      "source": [
        "#install Kaggle\n",
        "!pip install -q kaggle"
      ],
      "execution_count": 6,
      "outputs": []
    },
    {
      "cell_type": "code",
      "metadata": {
        "colab": {
          "resources": {
            "http://localhost:8080/nbextensions/google.colab/files.js": {
              "data": "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",
              "ok": true,
              "headers": [
                [
                  "content-type",
                  "application/javascript"
                ]
              ],
              "status": 200,
              "status_text": ""
            }
          },
          "base_uri": "https://localhost:8080/",
          "height": 90
        },
        "id": "hLAjBsIQk-2U",
        "outputId": "f47af425-525e-47f9-a0c4-e662d6f34ab2"
      },
      "source": [
        "from google.colab import files\n",
        "files.upload()"
      ],
      "execution_count": 7,
      "outputs": [
        {
          "output_type": "display_data",
          "data": {
            "text/html": [
              "\n",
              "     <input type=\"file\" id=\"files-e508831a-2a5c-4140-90c6-e8ccfb0da3b9\" name=\"files[]\" multiple disabled\n",
              "        style=\"border:none\" />\n",
              "     <output id=\"result-e508831a-2a5c-4140-90c6-e8ccfb0da3b9\">\n",
              "      Upload widget is only available when the cell has been executed in the\n",
              "      current browser session. Please rerun this cell to enable.\n",
              "      </output>\n",
              "      <script src=\"/nbextensions/google.colab/files.js\"></script> "
            ],
            "text/plain": [
              "<IPython.core.display.HTML object>"
            ]
          },
          "metadata": {}
        },
        {
          "output_type": "stream",
          "name": "stdout",
          "text": [
            "Saving kaggle.json to kaggle.json\n"
          ]
        },
        {
          "output_type": "execute_result",
          "data": {
            "text/plain": [
              "{'kaggle.json': b'{\"username\":\"sahilmazumdernits\",\"key\":\"74635950078bd9769f8e7ec3c54fc957\"}'}"
            ]
          },
          "metadata": {},
          "execution_count": 7
        }
      ]
    },
    {
      "cell_type": "code",
      "metadata": {
        "id": "fhjAO9dTlLnU"
      },
      "source": [
        "#create a Kaggle folder\n",
        "! mkdir ~/.kaggle"
      ],
      "execution_count": 9,
      "outputs": []
    },
    {
      "cell_type": "code",
      "metadata": {
        "id": "hZlGOfvvltR9"
      },
      "source": [
        "#copy the kaggle.json to the folder created\n",
        "! cp kaggle.json ~/.kaggle/"
      ],
      "execution_count": 10,
      "outputs": []
    },
    {
      "cell_type": "code",
      "metadata": {
        "colab": {
          "base_uri": "https://localhost:8080/"
        },
        "id": "JGobnCYlmSoJ",
        "outputId": "2380a786-8b7e-4310-d353-994613cd6e2f"
      },
      "source": [
        "#Permission for the json to act\n",
        "! chmod 600~/.kaggle/kaggle.json"
      ],
      "execution_count": 11,
      "outputs": [
        {
          "output_type": "stream",
          "name": "stdout",
          "text": [
            "chmod: missing operand after ‘600~/.kaggle/kaggle.json’\n",
            "Try 'chmod --help' for more information.\n"
          ]
        }
      ]
    },
    {
      "cell_type": "code",
      "metadata": {
        "colab": {
          "base_uri": "https://localhost:8080/"
        },
        "id": "fOVLF6IenCdH",
        "outputId": "5d423f3b-3ffb-4ca4-d52a-0e1d1389431f"
      },
      "source": [
        "#to list all datasets in kaggle -quiet\n",
        "!kaggle datasets list"
      ],
      "execution_count": 12,
      "outputs": [
        {
          "output_type": "stream",
          "name": "stdout",
          "text": [
            "Warning: Your Kaggle API key is readable by other users on this system! To fix this, you can run 'chmod 600 /root/.kaggle/kaggle.json'\n",
            "Warning: Looks like you're using an outdated API Version, please consider updating (server 1.5.12 / client 1.5.4)\n",
            "ref                                                         title                                              size  lastUpdated          downloadCount  \n",
            "----------------------------------------------------------  ------------------------------------------------  -----  -------------------  -------------  \n",
            "gpreda/reddit-vaccine-myths                                 Reddit Vaccine Myths                              235KB  2021-09-09 20:40:01          12142  \n",
            "crowww/a-large-scale-fish-dataset                           A Large Scale Fish Dataset                          3GB  2021-04-28 17:03:01           7400  \n",
            "imsparsh/musicnet-dataset                                   MusicNet Dataset                                   22GB  2021-02-18 14:12:19           3006  \n",
            "dhruvildave/wikibooks-dataset                               Wikibooks Dataset                                   2GB  2021-07-03 18:37:20           2893  \n",
            "promptcloud/careerbuilder-job-listing-2020                  Careerbuilder Job Listing 2020                     42MB  2021-03-05 06:59:52           1885  \n",
            "nickuzmenkov/nih-chest-xrays-tfrecords                      NIH Chest X-rays TFRecords                         11GB  2021-03-09 04:49:23           1123  \n",
            "mathurinache/twitter-edge-nodes                             Twitter Edge Nodes                                342MB  2021-03-08 06:43:04            920  \n",
            "fatiimaezzahra/famous-iconic-women                          Famous Iconic Women                               838MB  2021-02-28 14:56:00           1362  \n",
            "simiotic/github-code-snippets                               GitHub Code Snippets                                7GB  2021-03-03 11:34:39            329  \n",
            "alsgroup/end-als                                            End ALS Kaggle Challenge                           12GB  2021-04-08 12:16:37            892  \n",
            "coloradokb/dandelionimages                                  DandelionImages                                     4GB  2021-02-19 20:03:47            820  \n",
            "mathurinache/the-lj-speech-dataset                          The LJ Speech Dataset                               3GB  2021-02-15 09:19:54            336  \n",
            "landrykezebou/lvzhdr-tone-mapping-benchmark-dataset-tmonet  LVZ-HDR Tone Mapping Benchmark Dataset (TMO-Net)   24GB  2021-03-01 05:03:40            193  \n",
            "imsparsh/accentdb-core-extended                             AccentDB - Core & Extended                          6GB  2021-02-17 14:22:54            139  \n",
            "stuartjames/lights                                          LightS: Light Specularity Dataset                  18GB  2021-02-18 14:32:26            139  \n",
            "nickuzmenkov/ranzcr-clip-kfold-tfrecords                    RANZCR CLiP KFold TFRecords                         2GB  2021-02-21 13:29:51            129  \n",
            "datasnaek/youtube-new                                       Trending YouTube Video Statistics                 201MB  2019-06-03 00:56:47         150251  \n",
            "zynicide/wine-reviews                                       Wine Reviews                                       51MB  2017-11-27 17:08:04         143623  \n",
            "residentmario/ramen-ratings                                 Ramen Ratings                                      40KB  2018-01-11 16:04:39          26867  \n",
            "datasnaek/chess                                             Chess Game Dataset (Lichess)                        3MB  2017-09-04 03:09:09          21672  \n"
          ]
        }
      ]
    },
    {
      "cell_type": "code",
      "metadata": {
        "id": "GZ-BFiUfQZW_"
      },
      "source": [
        "data_filename='/content/US_Accidents_Dec20_updated.csv'"
      ],
      "execution_count": 13,
      "outputs": []
    },
    {
      "cell_type": "markdown",
      "metadata": {
        "id": "aGu59u75GWCx"
      },
      "source": [
        "## Download the Data\n",
        "\n",
        "1. Load the file using pandas\n",
        "2. Look at some information about the data and the columns\n",
        "3. Fix any missing or incorrect values"
      ]
    },
    {
      "cell_type": "code",
      "metadata": {
        "colab": {
          "base_uri": "https://localhost:8080/"
        },
        "id": "L6-ovn1IokDT",
        "outputId": "8ae70e18-3583-49ba-a599-fcda2859e223"
      },
      "source": [
        "!kaggle datasets download -d sobhanmoosavi/us-accidents"
      ],
      "execution_count": 14,
      "outputs": [
        {
          "output_type": "stream",
          "name": "stdout",
          "text": [
            "Warning: Your Kaggle API key is readable by other users on this system! To fix this, you can run 'chmod 600 /root/.kaggle/kaggle.json'\n",
            "Downloading us-accidents.zip to /content\n",
            " 97% 114M/117M [00:00<00:00, 171MB/s] \n",
            "100% 117M/117M [00:00<00:00, 185MB/s]\n"
          ]
        }
      ]
    },
    {
      "cell_type": "code",
      "metadata": {
        "colab": {
          "base_uri": "https://localhost:8080/"
        },
        "id": "f6WXnGftqSrl",
        "outputId": "4bf4fd67-560d-4afc-829e-e12e9feaf7b1"
      },
      "source": [
        "!unzip us-accidents.zip\n"
      ],
      "execution_count": 15,
      "outputs": [
        {
          "output_type": "stream",
          "name": "stdout",
          "text": [
            "Archive:  us-accidents.zip\n",
            "  inflating: US_Accidents_Dec20_updated.csv  \n"
          ]
        }
      ]
    },
    {
      "cell_type": "markdown",
      "metadata": {
        "id": "i0pRllaWr1mB"
      },
      "source": [
        "# Data Preparation & Cleaning\n",
        "\n",
        "1. Load the file using pandas\n",
        "2. Look at some information about the data and columns\n",
        "3. Fix any missing and incorrect values"
      ]
    },
    {
      "cell_type": "code",
      "metadata": {
        "id": "Ubkv6aLitUvY"
      },
      "source": [
        "import pandas as pd"
      ],
      "execution_count": 16,
      "outputs": []
    },
    {
      "cell_type": "code",
      "metadata": {
        "id": "uwOyq8SLtbc-"
      },
      "source": [
        "df = pd.read_csv(data_filename)"
      ],
      "execution_count": 17,
      "outputs": []
    },
    {
      "cell_type": "code",
      "metadata": {
        "colab": {
          "base_uri": "https://localhost:8080/"
        },
        "id": "iBS5eP54uMjs",
        "outputId": "f6457176-ad1c-4a55-ecaa-872cbb70bc32"
      },
      "source": [
        "df.info()"
      ],
      "execution_count": 18,
      "outputs": [
        {
          "output_type": "stream",
          "name": "stdout",
          "text": [
            "<class 'pandas.core.frame.DataFrame'>\n",
            "RangeIndex: 1516064 entries, 0 to 1516063\n",
            "Data columns (total 47 columns):\n",
            " #   Column                 Non-Null Count    Dtype  \n",
            "---  ------                 --------------    -----  \n",
            " 0   ID                     1516064 non-null  object \n",
            " 1   Severity               1516064 non-null  int64  \n",
            " 2   Start_Time             1516064 non-null  object \n",
            " 3   End_Time               1516064 non-null  object \n",
            " 4   Start_Lat              1516064 non-null  float64\n",
            " 5   Start_Lng              1516064 non-null  float64\n",
            " 6   End_Lat                1516064 non-null  float64\n",
            " 7   End_Lng                1516064 non-null  float64\n",
            " 8   Distance(mi)           1516064 non-null  float64\n",
            " 9   Description            1516064 non-null  object \n",
            " 10  Number                 469969 non-null   float64\n",
            " 11  Street                 1516064 non-null  object \n",
            " 12  Side                   1516064 non-null  object \n",
            " 13  City                   1515981 non-null  object \n",
            " 14  County                 1516064 non-null  object \n",
            " 15  State                  1516064 non-null  object \n",
            " 16  Zipcode                1515129 non-null  object \n",
            " 17  Country                1516064 non-null  object \n",
            " 18  Timezone               1513762 non-null  object \n",
            " 19  Airport_Code           1511816 non-null  object \n",
            " 20  Weather_Timestamp      1485800 non-null  object \n",
            " 21  Temperature(F)         1473031 non-null  float64\n",
            " 22  Wind_Chill(F)          1066748 non-null  float64\n",
            " 23  Humidity(%)            1470555 non-null  float64\n",
            " 24  Pressure(in)           1479790 non-null  float64\n",
            " 25  Visibility(mi)         1471853 non-null  float64\n",
            " 26  Wind_Direction         1474206 non-null  object \n",
            " 27  Wind_Speed(mph)        1387202 non-null  float64\n",
            " 28  Precipitation(in)      1005515 non-null  float64\n",
            " 29  Weather_Condition      1472057 non-null  object \n",
            " 30  Amenity                1516064 non-null  bool   \n",
            " 31  Bump                   1516064 non-null  bool   \n",
            " 32  Crossing               1516064 non-null  bool   \n",
            " 33  Give_Way               1516064 non-null  bool   \n",
            " 34  Junction               1516064 non-null  bool   \n",
            " 35  No_Exit                1516064 non-null  bool   \n",
            " 36  Railway                1516064 non-null  bool   \n",
            " 37  Roundabout             1516064 non-null  bool   \n",
            " 38  Station                1516064 non-null  bool   \n",
            " 39  Stop                   1516064 non-null  bool   \n",
            " 40  Traffic_Calming        1516064 non-null  bool   \n",
            " 41  Traffic_Signal         1516064 non-null  bool   \n",
            " 42  Turning_Loop           1516064 non-null  bool   \n",
            " 43  Sunrise_Sunset         1515981 non-null  object \n",
            " 44  Civil_Twilight         1515981 non-null  object \n",
            " 45  Nautical_Twilight      1515981 non-null  object \n",
            " 46  Astronomical_Twilight  1515981 non-null  object \n",
            "dtypes: bool(13), float64(13), int64(1), object(20)\n",
            "memory usage: 412.1+ MB\n"
          ]
        }
      ]
    },
    {
      "cell_type": "code",
      "metadata": {
        "colab": {
          "base_uri": "https://localhost:8080/",
          "height": 315
        },
        "id": "EKUpg3fZ7WTp",
        "outputId": "749b4b66-0310-4b5e-cf49-aa03e3df3b7a"
      },
      "source": [
        "df.describe()\n"
      ],
      "execution_count": 19,
      "outputs": [
        {
          "output_type": "execute_result",
          "data": {
            "text/html": [
              "<div>\n",
              "<style scoped>\n",
              "    .dataframe tbody tr th:only-of-type {\n",
              "        vertical-align: middle;\n",
              "    }\n",
              "\n",
              "    .dataframe tbody tr th {\n",
              "        vertical-align: top;\n",
              "    }\n",
              "\n",
              "    .dataframe thead th {\n",
              "        text-align: right;\n",
              "    }\n",
              "</style>\n",
              "<table border=\"1\" class=\"dataframe\">\n",
              "  <thead>\n",
              "    <tr style=\"text-align: right;\">\n",
              "      <th></th>\n",
              "      <th>Severity</th>\n",
              "      <th>Start_Lat</th>\n",
              "      <th>Start_Lng</th>\n",
              "      <th>End_Lat</th>\n",
              "      <th>End_Lng</th>\n",
              "      <th>Distance(mi)</th>\n",
              "      <th>Number</th>\n",
              "      <th>Temperature(F)</th>\n",
              "      <th>Wind_Chill(F)</th>\n",
              "      <th>Humidity(%)</th>\n",
              "      <th>Pressure(in)</th>\n",
              "      <th>Visibility(mi)</th>\n",
              "      <th>Wind_Speed(mph)</th>\n",
              "      <th>Precipitation(in)</th>\n",
              "    </tr>\n",
              "  </thead>\n",
              "  <tbody>\n",
              "    <tr>\n",
              "      <th>count</th>\n",
              "      <td>1.516064e+06</td>\n",
              "      <td>1.516064e+06</td>\n",
              "      <td>1.516064e+06</td>\n",
              "      <td>1.516064e+06</td>\n",
              "      <td>1.516064e+06</td>\n",
              "      <td>1.516064e+06</td>\n",
              "      <td>4.699690e+05</td>\n",
              "      <td>1.473031e+06</td>\n",
              "      <td>1.066748e+06</td>\n",
              "      <td>1.470555e+06</td>\n",
              "      <td>1.479790e+06</td>\n",
              "      <td>1.471853e+06</td>\n",
              "      <td>1.387202e+06</td>\n",
              "      <td>1.005515e+06</td>\n",
              "    </tr>\n",
              "    <tr>\n",
              "      <th>mean</th>\n",
              "      <td>2.238630e+00</td>\n",
              "      <td>3.690056e+01</td>\n",
              "      <td>-9.859919e+01</td>\n",
              "      <td>3.690061e+01</td>\n",
              "      <td>-9.859901e+01</td>\n",
              "      <td>5.872617e-01</td>\n",
              "      <td>8.907533e+03</td>\n",
              "      <td>5.958460e+01</td>\n",
              "      <td>5.510976e+01</td>\n",
              "      <td>6.465960e+01</td>\n",
              "      <td>2.955495e+01</td>\n",
              "      <td>9.131755e+00</td>\n",
              "      <td>7.630812e+00</td>\n",
              "      <td>8.477855e-03</td>\n",
              "    </tr>\n",
              "    <tr>\n",
              "      <th>std</th>\n",
              "      <td>6.081481e-01</td>\n",
              "      <td>5.165653e+00</td>\n",
              "      <td>1.849602e+01</td>\n",
              "      <td>5.165629e+00</td>\n",
              "      <td>1.849590e+01</td>\n",
              "      <td>1.632659e+00</td>\n",
              "      <td>2.242190e+04</td>\n",
              "      <td>1.827316e+01</td>\n",
              "      <td>2.112735e+01</td>\n",
              "      <td>2.325986e+01</td>\n",
              "      <td>1.016756e+00</td>\n",
              "      <td>2.889112e+00</td>\n",
              "      <td>5.637364e+00</td>\n",
              "      <td>1.293168e-01</td>\n",
              "    </tr>\n",
              "    <tr>\n",
              "      <th>min</th>\n",
              "      <td>1.000000e+00</td>\n",
              "      <td>2.457022e+01</td>\n",
              "      <td>-1.244976e+02</td>\n",
              "      <td>2.457011e+01</td>\n",
              "      <td>-1.244978e+02</td>\n",
              "      <td>0.000000e+00</td>\n",
              "      <td>0.000000e+00</td>\n",
              "      <td>-8.900000e+01</td>\n",
              "      <td>-8.900000e+01</td>\n",
              "      <td>1.000000e+00</td>\n",
              "      <td>0.000000e+00</td>\n",
              "      <td>0.000000e+00</td>\n",
              "      <td>0.000000e+00</td>\n",
              "      <td>0.000000e+00</td>\n",
              "    </tr>\n",
              "    <tr>\n",
              "      <th>25%</th>\n",
              "      <td>2.000000e+00</td>\n",
              "      <td>3.385422e+01</td>\n",
              "      <td>-1.182076e+02</td>\n",
              "      <td>3.385420e+01</td>\n",
              "      <td>-1.182077e+02</td>\n",
              "      <td>0.000000e+00</td>\n",
              "      <td>1.212000e+03</td>\n",
              "      <td>4.700000e+01</td>\n",
              "      <td>4.080000e+01</td>\n",
              "      <td>4.800000e+01</td>\n",
              "      <td>2.944000e+01</td>\n",
              "      <td>1.000000e+01</td>\n",
              "      <td>4.600000e+00</td>\n",
              "      <td>0.000000e+00</td>\n",
              "    </tr>\n",
              "    <tr>\n",
              "      <th>50%</th>\n",
              "      <td>2.000000e+00</td>\n",
              "      <td>3.735113e+01</td>\n",
              "      <td>-9.438100e+01</td>\n",
              "      <td>3.735134e+01</td>\n",
              "      <td>-9.437987e+01</td>\n",
              "      <td>1.780000e-01</td>\n",
              "      <td>4.000000e+03</td>\n",
              "      <td>6.100000e+01</td>\n",
              "      <td>5.700000e+01</td>\n",
              "      <td>6.800000e+01</td>\n",
              "      <td>2.988000e+01</td>\n",
              "      <td>1.000000e+01</td>\n",
              "      <td>7.000000e+00</td>\n",
              "      <td>0.000000e+00</td>\n",
              "    </tr>\n",
              "    <tr>\n",
              "      <th>75%</th>\n",
              "      <td>2.000000e+00</td>\n",
              "      <td>4.072593e+01</td>\n",
              "      <td>-8.087469e+01</td>\n",
              "      <td>4.072593e+01</td>\n",
              "      <td>-8.087449e+01</td>\n",
              "      <td>5.940000e-01</td>\n",
              "      <td>1.010000e+04</td>\n",
              "      <td>7.300000e+01</td>\n",
              "      <td>7.100000e+01</td>\n",
              "      <td>8.400000e+01</td>\n",
              "      <td>3.004000e+01</td>\n",
              "      <td>1.000000e+01</td>\n",
              "      <td>1.040000e+01</td>\n",
              "      <td>0.000000e+00</td>\n",
              "    </tr>\n",
              "    <tr>\n",
              "      <th>max</th>\n",
              "      <td>4.000000e+00</td>\n",
              "      <td>4.900058e+01</td>\n",
              "      <td>-6.711317e+01</td>\n",
              "      <td>4.907500e+01</td>\n",
              "      <td>-6.710924e+01</td>\n",
              "      <td>1.551860e+02</td>\n",
              "      <td>9.999997e+06</td>\n",
              "      <td>1.706000e+02</td>\n",
              "      <td>1.130000e+02</td>\n",
              "      <td>1.000000e+02</td>\n",
              "      <td>5.804000e+01</td>\n",
              "      <td>1.400000e+02</td>\n",
              "      <td>9.840000e+02</td>\n",
              "      <td>2.400000e+01</td>\n",
              "    </tr>\n",
              "  </tbody>\n",
              "</table>\n",
              "</div>"
            ],
            "text/plain": [
              "           Severity     Start_Lat  ...  Wind_Speed(mph)  Precipitation(in)\n",
              "count  1.516064e+06  1.516064e+06  ...     1.387202e+06       1.005515e+06\n",
              "mean   2.238630e+00  3.690056e+01  ...     7.630812e+00       8.477855e-03\n",
              "std    6.081481e-01  5.165653e+00  ...     5.637364e+00       1.293168e-01\n",
              "min    1.000000e+00  2.457022e+01  ...     0.000000e+00       0.000000e+00\n",
              "25%    2.000000e+00  3.385422e+01  ...     4.600000e+00       0.000000e+00\n",
              "50%    2.000000e+00  3.735113e+01  ...     7.000000e+00       0.000000e+00\n",
              "75%    2.000000e+00  4.072593e+01  ...     1.040000e+01       0.000000e+00\n",
              "max    4.000000e+00  4.900058e+01  ...     9.840000e+02       2.400000e+01\n",
              "\n",
              "[8 rows x 14 columns]"
            ]
          },
          "metadata": {},
          "execution_count": 19
        }
      ]
    },
    {
      "cell_type": "code",
      "metadata": {
        "colab": {
          "base_uri": "https://localhost:8080/"
        },
        "id": "9N1IXvTU8rrg",
        "outputId": "77af95f6-3e0d-4ab5-8398-ba011a7adf51"
      },
      "source": [
        "numerics = ['int16', 'int32', 'int64', 'float16', 'float32', 'float64']\n",
        "numeric_df = df.select_dtypes(include=numerics)\n",
        "len(numeric_df.columns)"
      ],
      "execution_count": 20,
      "outputs": [
        {
          "output_type": "execute_result",
          "data": {
            "text/plain": [
              "14"
            ]
          },
          "metadata": {},
          "execution_count": 20
        }
      ]
    },
    {
      "cell_type": "markdown",
      "metadata": {
        "id": "9-hIHIENvyCM"
      },
      "source": [
        "  ## Analysing Missing values\n",
        " - Analysing in which fields there are missing values\n",
        " - Where there is no missing value it is returned with false "
      ]
    },
    {
      "cell_type": "code",
      "metadata": {
        "id": "VIRTu8g2vao0",
        "outputId": "5f8c1db6-a9e1-4cb2-aa8e-fce2a6773b1a",
        "colab": {
          "base_uri": "https://localhost:8080/",
          "height": 437
        }
      },
      "source": [
        "df.isna()"
      ],
      "execution_count": 21,
      "outputs": [
        {
          "output_type": "execute_result",
          "data": {
            "text/html": [
              "<div>\n",
              "<style scoped>\n",
              "    .dataframe tbody tr th:only-of-type {\n",
              "        vertical-align: middle;\n",
              "    }\n",
              "\n",
              "    .dataframe tbody tr th {\n",
              "        vertical-align: top;\n",
              "    }\n",
              "\n",
              "    .dataframe thead th {\n",
              "        text-align: right;\n",
              "    }\n",
              "</style>\n",
              "<table border=\"1\" class=\"dataframe\">\n",
              "  <thead>\n",
              "    <tr style=\"text-align: right;\">\n",
              "      <th></th>\n",
              "      <th>ID</th>\n",
              "      <th>Severity</th>\n",
              "      <th>Start_Time</th>\n",
              "      <th>End_Time</th>\n",
              "      <th>Start_Lat</th>\n",
              "      <th>Start_Lng</th>\n",
              "      <th>End_Lat</th>\n",
              "      <th>End_Lng</th>\n",
              "      <th>Distance(mi)</th>\n",
              "      <th>Description</th>\n",
              "      <th>Number</th>\n",
              "      <th>Street</th>\n",
              "      <th>Side</th>\n",
              "      <th>City</th>\n",
              "      <th>County</th>\n",
              "      <th>State</th>\n",
              "      <th>Zipcode</th>\n",
              "      <th>Country</th>\n",
              "      <th>Timezone</th>\n",
              "      <th>Airport_Code</th>\n",
              "      <th>Weather_Timestamp</th>\n",
              "      <th>Temperature(F)</th>\n",
              "      <th>Wind_Chill(F)</th>\n",
              "      <th>Humidity(%)</th>\n",
              "      <th>Pressure(in)</th>\n",
              "      <th>Visibility(mi)</th>\n",
              "      <th>Wind_Direction</th>\n",
              "      <th>Wind_Speed(mph)</th>\n",
              "      <th>Precipitation(in)</th>\n",
              "      <th>Weather_Condition</th>\n",
              "      <th>Amenity</th>\n",
              "      <th>Bump</th>\n",
              "      <th>Crossing</th>\n",
              "      <th>Give_Way</th>\n",
              "      <th>Junction</th>\n",
              "      <th>No_Exit</th>\n",
              "      <th>Railway</th>\n",
              "      <th>Roundabout</th>\n",
              "      <th>Station</th>\n",
              "      <th>Stop</th>\n",
              "      <th>Traffic_Calming</th>\n",
              "      <th>Traffic_Signal</th>\n",
              "      <th>Turning_Loop</th>\n",
              "      <th>Sunrise_Sunset</th>\n",
              "      <th>Civil_Twilight</th>\n",
              "      <th>Nautical_Twilight</th>\n",
              "      <th>Astronomical_Twilight</th>\n",
              "    </tr>\n",
              "  </thead>\n",
              "  <tbody>\n",
              "    <tr>\n",
              "      <th>0</th>\n",
              "      <td>False</td>\n",
              "      <td>False</td>\n",
              "      <td>False</td>\n",
              "      <td>False</td>\n",
              "      <td>False</td>\n",
              "      <td>False</td>\n",
              "      <td>False</td>\n",
              "      <td>False</td>\n",
              "      <td>False</td>\n",
              "      <td>False</td>\n",
              "      <td>True</td>\n",
              "      <td>False</td>\n",
              "      <td>False</td>\n",
              "      <td>False</td>\n",
              "      <td>False</td>\n",
              "      <td>False</td>\n",
              "      <td>False</td>\n",
              "      <td>False</td>\n",
              "      <td>False</td>\n",
              "      <td>False</td>\n",
              "      <td>False</td>\n",
              "      <td>False</td>\n",
              "      <td>False</td>\n",
              "      <td>False</td>\n",
              "      <td>False</td>\n",
              "      <td>False</td>\n",
              "      <td>False</td>\n",
              "      <td>False</td>\n",
              "      <td>False</td>\n",
              "      <td>False</td>\n",
              "      <td>False</td>\n",
              "      <td>False</td>\n",
              "      <td>False</td>\n",
              "      <td>False</td>\n",
              "      <td>False</td>\n",
              "      <td>False</td>\n",
              "      <td>False</td>\n",
              "      <td>False</td>\n",
              "      <td>False</td>\n",
              "      <td>False</td>\n",
              "      <td>False</td>\n",
              "      <td>False</td>\n",
              "      <td>False</td>\n",
              "      <td>False</td>\n",
              "      <td>False</td>\n",
              "      <td>False</td>\n",
              "      <td>False</td>\n",
              "    </tr>\n",
              "    <tr>\n",
              "      <th>1</th>\n",
              "      <td>False</td>\n",
              "      <td>False</td>\n",
              "      <td>False</td>\n",
              "      <td>False</td>\n",
              "      <td>False</td>\n",
              "      <td>False</td>\n",
              "      <td>False</td>\n",
              "      <td>False</td>\n",
              "      <td>False</td>\n",
              "      <td>False</td>\n",
              "      <td>True</td>\n",
              "      <td>False</td>\n",
              "      <td>False</td>\n",
              "      <td>False</td>\n",
              "      <td>False</td>\n",
              "      <td>False</td>\n",
              "      <td>False</td>\n",
              "      <td>False</td>\n",
              "      <td>False</td>\n",
              "      <td>False</td>\n",
              "      <td>False</td>\n",
              "      <td>False</td>\n",
              "      <td>True</td>\n",
              "      <td>False</td>\n",
              "      <td>False</td>\n",
              "      <td>False</td>\n",
              "      <td>False</td>\n",
              "      <td>True</td>\n",
              "      <td>False</td>\n",
              "      <td>False</td>\n",
              "      <td>False</td>\n",
              "      <td>False</td>\n",
              "      <td>False</td>\n",
              "      <td>False</td>\n",
              "      <td>False</td>\n",
              "      <td>False</td>\n",
              "      <td>False</td>\n",
              "      <td>False</td>\n",
              "      <td>False</td>\n",
              "      <td>False</td>\n",
              "      <td>False</td>\n",
              "      <td>False</td>\n",
              "      <td>False</td>\n",
              "      <td>False</td>\n",
              "      <td>False</td>\n",
              "      <td>False</td>\n",
              "      <td>False</td>\n",
              "    </tr>\n",
              "    <tr>\n",
              "      <th>2</th>\n",
              "      <td>False</td>\n",
              "      <td>False</td>\n",
              "      <td>False</td>\n",
              "      <td>False</td>\n",
              "      <td>False</td>\n",
              "      <td>False</td>\n",
              "      <td>False</td>\n",
              "      <td>False</td>\n",
              "      <td>False</td>\n",
              "      <td>False</td>\n",
              "      <td>True</td>\n",
              "      <td>False</td>\n",
              "      <td>False</td>\n",
              "      <td>False</td>\n",
              "      <td>False</td>\n",
              "      <td>False</td>\n",
              "      <td>False</td>\n",
              "      <td>False</td>\n",
              "      <td>False</td>\n",
              "      <td>False</td>\n",
              "      <td>False</td>\n",
              "      <td>False</td>\n",
              "      <td>True</td>\n",
              "      <td>False</td>\n",
              "      <td>False</td>\n",
              "      <td>False</td>\n",
              "      <td>False</td>\n",
              "      <td>True</td>\n",
              "      <td>False</td>\n",
              "      <td>False</td>\n",
              "      <td>False</td>\n",
              "      <td>False</td>\n",
              "      <td>False</td>\n",
              "      <td>False</td>\n",
              "      <td>False</td>\n",
              "      <td>False</td>\n",
              "      <td>False</td>\n",
              "      <td>False</td>\n",
              "      <td>False</td>\n",
              "      <td>False</td>\n",
              "      <td>False</td>\n",
              "      <td>False</td>\n",
              "      <td>False</td>\n",
              "      <td>False</td>\n",
              "      <td>False</td>\n",
              "      <td>False</td>\n",
              "      <td>False</td>\n",
              "    </tr>\n",
              "    <tr>\n",
              "      <th>3</th>\n",
              "      <td>False</td>\n",
              "      <td>False</td>\n",
              "      <td>False</td>\n",
              "      <td>False</td>\n",
              "      <td>False</td>\n",
              "      <td>False</td>\n",
              "      <td>False</td>\n",
              "      <td>False</td>\n",
              "      <td>False</td>\n",
              "      <td>False</td>\n",
              "      <td>True</td>\n",
              "      <td>False</td>\n",
              "      <td>False</td>\n",
              "      <td>False</td>\n",
              "      <td>False</td>\n",
              "      <td>False</td>\n",
              "      <td>False</td>\n",
              "      <td>False</td>\n",
              "      <td>False</td>\n",
              "      <td>False</td>\n",
              "      <td>False</td>\n",
              "      <td>False</td>\n",
              "      <td>True</td>\n",
              "      <td>False</td>\n",
              "      <td>False</td>\n",
              "      <td>False</td>\n",
              "      <td>False</td>\n",
              "      <td>True</td>\n",
              "      <td>False</td>\n",
              "      <td>False</td>\n",
              "      <td>False</td>\n",
              "      <td>False</td>\n",
              "      <td>False</td>\n",
              "      <td>False</td>\n",
              "      <td>False</td>\n",
              "      <td>False</td>\n",
              "      <td>False</td>\n",
              "      <td>False</td>\n",
              "      <td>False</td>\n",
              "      <td>False</td>\n",
              "      <td>False</td>\n",
              "      <td>False</td>\n",
              "      <td>False</td>\n",
              "      <td>False</td>\n",
              "      <td>False</td>\n",
              "      <td>False</td>\n",
              "      <td>False</td>\n",
              "    </tr>\n",
              "    <tr>\n",
              "      <th>4</th>\n",
              "      <td>False</td>\n",
              "      <td>False</td>\n",
              "      <td>False</td>\n",
              "      <td>False</td>\n",
              "      <td>False</td>\n",
              "      <td>False</td>\n",
              "      <td>False</td>\n",
              "      <td>False</td>\n",
              "      <td>False</td>\n",
              "      <td>False</td>\n",
              "      <td>True</td>\n",
              "      <td>False</td>\n",
              "      <td>False</td>\n",
              "      <td>False</td>\n",
              "      <td>False</td>\n",
              "      <td>False</td>\n",
              "      <td>False</td>\n",
              "      <td>False</td>\n",
              "      <td>False</td>\n",
              "      <td>False</td>\n",
              "      <td>False</td>\n",
              "      <td>False</td>\n",
              "      <td>True</td>\n",
              "      <td>False</td>\n",
              "      <td>False</td>\n",
              "      <td>False</td>\n",
              "      <td>False</td>\n",
              "      <td>True</td>\n",
              "      <td>True</td>\n",
              "      <td>False</td>\n",
              "      <td>False</td>\n",
              "      <td>False</td>\n",
              "      <td>False</td>\n",
              "      <td>False</td>\n",
              "      <td>False</td>\n",
              "      <td>False</td>\n",
              "      <td>False</td>\n",
              "      <td>False</td>\n",
              "      <td>False</td>\n",
              "      <td>False</td>\n",
              "      <td>False</td>\n",
              "      <td>False</td>\n",
              "      <td>False</td>\n",
              "      <td>False</td>\n",
              "      <td>False</td>\n",
              "      <td>False</td>\n",
              "      <td>False</td>\n",
              "    </tr>\n",
              "    <tr>\n",
              "      <th>...</th>\n",
              "      <td>...</td>\n",
              "      <td>...</td>\n",
              "      <td>...</td>\n",
              "      <td>...</td>\n",
              "      <td>...</td>\n",
              "      <td>...</td>\n",
              "      <td>...</td>\n",
              "      <td>...</td>\n",
              "      <td>...</td>\n",
              "      <td>...</td>\n",
              "      <td>...</td>\n",
              "      <td>...</td>\n",
              "      <td>...</td>\n",
              "      <td>...</td>\n",
              "      <td>...</td>\n",
              "      <td>...</td>\n",
              "      <td>...</td>\n",
              "      <td>...</td>\n",
              "      <td>...</td>\n",
              "      <td>...</td>\n",
              "      <td>...</td>\n",
              "      <td>...</td>\n",
              "      <td>...</td>\n",
              "      <td>...</td>\n",
              "      <td>...</td>\n",
              "      <td>...</td>\n",
              "      <td>...</td>\n",
              "      <td>...</td>\n",
              "      <td>...</td>\n",
              "      <td>...</td>\n",
              "      <td>...</td>\n",
              "      <td>...</td>\n",
              "      <td>...</td>\n",
              "      <td>...</td>\n",
              "      <td>...</td>\n",
              "      <td>...</td>\n",
              "      <td>...</td>\n",
              "      <td>...</td>\n",
              "      <td>...</td>\n",
              "      <td>...</td>\n",
              "      <td>...</td>\n",
              "      <td>...</td>\n",
              "      <td>...</td>\n",
              "      <td>...</td>\n",
              "      <td>...</td>\n",
              "      <td>...</td>\n",
              "      <td>...</td>\n",
              "    </tr>\n",
              "    <tr>\n",
              "      <th>1516059</th>\n",
              "      <td>False</td>\n",
              "      <td>False</td>\n",
              "      <td>False</td>\n",
              "      <td>False</td>\n",
              "      <td>False</td>\n",
              "      <td>False</td>\n",
              "      <td>False</td>\n",
              "      <td>False</td>\n",
              "      <td>False</td>\n",
              "      <td>False</td>\n",
              "      <td>True</td>\n",
              "      <td>False</td>\n",
              "      <td>False</td>\n",
              "      <td>False</td>\n",
              "      <td>False</td>\n",
              "      <td>False</td>\n",
              "      <td>False</td>\n",
              "      <td>False</td>\n",
              "      <td>False</td>\n",
              "      <td>False</td>\n",
              "      <td>False</td>\n",
              "      <td>False</td>\n",
              "      <td>False</td>\n",
              "      <td>False</td>\n",
              "      <td>False</td>\n",
              "      <td>False</td>\n",
              "      <td>False</td>\n",
              "      <td>False</td>\n",
              "      <td>False</td>\n",
              "      <td>False</td>\n",
              "      <td>False</td>\n",
              "      <td>False</td>\n",
              "      <td>False</td>\n",
              "      <td>False</td>\n",
              "      <td>False</td>\n",
              "      <td>False</td>\n",
              "      <td>False</td>\n",
              "      <td>False</td>\n",
              "      <td>False</td>\n",
              "      <td>False</td>\n",
              "      <td>False</td>\n",
              "      <td>False</td>\n",
              "      <td>False</td>\n",
              "      <td>False</td>\n",
              "      <td>False</td>\n",
              "      <td>False</td>\n",
              "      <td>False</td>\n",
              "    </tr>\n",
              "    <tr>\n",
              "      <th>1516060</th>\n",
              "      <td>False</td>\n",
              "      <td>False</td>\n",
              "      <td>False</td>\n",
              "      <td>False</td>\n",
              "      <td>False</td>\n",
              "      <td>False</td>\n",
              "      <td>False</td>\n",
              "      <td>False</td>\n",
              "      <td>False</td>\n",
              "      <td>False</td>\n",
              "      <td>True</td>\n",
              "      <td>False</td>\n",
              "      <td>False</td>\n",
              "      <td>False</td>\n",
              "      <td>False</td>\n",
              "      <td>False</td>\n",
              "      <td>False</td>\n",
              "      <td>False</td>\n",
              "      <td>False</td>\n",
              "      <td>False</td>\n",
              "      <td>False</td>\n",
              "      <td>False</td>\n",
              "      <td>False</td>\n",
              "      <td>False</td>\n",
              "      <td>False</td>\n",
              "      <td>False</td>\n",
              "      <td>False</td>\n",
              "      <td>False</td>\n",
              "      <td>False</td>\n",
              "      <td>False</td>\n",
              "      <td>False</td>\n",
              "      <td>False</td>\n",
              "      <td>False</td>\n",
              "      <td>False</td>\n",
              "      <td>False</td>\n",
              "      <td>False</td>\n",
              "      <td>False</td>\n",
              "      <td>False</td>\n",
              "      <td>False</td>\n",
              "      <td>False</td>\n",
              "      <td>False</td>\n",
              "      <td>False</td>\n",
              "      <td>False</td>\n",
              "      <td>False</td>\n",
              "      <td>False</td>\n",
              "      <td>False</td>\n",
              "      <td>False</td>\n",
              "    </tr>\n",
              "    <tr>\n",
              "      <th>1516061</th>\n",
              "      <td>False</td>\n",
              "      <td>False</td>\n",
              "      <td>False</td>\n",
              "      <td>False</td>\n",
              "      <td>False</td>\n",
              "      <td>False</td>\n",
              "      <td>False</td>\n",
              "      <td>False</td>\n",
              "      <td>False</td>\n",
              "      <td>False</td>\n",
              "      <td>True</td>\n",
              "      <td>False</td>\n",
              "      <td>False</td>\n",
              "      <td>False</td>\n",
              "      <td>False</td>\n",
              "      <td>False</td>\n",
              "      <td>False</td>\n",
              "      <td>False</td>\n",
              "      <td>False</td>\n",
              "      <td>False</td>\n",
              "      <td>False</td>\n",
              "      <td>False</td>\n",
              "      <td>False</td>\n",
              "      <td>False</td>\n",
              "      <td>False</td>\n",
              "      <td>False</td>\n",
              "      <td>False</td>\n",
              "      <td>False</td>\n",
              "      <td>False</td>\n",
              "      <td>False</td>\n",
              "      <td>False</td>\n",
              "      <td>False</td>\n",
              "      <td>False</td>\n",
              "      <td>False</td>\n",
              "      <td>False</td>\n",
              "      <td>False</td>\n",
              "      <td>False</td>\n",
              "      <td>False</td>\n",
              "      <td>False</td>\n",
              "      <td>False</td>\n",
              "      <td>False</td>\n",
              "      <td>False</td>\n",
              "      <td>False</td>\n",
              "      <td>False</td>\n",
              "      <td>False</td>\n",
              "      <td>False</td>\n",
              "      <td>False</td>\n",
              "    </tr>\n",
              "    <tr>\n",
              "      <th>1516062</th>\n",
              "      <td>False</td>\n",
              "      <td>False</td>\n",
              "      <td>False</td>\n",
              "      <td>False</td>\n",
              "      <td>False</td>\n",
              "      <td>False</td>\n",
              "      <td>False</td>\n",
              "      <td>False</td>\n",
              "      <td>False</td>\n",
              "      <td>False</td>\n",
              "      <td>True</td>\n",
              "      <td>False</td>\n",
              "      <td>False</td>\n",
              "      <td>False</td>\n",
              "      <td>False</td>\n",
              "      <td>False</td>\n",
              "      <td>False</td>\n",
              "      <td>False</td>\n",
              "      <td>False</td>\n",
              "      <td>False</td>\n",
              "      <td>False</td>\n",
              "      <td>False</td>\n",
              "      <td>False</td>\n",
              "      <td>False</td>\n",
              "      <td>False</td>\n",
              "      <td>False</td>\n",
              "      <td>False</td>\n",
              "      <td>False</td>\n",
              "      <td>False</td>\n",
              "      <td>False</td>\n",
              "      <td>False</td>\n",
              "      <td>False</td>\n",
              "      <td>False</td>\n",
              "      <td>False</td>\n",
              "      <td>False</td>\n",
              "      <td>False</td>\n",
              "      <td>False</td>\n",
              "      <td>False</td>\n",
              "      <td>False</td>\n",
              "      <td>False</td>\n",
              "      <td>False</td>\n",
              "      <td>False</td>\n",
              "      <td>False</td>\n",
              "      <td>False</td>\n",
              "      <td>False</td>\n",
              "      <td>False</td>\n",
              "      <td>False</td>\n",
              "    </tr>\n",
              "    <tr>\n",
              "      <th>1516063</th>\n",
              "      <td>False</td>\n",
              "      <td>False</td>\n",
              "      <td>False</td>\n",
              "      <td>False</td>\n",
              "      <td>False</td>\n",
              "      <td>False</td>\n",
              "      <td>False</td>\n",
              "      <td>False</td>\n",
              "      <td>False</td>\n",
              "      <td>False</td>\n",
              "      <td>True</td>\n",
              "      <td>False</td>\n",
              "      <td>False</td>\n",
              "      <td>False</td>\n",
              "      <td>False</td>\n",
              "      <td>False</td>\n",
              "      <td>False</td>\n",
              "      <td>False</td>\n",
              "      <td>False</td>\n",
              "      <td>False</td>\n",
              "      <td>False</td>\n",
              "      <td>False</td>\n",
              "      <td>False</td>\n",
              "      <td>False</td>\n",
              "      <td>False</td>\n",
              "      <td>False</td>\n",
              "      <td>False</td>\n",
              "      <td>False</td>\n",
              "      <td>False</td>\n",
              "      <td>False</td>\n",
              "      <td>False</td>\n",
              "      <td>False</td>\n",
              "      <td>False</td>\n",
              "      <td>False</td>\n",
              "      <td>False</td>\n",
              "      <td>False</td>\n",
              "      <td>False</td>\n",
              "      <td>False</td>\n",
              "      <td>False</td>\n",
              "      <td>False</td>\n",
              "      <td>False</td>\n",
              "      <td>False</td>\n",
              "      <td>False</td>\n",
              "      <td>False</td>\n",
              "      <td>False</td>\n",
              "      <td>False</td>\n",
              "      <td>False</td>\n",
              "    </tr>\n",
              "  </tbody>\n",
              "</table>\n",
              "<p>1516064 rows × 47 columns</p>\n",
              "</div>"
            ],
            "text/plain": [
              "            ID  Severity  ...  Nautical_Twilight  Astronomical_Twilight\n",
              "0        False     False  ...              False                  False\n",
              "1        False     False  ...              False                  False\n",
              "2        False     False  ...              False                  False\n",
              "3        False     False  ...              False                  False\n",
              "4        False     False  ...              False                  False\n",
              "...        ...       ...  ...                ...                    ...\n",
              "1516059  False     False  ...              False                  False\n",
              "1516060  False     False  ...              False                  False\n",
              "1516061  False     False  ...              False                  False\n",
              "1516062  False     False  ...              False                  False\n",
              "1516063  False     False  ...              False                  False\n",
              "\n",
              "[1516064 rows x 47 columns]"
            ]
          },
          "metadata": {},
          "execution_count": 21
        }
      ]
    },
    {
      "cell_type": "code",
      "metadata": {
        "id": "6djaOtOevkld",
        "outputId": "1be33bef-5a45-4672-9d4b-9380977b7ede",
        "colab": {
          "base_uri": "https://localhost:8080/"
        }
      },
      "source": [
        "df.isna().sum()"
      ],
      "execution_count": 22,
      "outputs": [
        {
          "output_type": "execute_result",
          "data": {
            "text/plain": [
              "ID                             0\n",
              "Severity                       0\n",
              "Start_Time                     0\n",
              "End_Time                       0\n",
              "Start_Lat                      0\n",
              "Start_Lng                      0\n",
              "End_Lat                        0\n",
              "End_Lng                        0\n",
              "Distance(mi)                   0\n",
              "Description                    0\n",
              "Number                   1046095\n",
              "Street                         0\n",
              "Side                           0\n",
              "City                          83\n",
              "County                         0\n",
              "State                          0\n",
              "Zipcode                      935\n",
              "Country                        0\n",
              "Timezone                    2302\n",
              "Airport_Code                4248\n",
              "Weather_Timestamp          30264\n",
              "Temperature(F)             43033\n",
              "Wind_Chill(F)             449316\n",
              "Humidity(%)                45509\n",
              "Pressure(in)               36274\n",
              "Visibility(mi)             44211\n",
              "Wind_Direction             41858\n",
              "Wind_Speed(mph)           128862\n",
              "Precipitation(in)         510549\n",
              "Weather_Condition          44007\n",
              "Amenity                        0\n",
              "Bump                           0\n",
              "Crossing                       0\n",
              "Give_Way                       0\n",
              "Junction                       0\n",
              "No_Exit                        0\n",
              "Railway                        0\n",
              "Roundabout                     0\n",
              "Station                        0\n",
              "Stop                           0\n",
              "Traffic_Calming                0\n",
              "Traffic_Signal                 0\n",
              "Turning_Loop                   0\n",
              "Sunrise_Sunset                83\n",
              "Civil_Twilight                83\n",
              "Nautical_Twilight             83\n",
              "Astronomical_Twilight         83\n",
              "dtype: int64"
            ]
          },
          "metadata": {},
          "execution_count": 22
        }
      ]
    },
    {
      "cell_type": "code",
      "metadata": {
        "colab": {
          "base_uri": "https://localhost:8080/"
        },
        "id": "CNXIxO-29qE0",
        "outputId": "560a7447-46e8-42cd-eaf7-dcf46353bf75"
      },
      "source": [
        "missing_percentages=df.isna().sum().sort_values(ascending=False)/ len(df)\n",
        "missing_percentages"
      ],
      "execution_count": 23,
      "outputs": [
        {
          "output_type": "execute_result",
          "data": {
            "text/plain": [
              "Number                   0.690007\n",
              "Precipitation(in)        0.336760\n",
              "Wind_Chill(F)            0.296370\n",
              "Wind_Speed(mph)          0.084998\n",
              "Humidity(%)              0.030018\n",
              "Visibility(mi)           0.029162\n",
              "Weather_Condition        0.029027\n",
              "Temperature(F)           0.028385\n",
              "Wind_Direction           0.027610\n",
              "Pressure(in)             0.023926\n",
              "Weather_Timestamp        0.019962\n",
              "Airport_Code             0.002802\n",
              "Timezone                 0.001518\n",
              "Zipcode                  0.000617\n",
              "City                     0.000055\n",
              "Nautical_Twilight        0.000055\n",
              "Astronomical_Twilight    0.000055\n",
              "Civil_Twilight           0.000055\n",
              "Sunrise_Sunset           0.000055\n",
              "Amenity                  0.000000\n",
              "Bump                     0.000000\n",
              "Severity                 0.000000\n",
              "Start_Time               0.000000\n",
              "End_Time                 0.000000\n",
              "Start_Lat                0.000000\n",
              "Start_Lng                0.000000\n",
              "End_Lat                  0.000000\n",
              "End_Lng                  0.000000\n",
              "Distance(mi)             0.000000\n",
              "Description              0.000000\n",
              "Street                   0.000000\n",
              "Side                     0.000000\n",
              "County                   0.000000\n",
              "State                    0.000000\n",
              "Turning_Loop             0.000000\n",
              "Country                  0.000000\n",
              "Traffic_Signal           0.000000\n",
              "Traffic_Calming          0.000000\n",
              "Stop                     0.000000\n",
              "Station                  0.000000\n",
              "Roundabout               0.000000\n",
              "Railway                  0.000000\n",
              "No_Exit                  0.000000\n",
              "Junction                 0.000000\n",
              "Give_Way                 0.000000\n",
              "Crossing                 0.000000\n",
              "ID                       0.000000\n",
              "dtype: float64"
            ]
          },
          "metadata": {},
          "execution_count": 23
        }
      ]
    },
    {
      "cell_type": "code",
      "metadata": {
        "colab": {
          "base_uri": "https://localhost:8080/"
        },
        "id": "8HJG97NsD2kr",
        "outputId": "7d38768e-5655-44ab-ebef-6a8936663195"
      },
      "source": [
        "missing_percentages!= 0"
      ],
      "execution_count": 24,
      "outputs": [
        {
          "output_type": "execute_result",
          "data": {
            "text/plain": [
              "Number                    True\n",
              "Precipitation(in)         True\n",
              "Wind_Chill(F)             True\n",
              "Wind_Speed(mph)           True\n",
              "Humidity(%)               True\n",
              "Visibility(mi)            True\n",
              "Weather_Condition         True\n",
              "Temperature(F)            True\n",
              "Wind_Direction            True\n",
              "Pressure(in)              True\n",
              "Weather_Timestamp         True\n",
              "Airport_Code              True\n",
              "Timezone                  True\n",
              "Zipcode                   True\n",
              "City                      True\n",
              "Nautical_Twilight         True\n",
              "Astronomical_Twilight     True\n",
              "Civil_Twilight            True\n",
              "Sunrise_Sunset            True\n",
              "Amenity                  False\n",
              "Bump                     False\n",
              "Severity                 False\n",
              "Start_Time               False\n",
              "End_Time                 False\n",
              "Start_Lat                False\n",
              "Start_Lng                False\n",
              "End_Lat                  False\n",
              "End_Lng                  False\n",
              "Distance(mi)             False\n",
              "Description              False\n",
              "Street                   False\n",
              "Side                     False\n",
              "County                   False\n",
              "State                    False\n",
              "Turning_Loop             False\n",
              "Country                  False\n",
              "Traffic_Signal           False\n",
              "Traffic_Calming          False\n",
              "Stop                     False\n",
              "Station                  False\n",
              "Roundabout               False\n",
              "Railway                  False\n",
              "No_Exit                  False\n",
              "Junction                 False\n",
              "Give_Way                 False\n",
              "Crossing                 False\n",
              "ID                       False\n",
              "dtype: bool"
            ]
          },
          "metadata": {},
          "execution_count": 24
        }
      ]
    },
    {
      "cell_type": "code",
      "metadata": {
        "colab": {
          "base_uri": "https://localhost:8080/"
        },
        "id": "CzGfzUJp_dsy",
        "outputId": "b6983f1c-7806-4a47-d7d2-633bbc32ed13"
      },
      "source": [
        "type(missing_percentages)"
      ],
      "execution_count": 25,
      "outputs": [
        {
          "output_type": "execute_result",
          "data": {
            "text/plain": [
              "pandas.core.series.Series"
            ]
          },
          "metadata": {},
          "execution_count": 25
        }
      ]
    },
    {
      "cell_type": "code",
      "metadata": {
        "colab": {
          "base_uri": "https://localhost:8080/",
          "height": 282
        },
        "id": "Y6z7Kt4-_JoJ",
        "outputId": "bd7810c2-c2a9-42a0-f6dd-f02a45e55393"
      },
      "source": [
        "missing_percentages[missing_percentages!= 0].plot(kind='barh')"
      ],
      "execution_count": 26,
      "outputs": [
        {
          "output_type": "execute_result",
          "data": {
            "text/plain": [
              "<matplotlib.axes._subplots.AxesSubplot at 0x7f35921bc3d0>"
            ]
          },
          "metadata": {},
          "execution_count": 26
        },
        {
          "output_type": "display_data",
          "data": {
            "image/png": "[encoded data removed]",
            "text/plain": [
              "<Figure size 432x288 with 1 Axes>"
            ]
          },
          "metadata": {
            "needs_background": "light"
          }
        }
      ]
    },
    {
      "cell_type": "markdown",
      "metadata": {
        "id": "TL7whHjoFco_"
      },
      "source": [
        " Remove columns that you don't want to use."
      ]
    },
    {
      "cell_type": "markdown",
      "metadata": {
        "id": "IiIDFvLeFq6P"
      },
      "source": [
        "## Exploratory Analysis & Visualisation\n",
        "\n",
        "1. City\n",
        "2. Start Time\n",
        "3. Start Lat, Start Lng\n",
        "4. Temperature\n",
        "5. Weather Condition"
      ]
    },
    {
      "cell_type": "code",
      "metadata": {
        "colab": {
          "base_uri": "https://localhost:8080/"
        },
        "id": "gKoDaUahFzLb",
        "outputId": "a7f778e0-e2fc-4027-a314-131c17fa57b4"
      },
      "source": [
        "df.columns"
      ],
      "execution_count": 27,
      "outputs": [
        {
          "output_type": "execute_result",
          "data": {
            "text/plain": [
              "Index(['ID', 'Severity', 'Start_Time', 'End_Time', 'Start_Lat', 'Start_Lng',\n",
              "       'End_Lat', 'End_Lng', 'Distance(mi)', 'Description', 'Number', 'Street',\n",
              "       'Side', 'City', 'County', 'State', 'Zipcode', 'Country', 'Timezone',\n",
              "       'Airport_Code', 'Weather_Timestamp', 'Temperature(F)', 'Wind_Chill(F)',\n",
              "       'Humidity(%)', 'Pressure(in)', 'Visibility(mi)', 'Wind_Direction',\n",
              "       'Wind_Speed(mph)', 'Precipitation(in)', 'Weather_Condition', 'Amenity',\n",
              "       'Bump', 'Crossing', 'Give_Way', 'Junction', 'No_Exit', 'Railway',\n",
              "       'Roundabout', 'Station', 'Stop', 'Traffic_Calming', 'Traffic_Signal',\n",
              "       'Turning_Loop', 'Sunrise_Sunset', 'Civil_Twilight', 'Nautical_Twilight',\n",
              "       'Astronomical_Twilight'],\n",
              "      dtype='object')"
            ]
          },
          "metadata": {},
          "execution_count": 27
        }
      ]
    },
    {
      "cell_type": "code",
      "metadata": {
        "colab": {
          "base_uri": "https://localhost:8080/"
        },
        "id": "JnJPgDQbHb_p",
        "outputId": "1c6baf5d-75a4-488f-fc64-0f6550d8c692"
      },
      "source": [
        "df.City"
      ],
      "execution_count": 28,
      "outputs": [
        {
          "output_type": "execute_result",
          "data": {
            "text/plain": [
              "0               Dublin\n",
              "1               Dayton\n",
              "2           Cincinnati\n",
              "3           Cincinnati\n",
              "4                Akron\n",
              "              ...     \n",
              "1516059      Riverside\n",
              "1516060      San Diego\n",
              "1516061         Orange\n",
              "1516062    Culver City\n",
              "1516063       Highland\n",
              "Name: City, Length: 1516064, dtype: object"
            ]
          },
          "metadata": {},
          "execution_count": 28
        }
      ]
    },
    {
      "cell_type": "code",
      "metadata": {
        "colab": {
          "base_uri": "https://localhost:8080/"
        },
        "id": "Nixca2L9Ht_S",
        "outputId": "65b0d1d8-51c1-4d59-f91f-4c6b7d8cd4b0"
      },
      "source": [
        "cities = df.City.unique()\n",
        "len(cities)"
      ],
      "execution_count": 29,
      "outputs": [
        {
          "output_type": "execute_result",
          "data": {
            "text/plain": [
              "10658"
            ]
          },
          "metadata": {},
          "execution_count": 29
        }
      ]
    },
    {
      "cell_type": "code",
      "metadata": {
        "colab": {
          "base_uri": "https://localhost:8080/"
        },
        "id": "28RlhiBoKEik",
        "outputId": "84552502-da3a-4a69-95d7-1b8c390331ec"
      },
      "source": [
        "Cities_by_accidents=df.City.value_counts()\n",
        "Cities_by_accidents"
      ],
      "execution_count": 30,
      "outputs": [
        {
          "output_type": "execute_result",
          "data": {
            "text/plain": [
              "Los Angeles      39984\n",
              "Miami            36233\n",
              "Charlotte        22203\n",
              "Houston          20843\n",
              "Dallas           19497\n",
              "                 ...  \n",
              "Alcova               1\n",
              "Kentwood             1\n",
              "Bretton Woods        1\n",
              "Glenwood City        1\n",
              "Alba                 1\n",
              "Name: City, Length: 10657, dtype: int64"
            ]
          },
          "metadata": {},
          "execution_count": 30
        }
      ]
    },
    {
      "cell_type": "code",
      "metadata": {
        "colab": {
          "base_uri": "https://localhost:8080/"
        },
        "id": "6UAVusLdDJG4",
        "outputId": "62670eca-973f-4ed2-e86f-24b2cb114be0"
      },
      "source": [
        "Cities_by_accidents[ :20 ]"
      ],
      "execution_count": 31,
      "outputs": [
        {
          "output_type": "execute_result",
          "data": {
            "text/plain": [
              "Los Angeles     39984\n",
              "Miami           36233\n",
              "Charlotte       22203\n",
              "Houston         20843\n",
              "Dallas          19497\n",
              "Sacramento      18431\n",
              "Orlando         16169\n",
              "Portland        14805\n",
              "San Diego       14090\n",
              "Minneapolis     12653\n",
              "Atlanta         11854\n",
              "Chicago         11507\n",
              "Saint Paul      10084\n",
              "Phoenix          9934\n",
              "Raleigh          9516\n",
              "San Jose         9362\n",
              "Richmond         8472\n",
              "Nashville        8381\n",
              "Riverside        8201\n",
              "Jacksonville     7815\n",
              "Name: City, dtype: int64"
            ]
          },
          "metadata": {},
          "execution_count": 31
        }
      ]
    },
    {
      "cell_type": "code",
      "metadata": {
        "colab": {
          "base_uri": "https://localhost:8080/"
        },
        "id": "fAzMXPhvIslE",
        "outputId": "f1ea7d4f-34e2-4bf5-9ffc-fb4bfb94fdab"
      },
      "source": [
        "type(Cities_by_accidents)"
      ],
      "execution_count": 32,
      "outputs": [
        {
          "output_type": "execute_result",
          "data": {
            "text/plain": [
              "pandas.core.series.Series"
            ]
          },
          "metadata": {},
          "execution_count": 32
        }
      ]
    },
    {
      "cell_type": "code",
      "metadata": {
        "colab": {
          "base_uri": "https://localhost:8080/",
          "height": 282
        },
        "id": "sK8iF0p4HBms",
        "outputId": "efbcc667-d1ae-454a-96e9-b32a6c22bdcb"
      },
      "source": [
        "Cities_by_accidents[:20].plot( kind = 'barh')"
      ],
      "execution_count": 33,
      "outputs": [
        {
          "output_type": "execute_result",
          "data": {
            "text/plain": [
              "<matplotlib.axes._subplots.AxesSubplot at 0x7f3592119c90>"
            ]
          },
          "metadata": {},
          "execution_count": 33
        },
        {
          "output_type": "display_data",
          "data": {
            "image/png": "[encoded data removed]",
            "text/plain": [
              "<Figure size 432x288 with 1 Axes>"
            ]
          },
          "metadata": {
            "needs_background": "light"
          }
        }
      ]
    },
    {
      "cell_type": "code",
      "metadata": {
        "id": "ddw7NGvvI5Ph"
      },
      "source": [
        "import seaborn as sns\n",
        "sns.set_style(\"darkgrid\")"
      ],
      "execution_count": 34,
      "outputs": []
    },
    {
      "cell_type": "code",
      "metadata": {
        "colab": {
          "base_uri": "https://localhost:8080/",
          "height": 300
        },
        "id": "sMf3Op67JJ0w",
        "outputId": "41175404-4498-41dd-cc74-17df1909bf88"
      },
      "source": [
        "sns.histplot(Cities_by_accidents, log_scale= True)"
      ],
      "execution_count": 35,
      "outputs": [
        {
          "output_type": "execute_result",
          "data": {
            "text/plain": [
              "<matplotlib.axes._subplots.AxesSubplot at 0x7f3591c11b90>"
            ]
          },
          "metadata": {},
          "execution_count": 35
        },
        {
          "output_type": "display_data",
          "data": {
            "image/png": "[encoded data removed]",
            "text/plain": [
              "<Figure size 432x288 with 1 Axes>"
            ]
          },
          "metadata": {}
        }
      ]
    },
    {
      "cell_type": "code",
      "metadata": {
        "colab": {
          "base_uri": "https://localhost:8080/"
        },
        "id": "trnaqBqJMqKd",
        "outputId": "96674489-d376-4abe-eafb-a693b6976c07"
      },
      "source": [
        "Cities_by_accidents[Cities_by_accidents == 1]"
      ],
      "execution_count": 36,
      "outputs": [
        {
          "output_type": "execute_result",
          "data": {
            "text/plain": [
              "Leonard          1\n",
              "Burdette         1\n",
              "District 6       1\n",
              "Calvert City     1\n",
              "Semora           1\n",
              "                ..\n",
              "Alcova           1\n",
              "Kentwood         1\n",
              "Bretton Woods    1\n",
              "Glenwood City    1\n",
              "Alba             1\n",
              "Name: City, Length: 1167, dtype: int64"
            ]
          },
          "metadata": {},
          "execution_count": 36
        }
      ]
    },
    {
      "cell_type": "markdown",
      "metadata": {
        "id": "iiQhw-YtQy-3"
      },
      "source": [
        "### Start Time"
      ]
    },
    {
      "cell_type": "code",
      "metadata": {
        "colab": {
          "base_uri": "https://localhost:8080/"
        },
        "id": "WH3hLqH9Qry7",
        "outputId": "37837e1b-c6b3-4961-896f-4879db15d2bb"
      },
      "source": [
        "df.Start_Time"
      ],
      "execution_count": 37,
      "outputs": [
        {
          "output_type": "execute_result",
          "data": {
            "text/plain": [
              "0          2016-02-08 00:37:08\n",
              "1          2016-02-08 05:56:20\n",
              "2          2016-02-08 06:15:39\n",
              "3          2016-02-08 06:15:39\n",
              "4          2016-02-08 06:51:45\n",
              "                  ...         \n",
              "1516059    2019-08-23 18:03:25\n",
              "1516060    2019-08-23 19:11:30\n",
              "1516061    2019-08-23 19:00:21\n",
              "1516062    2019-08-23 19:00:21\n",
              "1516063    2019-08-23 18:52:06\n",
              "Name: Start_Time, Length: 1516064, dtype: object"
            ]
          },
          "metadata": {},
          "execution_count": 37
        }
      ]
    },
    {
      "cell_type": "code",
      "metadata": {
        "id": "8zoDcioqQrv0"
      },
      "source": [
        "df.Start_Time= pd.to_datetime(df.Start_Time)"
      ],
      "execution_count": 38,
      "outputs": []
    },
    {
      "cell_type": "code",
      "metadata": {
        "colab": {
          "base_uri": "https://localhost:8080/"
        },
        "id": "wo-jSK5dRx_6",
        "outputId": "07eb9d88-fa77-45b6-fe3f-20ef036a1d21"
      },
      "source": [
        "df.Start_Time.dt.hour"
      ],
      "execution_count": 39,
      "outputs": [
        {
          "output_type": "execute_result",
          "data": {
            "text/plain": [
              "0           0\n",
              "1           5\n",
              "2           6\n",
              "3           6\n",
              "4           6\n",
              "           ..\n",
              "1516059    18\n",
              "1516060    19\n",
              "1516061    19\n",
              "1516062    19\n",
              "1516063    18\n",
              "Name: Start_Time, Length: 1516064, dtype: int64"
            ]
          },
          "metadata": {},
          "execution_count": 39
        }
      ]
    },
    {
      "cell_type": "markdown",
      "metadata": {
        "id": "8--2yvRYcY5c"
      },
      "source": [
        " - Figure out how to show percentages"
      ]
    },
    {
      "cell_type": "code",
      "metadata": {
        "id": "PLw2TMCkQrs8",
        "colab": {
          "base_uri": "https://localhost:8080/",
          "height": 350
        },
        "outputId": "a358bf1b-4d38-40c9-f6fa-9110e387364e"
      },
      "source": [
        "sns.distplot(df.Start_Time.dt.hour, bins=24, kde=False, norm_hist= True)"
      ],
      "execution_count": 40,
      "outputs": [
        {
          "output_type": "stream",
          "name": "stderr",
          "text": [
            "/usr/local/lib/python3.7/dist-packages/seaborn/distributions.py:2557: FutureWarning: `distplot` is a deprecated function and will be removed in a future version. Please adapt your code to use either `displot` (a figure-level function with similar flexibility) or `histplot` (an axes-level function for histograms).\n",
            "  warnings.warn(msg, FutureWarning)\n"
          ]
        },
        {
          "output_type": "execute_result",
          "data": {
            "text/plain": [
              "<matplotlib.axes._subplots.AxesSubplot at 0x7f3583026a90>"
            ]
          },
          "metadata": {},
          "execution_count": 40
        },
        {
          "output_type": "display_data",
          "data": {
            "image/png": "[encoded data removed]",
            "text/plain": [
              "<Figure size 432x288 with 1 Axes>"
            ]
          },
          "metadata": {}
        }
      ]
    },
    {
      "cell_type": "markdown",
      "metadata": {
        "id": "vHhZboDffpnI"
      },
      "source": [
        " - A high percentage of accidents occur between 3pm and 5pm(Probably due to the high traffic as the people are in a hurry to return home from work)\n",
        "\n",
        "- Next highest percentage of accidents is higher between 6am and 9am (May be due to the high traffic as people are commuting to work)"
      ]
    },
    {
      "cell_type": "code",
      "metadata": {
        "id": "NundpwKdvvxF",
        "colab": {
          "base_uri": "https://localhost:8080/",
          "height": 350
        },
        "outputId": "cf0c5043-4a12-44cd-ad66-66537efa775e"
      },
      "source": [
        "sns.distplot(df.Start_Time.dt.dayofweek, bins=7, kde=False)"
      ],
      "execution_count": 41,
      "outputs": [
        {
          "output_type": "stream",
          "name": "stderr",
          "text": [
            "/usr/local/lib/python3.7/dist-packages/seaborn/distributions.py:2557: FutureWarning: `distplot` is a deprecated function and will be removed in a future version. Please adapt your code to use either `displot` (a figure-level function with similar flexibility) or `histplot` (an axes-level function for histograms).\n",
            "  warnings.warn(msg, FutureWarning)\n"
          ]
        },
        {
          "output_type": "execute_result",
          "data": {
            "text/plain": [
              "<matplotlib.axes._subplots.AxesSubplot at 0x7f3582e7df90>"
            ]
          },
          "metadata": {},
          "execution_count": 41
        },
        {
          "output_type": "display_data",
          "data": {
            "image/png": "[encoded data removed]",
            "text/plain": [
              "<Figure size 432x288 with 1 Axes>"
            ]
          },
          "metadata": {}
        }
      ]
    },
    {
      "cell_type": "markdown",
      "metadata": {
        "id": "gIQdX4mgwLa5"
      },
      "source": [
        "Is the distribution of accidents by hours the same on weekends as weekdays"
      ]
    },
    {
      "cell_type": "code",
      "metadata": {
        "id": "PR-3FhwRwXkk",
        "colab": {
          "base_uri": "https://localhost:8080/"
        },
        "outputId": "5eb5b18c-f11c-4be2-9ce1-af4f1c5124eb"
      },
      "source": [
        "df.Start_Time.dt.dayofweek == 6\n"
      ],
      "execution_count": 42,
      "outputs": [
        {
          "output_type": "execute_result",
          "data": {
            "text/plain": [
              "0          False\n",
              "1          False\n",
              "2          False\n",
              "3          False\n",
              "4          False\n",
              "           ...  \n",
              "1516059    False\n",
              "1516060    False\n",
              "1516061    False\n",
              "1516062    False\n",
              "1516063    False\n",
              "Name: Start_Time, Length: 1516064, dtype: bool"
            ]
          },
          "metadata": {},
          "execution_count": 42
        }
      ]
    },
    {
      "cell_type": "code",
      "metadata": {
        "id": "w2G_9rrG0usk",
        "colab": {
          "base_uri": "https://localhost:8080/",
          "height": 350
        },
        "outputId": "8d645289-3cab-4832-cbba-7eba347d3554"
      },
      "source": [
        "sundays_Start_Time =df.Start_Time[df.Start_Time.dt.dayofweek == 6]\n",
        "sns.distplot(sundays_Start_Time.dt.hour, bins=24, kde=False, norm_hist= True)"
      ],
      "execution_count": 43,
      "outputs": [
        {
          "output_type": "stream",
          "name": "stderr",
          "text": [
            "/usr/local/lib/python3.7/dist-packages/seaborn/distributions.py:2557: FutureWarning: `distplot` is a deprecated function and will be removed in a future version. Please adapt your code to use either `displot` (a figure-level function with similar flexibility) or `histplot` (an axes-level function for histograms).\n",
            "  warnings.warn(msg, FutureWarning)\n"
          ]
        },
        {
          "output_type": "execute_result",
          "data": {
            "text/plain": [
              "<matplotlib.axes._subplots.AxesSubplot at 0x7f3582d89750>"
            ]
          },
          "metadata": {},
          "execution_count": 43
        },
        {
          "output_type": "display_data",
          "data": {
            "image/png": "[encoded data removed]",
            "text/plain": [
              "<Figure size 432x288 with 1 Axes>"
            ]
          },
          "metadata": {}
        }
      ]
    },
    {
      "cell_type": "code",
      "metadata": {
        "id": "_xo_PCfk2tTA",
        "colab": {
          "base_uri": "https://localhost:8080/",
          "height": 353
        },
        "outputId": "ce037f5b-891b-44e0-ef0d-ba4df43ffa4b"
      },
      "source": [
        "saturdays_Start_Time =df.Start_Time[df.Start_Time.dt.dayofweek == 0]\n",
        "sns.distplot(saturdays_Start_Time.dt.hour, bins=24, kde=False, norm_hist= True)"
      ],
      "execution_count": 44,
      "outputs": [
        {
          "output_type": "stream",
          "name": "stderr",
          "text": [
            "/usr/local/lib/python3.7/dist-packages/seaborn/distributions.py:2557: FutureWarning: `distplot` is a deprecated function and will be removed in a future version. Please adapt your code to use either `displot` (a figure-level function with similar flexibility) or `histplot` (an axes-level function for histograms).\n",
            "  warnings.warn(msg, FutureWarning)\n"
          ]
        },
        {
          "output_type": "execute_result",
          "data": {
            "text/plain": [
              "<matplotlib.axes._subplots.AxesSubplot at 0x7f3582d1d110>"
            ]
          },
          "metadata": {},
          "execution_count": 44
        },
        {
          "output_type": "display_data",
          "data": {
            "image/png": "[encoded data removed]",
            "text/plain": [
              "<Figure size 432x288 with 1 Axes>"
            ]
          },
          "metadata": {}
        }
      ]
    },
    {
      "cell_type": "markdown",
      "metadata": {
        "id": "gRqVfkol3X2Y"
      },
      "source": [
        "##In sundays the peak occurs between 10am and 8pm unlike weekdays"
      ]
    },
    {
      "cell_type": "code",
      "metadata": {
        "id": "kJlsVSPT4osr",
        "colab": {
          "base_uri": "https://localhost:8080/",
          "height": 350
        },
        "outputId": "8b9b549e-1eb9-42b4-9840-f61a35f757dc"
      },
      "source": [
        "sns.distplot(df.Start_Time.dt.month, bins=12, kde=False, norm_hist= True)"
      ],
      "execution_count": 45,
      "outputs": [
        {
          "output_type": "stream",
          "name": "stderr",
          "text": [
            "/usr/local/lib/python3.7/dist-packages/seaborn/distributions.py:2557: FutureWarning: `distplot` is a deprecated function and will be removed in a future version. Please adapt your code to use either `displot` (a figure-level function with similar flexibility) or `histplot` (an axes-level function for histograms).\n",
            "  warnings.warn(msg, FutureWarning)\n"
          ]
        },
        {
          "output_type": "execute_result",
          "data": {
            "text/plain": [
              "<matplotlib.axes._subplots.AxesSubplot at 0x7f3582cc60d0>"
            ]
          },
          "metadata": {},
          "execution_count": 45
        },
        {
          "output_type": "display_data",
          "data": {
            "image/png": "[encoded data removed]",
            "text/plain": [
              "<Figure size 432x288 with 1 Axes>"
            ]
          },
          "metadata": {}
        }
      ]
    },
    {
      "cell_type": "code",
      "metadata": {
        "id": "N_0z0Ilq6HR7"
      },
      "source": [
        "df_2019 = df[df.Start_Time.dt.year == 2016]"
      ],
      "execution_count": 46,
      "outputs": []
    },
    {
      "cell_type": "code",
      "metadata": {
        "id": "zBl8tDc47Uxe",
        "colab": {
          "base_uri": "https://localhost:8080/",
          "height": 350
        },
        "outputId": "1d4ba76c-c062-4d62-b963-ca3b1ac84812"
      },
      "source": [
        "sns.distplot(df_2019.Start_Time.dt.month, bins=12, kde=False, norm_hist= True)"
      ],
      "execution_count": 47,
      "outputs": [
        {
          "output_type": "stream",
          "name": "stderr",
          "text": [
            "/usr/local/lib/python3.7/dist-packages/seaborn/distributions.py:2557: FutureWarning: `distplot` is a deprecated function and will be removed in a future version. Please adapt your code to use either `displot` (a figure-level function with similar flexibility) or `histplot` (an axes-level function for histograms).\n",
            "  warnings.warn(msg, FutureWarning)\n"
          ]
        },
        {
          "output_type": "execute_result",
          "data": {
            "text/plain": [
              "<matplotlib.axes._subplots.AxesSubplot at 0x7f3582c39d10>"
            ]
          },
          "metadata": {},
          "execution_count": 47
        },
        {
          "output_type": "display_data",
          "data": {
            "image/png": "[encoded data removed]",
            "text/plain": [
              "<Figure size 432x288 with 1 Axes>"
            ]
          },
          "metadata": {}
        }
      ]
    },
    {
      "cell_type": "markdown",
      "metadata": {
        "id": "IspZT-Kv84Uf"
      },
      "source": [
        "## Can you explain the month-wise trend of accidents ?\n",
        " - Much data missing for 2016. May be even for 2017"
      ]
    },
    {
      "cell_type": "markdown",
      "metadata": {
        "id": "NDzpYx2_1_vE"
      },
      "source": [
        "## Start Latitude and Longitude"
      ]
    },
    {
      "cell_type": "code",
      "metadata": {
        "id": "pwbCjtGPzwhp",
        "outputId": "f543ff0c-50c8-42ba-ed6c-4921f164ab39",
        "colab": {
          "base_uri": "https://localhost:8080/"
        }
      },
      "source": [
        "df.Start_Lat\n"
      ],
      "execution_count": 48,
      "outputs": [
        {
          "output_type": "execute_result",
          "data": {
            "text/plain": [
              "0          40.10891\n",
              "1          39.86542\n",
              "2          39.10266\n",
              "3          39.10148\n",
              "4          41.06213\n",
              "             ...   \n",
              "1516059    34.00248\n",
              "1516060    32.76696\n",
              "1516061    33.77545\n",
              "1516062    33.99246\n",
              "1516063    34.13393\n",
              "Name: Start_Lat, Length: 1516064, dtype: float64"
            ]
          },
          "metadata": {},
          "execution_count": 48
        }
      ]
    },
    {
      "cell_type": "code",
      "metadata": {
        "id": "xnzomU_a2oet",
        "outputId": "410dc875-263f-46a2-88b1-da5365f09b50",
        "colab": {
          "base_uri": "https://localhost:8080/"
        }
      },
      "source": [
        "df.Start_Lng"
      ],
      "execution_count": 49,
      "outputs": [
        {
          "output_type": "execute_result",
          "data": {
            "text/plain": [
              "0          -83.09286\n",
              "1          -84.06280\n",
              "2          -84.52468\n",
              "3          -84.52341\n",
              "4          -81.53784\n",
              "             ...    \n",
              "1516059   -117.37936\n",
              "1516060   -117.14806\n",
              "1516061   -117.84779\n",
              "1516062   -118.40302\n",
              "1516063   -117.23092\n",
              "Name: Start_Lng, Length: 1516064, dtype: float64"
            ]
          },
          "metadata": {},
          "execution_count": 49
        }
      ]
    },
    {
      "cell_type": "markdown",
      "metadata": {
        "id": "2EsPtvwV3Xbl"
      },
      "source": [
        "## Notes\n",
        "Latitude = horizontal lines(when we move from top to bottom):so considered Y axis\n",
        "Longitude = vertical lines (when we move from left to right): so considered X axis"
      ]
    },
    {
      "cell_type": "code",
      "metadata": {
        "id": "X6Uph9CD5Urb",
        "outputId": "1dfa9938-5c25-44c2-cacf-5456e575b5fd",
        "colab": {
          "base_uri": "https://localhost:8080/",
          "height": 299
        }
      },
      "source": [
        "sns.scatterplot( x = df.Start_Lng, y= df.Start_Lat)"
      ],
      "execution_count": 50,
      "outputs": [
        {
          "output_type": "execute_result",
          "data": {
            "text/plain": [
              "<matplotlib.axes._subplots.AxesSubplot at 0x7f3582c086d0>"
            ]
          },
          "metadata": {},
          "execution_count": 50
        },
        {
          "output_type": "display_data",
          "data": {
            "image/png": "[encoded data removed]",
            "text/plain": [
              "<Figure size 432x288 with 1 Axes>"
            ]
          },
          "metadata": {}
        }
      ]
    },
    {
      "cell_type": "code",
      "metadata": {
        "id": "YRmYWBc62pvK",
        "outputId": "31968817-5d6a-4254-a5f2-549fe3535938",
        "colab": {
          "base_uri": "https://localhost:8080/",
          "height": 299
        }
      },
      "source": [
        "sample_df = df.sample(int(0.1 * len(df)))\n",
        "sns.scatterplot(x= sample_df.Start_Lng, y= sample_df.Start_Lat, size=0.001)"
      ],
      "execution_count": 51,
      "outputs": [
        {
          "output_type": "execute_result",
          "data": {
            "text/plain": [
              "<matplotlib.axes._subplots.AxesSubplot at 0x7f3582b40f10>"
            ]
          },
          "metadata": {},
          "execution_count": 51
        },
        {
          "output_type": "display_data",
          "data": {
            "image/png": "[encoded data removed]",
            "text/plain": [
              "<Figure size 432x288 with 1 Axes>"
            ]
          },
          "metadata": {}
        }
      ]
    },
    {
      "cell_type": "code",
      "metadata": {
        "id": "2PIgEi325bks"
      },
      "source": [
        "import folium"
      ],
      "execution_count": 52,
      "outputs": []
    },
    {
      "cell_type": "code",
      "metadata": {
        "id": "sqphMfbP9XmB",
        "outputId": "8bdbb036-d87f-4c34-adef-204fb9081e16",
        "colab": {
          "base_uri": "https://localhost:8080/"
        }
      },
      "source": [
        " Lat, Lon = df.Start_Lat[0], df.Start_Lng[0]\n",
        "Lat, Lon"
      ],
      "execution_count": 53,
      "outputs": [
        {
          "output_type": "execute_result",
          "data": {
            "text/plain": [
              "(40.108909999999995, -83.09286)"
            ]
          },
          "metadata": {},
          "execution_count": 53
        }
      ]
    },
    {
      "cell_type": "code",
      "metadata": {
        "id": "DYxnRFJGUAUb",
        "outputId": "053f3b18-8870-490c-8802-5c2d088c2040",
        "colab": {
          "base_uri": "https://localhost:8080/"
        }
      },
      "source": [
        "df.Start_Lat"
      ],
      "execution_count": 54,
      "outputs": [
        {
          "output_type": "execute_result",
          "data": {
            "text/plain": [
              "0          40.10891\n",
              "1          39.86542\n",
              "2          39.10266\n",
              "3          39.10148\n",
              "4          41.06213\n",
              "             ...   \n",
              "1516059    34.00248\n",
              "1516060    32.76696\n",
              "1516061    33.77545\n",
              "1516062    33.99246\n",
              "1516063    34.13393\n",
              "Name: Start_Lat, Length: 1516064, dtype: float64"
            ]
          },
          "metadata": {},
          "execution_count": 54
        }
      ]
    },
    {
      "cell_type": "code",
      "metadata": {
        "id": "lcYpdO14_4a9",
        "outputId": "8efd82a5-85a7-4267-b6fd-d0d324fdbd2a",
        "colab": {
          "base_uri": "https://localhost:8080/"
        }
      },
      "source": [
        "for x in df[['Start_Lat','Start_Lng']].sample(100).iteritems(): \n",
        "   print (x[1])"
      ],
      "execution_count": 59,
      "outputs": [
        {
          "output_type": "stream",
          "name": "stdout",
          "text": [
            "998841     40.709560\n",
            "656761     34.037715\n",
            "1175071    42.427630\n",
            "899572     33.668217\n",
            "543930     38.091970\n",
            "             ...    \n",
            "1229128    42.269029\n",
            "976728     37.364340\n",
            "1426969    42.426780\n",
            "289544     40.176983\n",
            "428560     40.510371\n",
            "Name: Start_Lat, Length: 100, dtype: float64\n",
            "998841    -112.249070\n",
            "656761    -117.805055\n",
            "1175071   -123.048280\n",
            "899572    -117.753673\n",
            "543930     -85.701137\n",
            "              ...    \n",
            "1229128   -123.619680\n",
            "976728    -121.901809\n",
            "1426969    -83.219100\n",
            "289544     -75.088770\n",
            "428560     -77.978764\n",
            "Name: Start_Lng, Length: 100, dtype: float64\n"
          ]
        }
      ]
    },
    {
      "cell_type": "code",
      "metadata": {
        "id": "lP3PqtQnawMi",
        "outputId": "08b17275-322b-4d29-caf0-02262d8cd864",
        "colab": {
          "base_uri": "https://localhost:8080/"
        }
      },
      "source": [
        "list(zip(list(df.Start_Lat) , list(df.Start_Lng)))"
      ],
      "execution_count": 75,
      "outputs": [
        {
          "output_type": "execute_result",
          "data": {
            "text/plain": [
              "[(40.108909999999995, -83.09286),\n",
              " (39.86542, -84.0628),\n",
              " (39.10266, -84.52468),\n",
              " (39.10148, -84.52341),\n",
              " (41.062129999999996, -81.53784),\n",
              " (39.172393, -84.49279200000001),\n",
              " (39.06324, -84.03243),\n",
              " (39.06708, -84.05855),\n",
              " (39.77565, -84.18603),\n",
              " (41.37531, -81.82016999999999),\n",
              " (40.702247, -84.075887),\n",
              " (40.10931, -82.96849),\n",
              " (39.19288, -84.47723),\n",
              " (39.13877, -84.53394),\n",
              " (41.4739, -81.704233),\n",
              " (39.582242, -83.677814),\n",
              " (40.151785, -81.312635),\n",
              " (40.151747, -81.312682),\n",
              " (39.972409999999996, -82.84695),\n",
              " (39.9838, -82.85656999999999),\n",
              " (40.02664, -82.9944),\n",
              " (41.679361, -83.573037),\n",
              " (40.99613, -85.26613),\n",
              " (39.0381, -84.59243000000001),\n",
              " (40.03386, -82.99601),\n",
              " (39.85798, -84.28181),\n",
              " (39.15267, -84.5395),\n",
              " (39.307320000000004, -85.95982),\n",
              " (39.77572, -84.04815),\n",
              " (39.97643, -83.12306),\n",
              " (39.58595, -85.82518),\n",
              " (39.3638, -85.51659000000001),\n",
              " (39.45132, -85.62516),\n",
              " (39.75067, -84.14148),\n",
              " (39.2675, -81.49929),\n",
              " (39.86025, -85.96623000000001),\n",
              " (41.95677, -83.67214),\n",
              " (38.27401, -85.74844),\n",
              " (41.95677, -83.67214),\n",
              " (40.52225, -80.06666),\n",
              " (40.487814, -80.009439),\n",
              " (40.156298, -83.018431),\n",
              " (41.47461, -81.71181999999999),\n",
              " (41.0618, -81.54608),\n",
              " (40.45112, -85.15048),\n",
              " (40.35429, -85.14993),\n",
              " (39.75855, -85.13715),\n",
              " (39.74408, -85.13749),\n",
              " (39.965148, -83.020499),\n",
              " (40.72813, -84.78965),\n",
              " (39.85223, -85.25846999999999),\n",
              " (41.46747, -81.75909),\n",
              " (41.83193, -80.10143000000001),\n",
              " (39.744287, -84.204939),\n",
              " (39.71548, -84.22033),\n",
              " (39.7504, -84.20561),\n",
              " (41.72316, -84.96444),\n",
              " (40.04376, -82.99708000000001),\n",
              " (38.1781, -85.71946),\n",
              " (38.18577, -85.80678),\n",
              " (38.27191, -85.80838),\n",
              " (39.923905, -82.87008),\n",
              " (41.035565999999996, -81.569917),\n",
              " (39.9239, -83.68767),\n",
              " (41.851914, -80.175232),\n",
              " (39.93849, -82.84849),\n",
              " (38.969429999999996, -80.1096),\n",
              " (39.00248, -80.22624),\n",
              " (41.66805, -83.57063000000001),\n",
              " (41.48339, -81.66297),\n",
              " (41.50127, -81.4804),\n",
              " (39.789093, -82.989106),\n",
              " (41.67073, -81.24561),\n",
              " (41.708459999999995, -81.17636),\n",
              " (41.44246, -81.78485),\n",
              " (39.77128, -84.1923),\n",
              " (41.50499, -81.47417),\n",
              " (40.109653, -80.2029),\n",
              " (38.38852, -81.7687),\n",
              " (41.03572, -81.57809),\n",
              " (41.47487, -81.72095),\n",
              " (41.62845, -84.80559000000001),\n",
              " (41.62894, -84.80373),\n",
              " (41.16102, -81.78573),\n",
              " (41.628232000000004, -84.808858),\n",
              " (41.62986, -84.76619000000001),\n",
              " (39.74729, -84.21426),\n",
              " (41.42099, -81.69051999999999),\n",
              " (41.42318, -81.84674),\n",
              " (38.79691, -84.48273),\n",
              " (38.80878, -84.49638),\n",
              " (38.30155, -85.85499),\n",
              " (38.33667, -81.65623000000001),\n",
              " (38.33614, -81.65623000000001),\n",
              " (41.0961, -81.58593),\n",
              " (41.12155, -85.18715999999999),\n",
              " (38.829993, -80.667067),\n",
              " (40.05642, -83.03097),\n",
              " (41.37717, -81.5139),\n",
              " (39.173970000000004, -84.49031),\n",
              " (39.75513, -84.16614),\n",
              " (39.173970000000004, -84.49031),\n",
              " (41.12624, -81.65299),\n",
              " (38.33667, -81.65623000000001),\n",
              " (41.10389, -81.5),\n",
              " (39.16417, -84.45275),\n",
              " (40.11184, -83.00883),\n",
              " (38.31922, -85.75301999999999),\n",
              " (39.09881, -84.50801),\n",
              " (41.473859000000004, -81.708409),\n",
              " (41.039988, -81.565332),\n",
              " (41.73565, -84.99082),\n",
              " (39.26566, -84.43965),\n",
              " (41.469809999999995, -81.81104),\n",
              " (41.25666, -81.63157),\n",
              " (40.58919, -80.09885),\n",
              " (41.063559999999995, -81.49078),\n",
              " (41.06218, -81.50595),\n",
              " (39.17736, -84.4873),\n",
              " (38.33956, -81.60991999999999),\n",
              " (41.47889, -81.6934),\n",
              " (40.58919, -80.09885),\n",
              " (41.411190000000005, -81.64414000000001),\n",
              " (39.24907, -84.44561999999999),\n",
              " (39.28775, -84.40073000000001),\n",
              " (41.47379, -81.89631),\n",
              " (41.549409999999995, -81.60676),\n",
              " (39.03347, -84.603),\n",
              " (39.74903, -84.20106),\n",
              " (39.894729999999996, -83.044),\n",
              " (39.19641, -84.47331),\n",
              " (39.22461, -84.45364000000001),\n",
              " (39.153059999999996, -84.44283),\n",
              " (39.97262, -82.98368),\n",
              " (40.535447, -80.03596),\n",
              " (40.529455, -80.03506999999999),\n",
              " (41.49647, -81.67733),\n",
              " (41.0634, -81.49079),\n",
              " (39.74284, -84.20479),\n",
              " (41.46822, -81.9476),\n",
              " (41.92479, -83.36026),\n",
              " (41.184738, -80.432713),\n",
              " (40.27317, -85.5577),\n",
              " (39.98264, -85.14301999999999),\n",
              " (40.27317, -85.5577),\n",
              " (40.42667, -85.54968000000001),\n",
              " (39.97527, -85.14018),\n",
              " (39.098890000000004, -84.52118),\n",
              " (38.88012, -84.62527),\n",
              " (38.792559999999995, -84.60423),\n",
              " (39.74284, -84.20479),\n",
              " (40.484221999999995, -80.13755400000001),\n",
              " (41.20104, -80.06859),\n",
              " (39.055279999999996, -84.39072),\n",
              " (41.623325, -83.692226),\n",
              " (40.53024, -80.00957),\n",
              " (40.53024, -80.00957),\n",
              " (40.06527, -82.99591),\n",
              " (40.43954, -80.00971),\n",
              " (41.422004, -81.730092),\n",
              " (39.3638, -85.51659000000001),\n",
              " (39.82083, -85.7749),\n",
              " (40.0366, -85.72561999999999),\n",
              " (39.855691, -84.29079200000001),\n",
              " (40.049152, -85.682047),\n",
              " (39.83939, -85.55752),\n",
              " (40.13386, -80.00666),\n",
              " (40.43954, -80.00971),\n",
              " (40.13386, -80.00666),\n",
              " (40.13386, -80.00666),\n",
              " (39.978590000000004, -82.9763),\n",
              " (39.95459, -83.04255),\n",
              " (39.68291, -85.97372),\n",
              " (38.49304, -85.77156),\n",
              " (38.33428, -85.82177),\n",
              " (39.99921, -83.02875),\n",
              " (38.53844, -85.77702),\n",
              " (38.1781, -85.71946),\n",
              " (39.87433, -82.99882),\n",
              " (41.39546, -85.32855),\n",
              " (41.394690000000004, -85.28893000000001),\n",
              " (41.90473, -83.36986),\n",
              " (40.771370000000005, -84.62203000000001),\n",
              " (40.80059, -84.61374),\n",
              " (39.87433, -82.99882),\n",
              " (40.78593, -84.61787),\n",
              " (40.80059, -84.61374),\n",
              " (41.67487, -83.57266),\n",
              " (41.47376, -81.86113),\n",
              " (38.33465, -85.75389),\n",
              " (39.14014, -84.53495),\n",
              " (41.801429999999996, -85.34888000000001),\n",
              " (41.81755, -85.32291),\n",
              " (41.35761, -81.81988),\n",
              " (39.343920000000004, -84.39043000000001),\n",
              " (39.816154, -83.18010500000001),\n",
              " (38.824929, -85.47449499999999),\n",
              " (38.82415, -85.63794),\n",
              " (40.593244, -85.150017),\n",
              " (40.600487, -85.150502),\n",
              " (41.19362, -80.2374),\n",
              " (40.55267, -85.14974000000001),\n",
              " (40.567440000000005, -85.14993),\n",
              " (40.14212, -81.55153),\n",
              " (39.94397, -82.41127),\n",
              " (39.96893, -83.11922),\n",
              " (40.6126, -80.09494000000001),\n",
              " (40.11184, -83.00883),\n",
              " (41.06347, -81.50372),\n",
              " (39.972931, -85.965783),\n",
              " (39.95459, -83.04255),\n",
              " (40.11184, -83.00883),\n",
              " (39.972409999999996, -82.84695),\n",
              " (39.9912, -85.9188),\n",
              " (41.34965, -81.51146),\n",
              " (41.11987, -80.69004),\n",
              " (41.11851, -80.69242),\n",
              " (40.05642, -83.03097),\n",
              " (41.123412, -80.68202600000001),\n",
              " (38.117487, -85.760397),\n",
              " (41.441340000000004, -81.65055),\n",
              " (38.61531, -80.76034),\n",
              " (41.124052, -80.677589),\n",
              " (39.95085, -82.94428),\n",
              " (41.06257, -81.52228000000001),\n",
              " (40.112120000000004, -83.03905999999999),\n",
              " (39.887033, -83.043909),\n",
              " (40.04916, -83.03336),\n",
              " (41.129059999999996, -85.1612),\n",
              " (41.17798, -85.10323000000001),\n",
              " (38.08783, -83.90263),\n",
              " (41.63316, -83.54203000000001),\n",
              " (39.149639, -84.539381),\n",
              " (40.9605, -85.3528),\n",
              " (40.96051, -85.34522),\n",
              " (41.08204, -80.64846999999999),\n",
              " (41.617909999999995, -83.54106999999999),\n",
              " (38.41592, -82.3465),\n",
              " (41.675709999999995, -83.69385),\n",
              " (39.08272, -84.52264),\n",
              " (39.280947, -80.278075),\n",
              " (38.36387, -81.73867),\n",
              " (40.0187, -82.90465999999999),\n",
              " (41.53757, -81.64083000000001),\n",
              " (41.16522, -81.47454),\n",
              " (39.52352, -82.02360999999999),\n",
              " (39.517216, -82.025802),\n",
              " (40.322818, -83.071034),\n",
              " (41.73565, -84.99082),\n",
              " (39.14648, -84.45455),\n",
              " (39.821220000000004, -85.76482),\n",
              " (41.11889, -81.65406999999999),\n",
              " (40.121557, -83.151457),\n",
              " (40.110170000000004, -83.15876999999999),\n",
              " (41.57777, -81.54987),\n",
              " (40.121557, -83.151457),\n",
              " (40.110170000000004, -83.15876999999999),\n",
              " (41.04592, -81.69463),\n",
              " (41.42099, -81.69051999999999),\n",
              " (39.27486, -84.346),\n",
              " (39.28266, -84.56742),\n",
              " (39.9467, -82.22232),\n",
              " (39.173970000000004, -84.49031),\n",
              " (39.17736, -84.4873),\n",
              " (39.9467, -82.22232),\n",
              " (39.9467, -82.22232),\n",
              " (41.685179999999995, -83.5678),\n",
              " (41.66572, -83.5652),\n",
              " (39.27125, -84.35176),\n",
              " (41.47395, -81.69931),\n",
              " (39.98505, -80.74006),\n",
              " (39.95813, -80.76219),\n",
              " (41.56544, -81.5835),\n",
              " (38.32587, -83.11389),\n",
              " (38.25869, -85.7622),\n",
              " (38.29322, -85.654625),\n",
              " (39.78609, -83.24606999999999),\n",
              " (41.53968, -81.62795),\n",
              " (39.08927, -84.5227),\n",
              " (38.25922, -85.76632),\n",
              " (41.552640000000004, -81.60032),\n",
              " (39.02187, -84.50492),\n",
              " (41.06755, -81.57421),\n",
              " (40.49223, -80.01029),\n",
              " (41.48836, -81.66471),\n",
              " (39.95085, -82.94428),\n",
              " (41.420629999999996, -81.80859),\n",
              " (41.06755, -81.57421),\n",
              " (40.82949, -81.39732),\n",
              " (41.400909999999996, -81.81724),\n",
              " (41.13355, -85.13584),\n",
              " (41.14226, -85.13611),\n",
              " (38.870385999999996, -84.624429),\n",
              " (41.47974, -81.6667),\n",
              " (40.30095, -80.16651999999999),\n",
              " (39.115429999999996, -84.50003000000001),\n",
              " (41.1419, -81.47694),\n",
              " (39.14917, -84.44711),\n",
              " (39.819790000000005, -84.18908),\n",
              " (39.84509, -84.1899),\n",
              " (41.47461, -81.71181999999999),\n",
              " (39.17304, -84.47589),\n",
              " (39.1021, -84.49754),\n",
              " (41.49873, -81.67260999999999),\n",
              " (39.12627, -84.53509),\n",
              " (41.473946000000005, -81.699011),\n",
              " (39.9745, -83.09654),\n",
              " (39.85911, -84.2808),\n",
              " (39.24943, -84.36541),\n",
              " (38.31179, -85.58773000000001),\n",
              " (39.27486, -84.346),\n",
              " (39.29287, -84.31981),\n",
              " (39.15267, -84.5395),\n",
              " (41.4675, -81.49014),\n",
              " (39.26661, -84.35605),\n",
              " (39.27125, -84.35176),\n",
              " (38.20674, -85.74846),\n",
              " (40.138040000000004, -82.97112),\n",
              " (41.47965, -81.66758),\n",
              " (39.08887, -84.52271),\n",
              " (41.6882, -83.64064),\n",
              " (40.06527, -82.99591),\n",
              " (39.865359999999995, -84.05238),\n",
              " (38.420223, -82.293065),\n",
              " (41.474140000000006, -81.69893),\n",
              " (41.47542, -81.68721),\n",
              " (40.07297, -83.1347),\n",
              " (40.056090000000005, -80.679211),\n",
              " (38.19105, -85.71902),\n",
              " (38.254540000000006, -85.71969),\n",
              " (39.171694, -84.494399),\n",
              " (41.06239, -81.52229),\n",
              " (39.259254, -84.440978),\n",
              " (39.905178, -82.895471),\n",
              " (40.0988, -83.13331),\n",
              " (41.339909999999996, -81.81739),\n",
              " (40.0999, -82.92089),\n",
              " (39.4728, -80.11963),\n",
              " (41.46631, -81.77065999999999),\n",
              " (38.34109, -81.70017),\n",
              " (41.160072, -85.232647),\n",
              " (41.163626, -85.24482900000001),\n",
              " (39.14014, -84.53495),\n",
              " (40.945370000000004, -81.15473),\n",
              " (41.68591, -83.911307),\n",
              " (41.704522999999995, -83.9136),\n",
              " (40.945772, -81.17219399999999),\n",
              " (38.82445, -82.98299),\n",
              " (38.84111, -82.98432),\n",
              " (39.00079, -84.42043000000001),\n",
              " (39.96071, -85.35383),\n",
              " (39.2675, -81.49929),\n",
              " (40.27317, -85.5577),\n",
              " (40.42667, -85.54968000000001),\n",
              " (38.130782, -81.388878),\n",
              " (38.545195, -85.778613),\n",
              " (38.362427000000004, -81.714434),\n",
              " (38.39115, -81.58664),\n",
              " (40.08978, -82.98725999999999),\n",
              " (40.0122, -82.99188000000001),\n",
              " (41.68918, -83.53681999999999),\n",
              " (39.3781, -84.365),\n",
              " (39.11919, -84.53539),\n",
              " (39.050290000000004, -83.77673),\n",
              " (39.04827, -83.77199),\n",
              " (40.0717, -82.90821),\n",
              " (39.09655, -84.48312),\n",
              " (40.43077, -80.02638),\n",
              " (41.443708, -85.19285),\n",
              " (41.438119, -85.15969399999999),\n",
              " (41.46747, -81.75909),\n",
              " (39.044435, -84.465864),\n",
              " (39.22461, -84.45364000000001),\n",
              " (41.104217, -81.499987),\n",
              " (41.1003, -81.4999),\n",
              " (39.1021, -84.49754),\n",
              " (41.46375, -81.69353000000001),\n",
              " (41.52134, -83.45642),\n",
              " (41.525490000000005, -83.46344),\n",
              " (41.43166, -81.68160999999999),\n",
              " (38.22363, -85.50532),\n",
              " (40.854659999999996, -81.41646999999999),\n",
              " (38.22272, -85.50111),\n",
              " (39.12424, -84.53501),\n",
              " (39.09858, -84.51974),\n",
              " (39.63551, -84.19519),\n",
              " (40.39715, -80.10368000000001),\n",
              " (41.56709, -81.57816),\n",
              " (41.18225, -84.94275999999999),\n",
              " (41.18225, -84.94275999999999),\n",
              " (39.10148, -84.52341),\n",
              " (39.10266, -84.52468),\n",
              " (41.55245, -83.60061999999999),\n",
              " (38.52006, -81.35221),\n",
              " (41.3513, -83.62276),\n",
              " (39.25015, -81.30566),\n",
              " (41.345031, -82.285379),\n",
              " (41.351335, -82.26144599999999),\n",
              " (38.384570000000004, -81.804429),\n",
              " (40.415279999999996, -80.01234000000001),\n",
              " (40.03598, -83.12479),\n",
              " (41.03669, -81.50492),\n",
              " (41.68971, -83.53045999999999),\n",
              " (39.587784, -83.723939),\n",
              " (39.626236999999996, -83.73105),\n",
              " (41.06243, -81.49904000000001),\n",
              " (41.06218, -81.50595),\n",
              " (39.97262, -82.98368),\n",
              " (39.93658, -83.00941999999999),\n",
              " (41.208579, -82.807829),\n",
              " (41.4051, -81.8184),\n",
              " (39.29035, -84.39078),\n",
              " (39.90524, -82.89541),\n",
              " (40.04376, -82.99708000000001),\n",
              " (39.98793, -82.98568),\n",
              " (41.874915, -85.409527),\n",
              " (41.890234, -85.409642),\n",
              " (39.9335, -82.78939),\n",
              " (40.04916, -83.03336),\n",
              " (39.99493, -82.93332),\n",
              " (39.837270000000004, -83.09326999999999),\n",
              " (40.989540000000005, -81.49372),\n",
              " (38.53844, -85.77702),\n",
              " (41.10389, -81.5),\n",
              " (38.577894, -85.77896),\n",
              " (41.42099, -81.69051999999999),\n",
              " (38.580546000000005, -85.77866),\n",
              " (39.833935, -84.061832),\n",
              " (38.30344, -85.88893),\n",
              " (39.93654, -83.40048),\n",
              " (39.95612, -83.37499),\n",
              " (39.177659999999996, -84.39780999999999),\n",
              " (40.02155, -83.0354),\n",
              " (39.97518, -85.63374),\n",
              " (39.94576, -85.63454),\n",
              " (40.277440000000006, -85.72518000000001),\n",
              " (40.2777, -85.67459000000001),\n",
              " (39.17304, -84.47589),\n",
              " (41.686479999999996, -83.5669),\n",
              " (41.66267, -85.03312),\n",
              " (41.68976, -83.666),\n",
              " (39.94594, -82.9432),\n",
              " (41.4758, -81.66036),\n",
              " (41.628312, -84.812135),\n",
              " (39.967240000000004, -83.02459),\n",
              " (41.964290000000005, -83.35018000000001),\n",
              " (41.282993, -83.638931),\n",
              " (41.63126, -83.48336),\n",
              " (41.427584, -85.8495),\n",
              " (41.471378, -85.839527),\n",
              " (41.46747, -81.75909),\n",
              " (39.183640000000004, -84.48373000000001),\n",
              " (41.94495, -80.40234),\n",
              " (39.53078, -84.310264),\n",
              " (41.438774, -81.80341999999999),\n",
              " (39.9838, -82.85656999999999),\n",
              " (40.444134000000005, -80.028261),\n",
              " (39.977270000000004, -83.15445),\n",
              " (39.9745, -83.09654),\n",
              " (39.97865, -83.11698),\n",
              " (39.97327, -83.12002),\n",
              " (39.22571, -84.36832),\n",
              " (39.986342, -83.118881),\n",
              " (39.736290000000004, -84.20489),\n",
              " (41.4051, -81.8184),\n",
              " (41.41101, -81.66634),\n",
              " (39.244640000000004, -84.44835),\n",
              " (40.112120000000004, -83.03905999999999),\n",
              " (40.30095, -80.16651999999999),\n",
              " (40.29739, -80.16798),\n",
              " (41.49243, -81.67554),\n",
              " (40.1827, -80.26148),\n",
              " (39.95459, -83.04255),\n",
              " (39.97527, -85.14018),\n",
              " (39.98511, -85.14406),\n",
              " (38.29514, -85.75655),\n",
              " (39.93654, -83.40048),\n",
              " (39.94143, -83.39224),\n",
              " (39.115429999999996, -84.50003000000001),\n",
              " (41.030684, -81.885739),\n",
              " (41.43166, -81.68160999999999),\n",
              " (40.6664, -80.227514),\n",
              " (40.67137, -80.22581),\n",
              " (41.305199, -81.438626),\n",
              " (40.354252, -85.843032),\n",
              " (40.402251, -85.842969),\n",
              " (41.267520000000005, -85.85673),\n",
              " (39.97307, -82.98405),\n",
              " (39.9672, -81.28699999999999),\n",
              " (39.96392, -81.27197),\n",
              " (41.526309999999995, -83.62123000000001),\n",
              " (39.93292, -82.83025),\n",
              " (39.08272, -84.52264),\n",
              " (39.8552, -84.32502),\n",
              " (41.65404, -85.70526),\n",
              " (41.654579999999996, -85.58601),\n",
              " (41.39465, -81.65326),\n",
              " (41.06211, -81.53053),\n",
              " (41.09598, -81.49976),\n",
              " (41.85222, -85.67843),\n",
              " (38.148808, -80.929665),\n",
              " (41.52447, -85.57791),\n",
              " (41.5105, -85.57781),\n",
              " (39.90524, -82.89541),\n",
              " (41.23598, -81.49325999999999),\n",
              " (38.70101, -80.66483000000001),\n",
              " (39.22498, -84.38094),\n",
              " (40.776022999999995, -80.12718100000001),\n",
              " (38.86027, -80.65729),\n",
              " (39.88203, -83.04748000000001),\n",
              " (39.892534000000005, -83.038786),\n",
              " (39.89698, -83.03428000000001),\n",
              " (41.67439, -83.693727),\n",
              " (41.12999, -85.15503000000001),\n",
              " (39.098890000000004, -84.52118),\n",
              " (41.526309999999995, -83.62123000000001),\n",
              " (39.088552, -84.522724),\n",
              " (39.954229999999995, -82.98879000000001),\n",
              " (39.21018, -84.46345),\n",
              " (39.95369, -82.96403000000001),\n",
              " (40.40934, -80.19247),\n",
              " (40.44126, -80.19314),\n",
              " (39.161609999999996, -84.51375),\n",
              " (39.161609999999996, -84.51375),\n",
              " (39.15141, -84.54061),\n",
              " (39.75855, -85.13715),\n",
              " (41.675709999999995, -83.69385),\n",
              " (41.675709999999995, -83.69385),\n",
              " (39.28805, -84.37462),\n",
              " (41.53618, -83.6176),\n",
              " (39.07202, -84.51907),\n",
              " (38.259133, -85.752672),\n",
              " (40.44425, -80.02821),\n",
              " (40.44278, -80.02468),\n",
              " (38.30155, -85.85499),\n",
              " (40.35405, -80.13756),\n",
              " (40.354490000000006, -80.13835999999999),\n",
              " (38.30344, -85.88893),\n",
              " (41.08789, -83.66011),\n",
              " (41.02454, -80.92163000000001),\n",
              " (41.02413, -80.90579),\n",
              " (39.08168, -84.7069),\n",
              " (38.185390000000005, -85.81793),\n",
              " (39.27734, -84.86438000000001),\n",
              " (39.16437, -84.43731),\n",
              " (39.748585, -84.226084),\n",
              " (39.4728, -80.11963),\n",
              " (41.187807, -80.149019),\n",
              " (41.19242, -80.15860500000001),\n",
              " (38.233483, -85.62671800000001),\n",
              " (38.33954, -81.609895),\n",
              " (40.07297, -83.1347),\n",
              " (40.08402, -83.13046),\n",
              " (38.346309999999995, -83.40449),\n",
              " (38.35382, -83.40553),\n",
              " (39.04416, -84.46656),\n",
              " (38.41807, -81.54525),\n",
              " (38.309401, -85.847643),\n",
              " (41.64679, -83.54913),\n",
              " (38.198747999999995, -85.733953),\n",
              " (39.97401, -82.99355),\n",
              " (39.173970000000004, -84.49031),\n",
              " (41.68843, -83.56258000000001),\n",
              " (41.67904, -83.5732),\n",
              " (39.25249, -84.36493),\n",
              " (38.310736, -85.590395),\n",
              " (41.469409999999996, -81.80535),\n",
              " (38.20674, -85.74846),\n",
              " (39.226317, -84.37107900000001),\n",
              " (41.68721, -83.55579),\n",
              " (40.09775, -84.22926),\n",
              " (41.42147, -81.70682),\n",
              " (38.294146000000005, -85.756847),\n",
              " (39.17304, -84.47589),\n",
              " (38.15982, -84.67308),\n",
              " (39.11675, -84.53355),\n",
              " (39.24943, -84.36541),\n",
              " (41.06146, -81.5049),\n",
              " (39.183640000000004, -84.48373000000001),\n",
              " (41.06228, -81.50986999999999),\n",
              " (39.98793, -82.98568),\n",
              " (39.95971, -83.04811),\n",
              " (39.1479, -84.53929000000001),\n",
              " (39.89555, -83.84997),\n",
              " (39.992259999999995, -82.98517),\n",
              " (39.40983, -82.97548),\n",
              " (40.6126, -80.09494000000001),\n",
              " (39.224790000000006, -84.27783000000001),\n",
              " (39.11675, -84.53355),\n",
              " (41.43869, -81.80554000000001),\n",
              " (40.016819, -82.90411),\n",
              " (39.097570000000005, -84.51666),\n",
              " (41.062470000000005, -81.52405),\n",
              " (39.13219, -84.49464),\n",
              " (39.097654, -84.516019),\n",
              " (41.34965, -81.51146),\n",
              " (41.37717, -81.5139),\n",
              " (40.125890000000005, -80.13661),\n",
              " (40.131890000000006, -80.132407),\n",
              " (40.00507, -83.1186),\n",
              " (39.437940000000005, -82.53893000000001),\n",
              " (39.12627, -84.53509),\n",
              " (38.07759, -84.45711999999999),\n",
              " (40.090790000000005, -82.90783),\n",
              " (39.64731, -85.91696999999999),\n",
              " (39.08927, -84.5227),\n",
              " (38.26109, -85.73695),\n",
              " (38.19785, -85.70445),\n",
              " (39.056540000000005, -84.54283000000001),\n",
              " (41.42413, -81.64519),\n",
              " (39.28638, -84.42706),\n",
              " (41.374990000000004, -83.61635),\n",
              " (41.06228, -81.50986999999999),\n",
              " (41.06146, -81.5049),\n",
              " (41.53907, -81.63354),\n",
              " (40.04916, -83.03336),\n",
              " (41.13613, -81.72196),\n",
              " (39.09891, -84.49181999999999),\n",
              " (39.96268, -82.84305),\n",
              " (39.173970000000004, -84.49031),\n",
              " (39.169109999999996, -84.42104),\n",
              " (39.003821, -80.391285),\n",
              " (39.17736, -84.4873),\n",
              " (39.143159999999995, -84.47069),\n",
              " (39.2696, -84.34894),\n",
              " (40.521732, -81.64755),\n",
              " (40.513360999999996, -81.651599),\n",
              " (41.526309999999995, -83.62123000000001),\n",
              " (38.992607, -80.195782),\n",
              " (38.839151, -82.152877),\n",
              " (40.27675, -85.49916),\n",
              " (40.521679999999996, -80.13163),\n",
              " (39.837109999999996, -84.54392),\n",
              " (39.02296, -84.51784),\n",
              " (38.455787, -81.88205),\n",
              " (39.02397, -84.48039),\n",
              " (38.22433, -85.751),\n",
              " (39.05973, -84.42438),\n",
              " (39.27734, -84.86438000000001),\n",
              " (41.47965, -81.66758),\n",
              " (39.02257, -84.48631),\n",
              " (40.44846, -80.00755),\n",
              " (39.09891, -84.28556999999999),\n",
              " (41.06026, -81.55485999999999),\n",
              " (41.802758000000004, -83.684687),\n",
              " (38.0791, -83.94591),\n",
              " (38.01846, -84.15159),\n",
              " (38.30344, -85.88893),\n",
              " (38.84109, -85.81618),\n",
              " (41.14181, -80.72015999999999),\n",
              " (39.14648, -84.45455),\n",
              " (41.042629999999996, -81.50543),\n",
              " (38.21089, -85.82606),\n",
              " (39.75067, -84.14148),\n",
              " (38.28581, -85.50792),\n",
              " (39.152733000000005, -84.541403),\n",
              " (38.23585, -85.658849),\n",
              " (38.202490000000004, -85.68697),\n",
              " (40.534909999999996, -83.10678),\n",
              " (40.52035, -83.10043),\n",
              " (39.12965, -84.49555),\n",
              " (38.22811, -85.7514),\n",
              " (40.41233, -80.07815),\n",
              " (39.7504, -84.20561),\n",
              " (39.08272, -84.52264),\n",
              " (39.781457, -85.839651),\n",
              " (39.781457, -85.839651),\n",
              " (41.060759999999995, -81.45923),\n",
              " (39.688148, -83.88431),\n",
              " (39.693164, -83.882745),\n",
              " (39.9488, -83.02845),\n",
              " (41.115840000000006, -81.61428000000001),\n",
              " (39.797697, -84.189677),\n",
              " (39.20326, -85.95763000000001),\n",
              " (39.244640000000004, -84.44835),\n",
              " (39.73733, -84.25733000000001),\n",
              " (39.969853, -85.972976),\n",
              " (41.11889, -81.65406999999999),\n",
              " (39.13219, -84.49464),\n",
              " (41.458, -83.62201999999999),\n",
              " (40.09268, -83.03726),\n",
              " (40.066965, -83.289888),\n",
              " (40.045608, -83.29660799999999),\n",
              " (39.97307, -82.98405),\n",
              " (39.982479999999995, -85.123922),\n",
              " (39.981095, -85.11027299999999),\n",
              " (40.430209999999995, -80.02554),\n",
              " (40.432190000000006, -80.02781999999999),\n",
              " (39.976566999999996, -83.128639),\n",
              " (41.256658, -85.363439),\n",
              " (41.374990000000004, -83.61635),\n",
              " (41.252653, -85.347328),\n",
              " (39.93658, -83.00941999999999),\n",
              " (39.14014, -84.53495),\n",
              " (40.153014, -82.970316),\n",
              " (39.90524, -82.89541),\n",
              " (39.13219, -84.49464),\n",
              " (40.42581, -80.4294),\n",
              " (41.08789, -83.65977),\n",
              " (39.9488, -83.02845),\n",
              " (41.47585, -81.87980999999999),\n",
              " (39.1079, -84.50284),\n",
              " (38.340803, -81.680728),\n",
              " (40.964729999999996, -85.28862),\n",
              " (38.441, -82.12679),\n",
              " (38.4413, -82.01529000000001),\n",
              " (38.441, -82.12679),\n",
              " (38.18977, -83.48379),\n",
              " (41.194131, -80.201982),\n",
              " (40.09601, -83.13626),\n",
              " (41.23632, -83.65401999999999),\n",
              " (38.1737, -84.81473000000001),\n",
              " (38.19016, -85.7616),\n",
              " (39.25249, -84.36493),\n",
              " (39.137217, -84.04718299999999),\n",
              " (39.141453999999996, -84.016543),\n",
              " (38.344424, -81.613662),\n",
              " (41.931129999999996, -83.35857),\n",
              " (40.89268, -84.61808),\n",
              " (40.46013, -80.19126),\n",
              " (41.119341999999996, -80.698025),\n",
              " (41.117872, -80.693898),\n",
              " (39.15267, -84.5395),\n",
              " (38.27362, -85.80906),\n",
              " (41.458, -83.62201999999999),\n",
              " (39.35655, -84.26419),\n",
              " (38.4062, -81.54054000000001),\n",
              " (41.025259000000005, -81.5042),\n",
              " (38.27362, -85.80906),\n",
              " (38.119690000000006, -85.77235),\n",
              " (38.275406, -85.81314300000001),\n",
              " (38.275079999999996, -85.81517099999999),\n",
              " (41.397690000000004, -81.939),\n",
              " (39.46513, -80.13559000000001),\n",
              " (38.217994, -81.426024),\n",
              " (38.215401, -81.42437199999999),\n",
              " (39.042851, -84.612615),\n",
              " (38.26109, -85.73695),\n",
              " (39.056540000000005, -84.54283000000001),\n",
              " (41.840758, -84.361657),\n",
              " (41.841122999999996, -84.361652),\n",
              " (41.63316, -83.54203000000001),\n",
              " (40.02874, -81.04368000000001),\n",
              " (41.43891, -81.80258),\n",
              " (41.0811, -81.50348000000001),\n",
              " (38.35575, -81.65420999999999),\n",
              " (39.94585, -82.94293),\n",
              " (41.69017, -83.5181),\n",
              " (40.112120000000004, -83.03905999999999),\n",
              " (41.502590000000005, -81.66974),\n",
              " (39.989994, -83.02512),\n",
              " (41.480458, -81.692932),\n",
              " (39.22461, -84.45364000000001),\n",
              " (40.04376, -82.99708000000001),\n",
              " (39.936209999999996, -82.88318000000001),\n",
              " (39.167788, -82.524172),\n",
              " (39.20655, -82.48212),\n",
              " (41.365759999999995, -81.51602),\n",
              " (39.977321999999994, -81.183327),\n",
              " (39.961933, -81.175436),\n",
              " (39.68292, -84.23004),\n",
              " (40.02664, -82.9944),\n",
              " (38.583372, -81.994824),\n",
              " (38.581196000000006, -82.004356),\n",
              " (40.07297, -83.1347),\n",
              " (41.586890000000004, -83.56234),\n",
              " (38.31714, -85.57677),\n",
              " (40.07297, -83.1347),\n",
              " (39.07202, -84.51907),\n",
              " (41.46747, -81.75909),\n",
              " (40.82645, -81.39675),\n",
              " (40.82645, -81.39675),\n",
              " (39.056540000000005, -84.54283000000001),\n",
              " (39.06272, -84.65728),\n",
              " (39.03368, -84.59527),\n",
              " (40.021209999999996, -82.99503),\n",
              " (39.866695, -84.9305),\n",
              " (39.056540000000005, -84.54283000000001),\n",
              " (39.03232, -84.59137),\n",
              " (41.04058, -81.61256999999999),\n",
              " (40.98884, -83.64875),\n",
              " (39.956579999999995, -83.37075),\n",
              " (39.89857, -83.72139),\n",
              " (39.896448, -83.72312099999999),\n",
              " (41.47965, -81.66758),\n",
              " (39.71548, -84.22033),\n",
              " (40.0389, -85.71828000000001),\n",
              " (41.17516, -81.23116999999999),\n",
              " (41.151070000000004, -81.21375),\n",
              " (40.0389, -85.71828000000001),\n",
              " (39.993359999999996, -85.83861999999999),\n",
              " (40.46013, -80.19126),\n",
              " (41.68976, -83.666),\n",
              " (39.973259999999996, -83.00690999999999),\n",
              " (39.48572, -83.94191),\n",
              " (39.83355, -85.99635),\n",
              " (39.83355, -85.99635),\n",
              " (39.79721, -85.97153),\n",
              " (39.79721, -85.97153),\n",
              " (39.98056, -83.11924),\n",
              " (41.458, -83.62243000000001),\n",
              " (39.905352, -82.995352),\n",
              " (39.99921, -83.02875),\n",
              " (40.869049, -81.95845600000001),\n",
              " (41.419021, -81.519515),\n",
              " (39.343920000000004, -84.39043000000001),\n",
              " (39.9454, -82.60271),\n",
              " (38.353957, -81.73513100000001),\n",
              " (38.354504999999996, -81.731585),\n",
              " (41.501622999999995, -81.479519),\n",
              " (39.86477, -83.99871),\n",
              " (38.737813, -85.250959),\n",
              " (40.00507, -83.1186),\n",
              " (39.919779999999996, -82.93149),\n",
              " (39.097570000000005, -84.51666),\n",
              " (41.07995, -81.50389),\n",
              " (41.63316, -83.54203000000001),\n",
              " (39.82529, -83.03175999999999),\n",
              " (39.83209, -82.99884),\n",
              " (39.83208, -83.000447),\n",
              " (39.83214, -82.99838000000001),\n",
              " (38.416631, -84.861968),\n",
              " (40.55549, -80.11634000000001),\n",
              " (39.17736, -84.4873),\n",
              " (41.484589, -81.691778),\n",
              " (41.227340000000005, -81.62705),\n",
              " (39.04695, -84.57498000000001),\n",
              " (39.25595, -84.44287),\n",
              " (39.8888, -82.88181999999999),\n",
              " (39.74729, -84.21426),\n",
              " (39.97415, -83.09486),\n",
              " (39.08272, -84.52264),\n",
              " (39.949808000000004, -83.02289300000001),\n",
              " (39.951409999999996, -83.0137),\n",
              " (38.7056, -80.66107),\n",
              " (39.1479, -84.53929000000001),\n",
              " (41.7573, -83.48075),\n",
              " (39.98946, -85.9299),\n",
              " (39.98894, -83.025012),\n",
              " (41.110996, -80.82384),\n",
              " (41.686859000000005, -83.554005),\n",
              " (41.53907, -81.63354),\n",
              " (39.300562, -84.518869),\n",
              " (41.202543, -85.7011),\n",
              " (39.19288, -84.47723),\n",
              " (40.07297, -83.1347),\n",
              " (39.140991, -84.483618),\n",
              " (41.121598999999996, -80.789503),\n",
              " (41.31438, -81.51286),\n",
              " (39.85922, -84.27762),\n",
              " (40.42005, -80.03531),\n",
              " (39.9589, -82.98257),\n",
              " (39.89087, -83.85382),\n",
              " (39.89862, -83.85353),\n",
              " (40.03938, -83.050567),\n",
              " (41.41218, -81.61371),\n",
              " (38.306159, -80.833765),\n",
              " (40.104, -82.94154),\n",
              " (38.24178, -85.62212),\n",
              " (41.552640000000004, -81.60032),\n",
              " (39.992259999999995, -82.98517),\n",
              " (38.315529999999995, -85.58313000000001),\n",
              " (38.400331, -85.371049),\n",
              " (38.312509999999996, -85.57741999999999),\n",
              " (38.400331, -85.371049),\n",
              " (39.889379999999996, -82.88316),\n",
              " (38.15873, -80.90504),\n",
              " (38.155136999999996, -80.912154),\n",
              " (39.9745, -83.09654),\n",
              " (41.47487, -81.72095),\n",
              " (39.26931, -84.4307),\n",
              " (38.2201, -85.82223),\n",
              " (41.48339, -81.66297),\n",
              " (39.161609999999996, -84.51375),\n",
              " (41.42734, -82.08322),\n",
              " (41.526309999999995, -83.62123000000001),\n",
              " (39.917320000000004, -83.012335),\n",
              " (41.608670000000004, -81.48891),\n",
              " (41.20554, -85.17116),\n",
              " (41.1787, -85.16594),\n",
              " (41.507189000000004, -81.67124),\n",
              " (39.97415, -83.09486),\n",
              " (39.97043, -83.01961999999999),\n",
              " (39.93849, -82.84849),\n",
              " (39.89698, -83.03428000000001),\n",
              " (39.71452, -84.22281),\n",
              " (40.11468, -83.01644),\n",
              " (38.34244, -85.80447),\n",
              " (41.47036, -81.65984),\n",
              " (38.30056, -85.84703),\n",
              " (39.169389, -84.50389),\n",
              " (39.936838, -83.042661),\n",
              " (39.937567, -83.04209200000001),\n",
              " (39.9425, -82.53536),\n",
              " (39.27125, -84.35176),\n",
              " (41.398877, -83.616108),\n",
              " (39.24422, -84.30224),\n",
              " (40.412997, -80.07973299999999),\n",
              " (39.021521, -84.50784300000001),\n",
              " (41.123670000000004, -80.76913),\n",
              " (41.073876, -83.66091999999999),\n",
              " (39.01992, -83.65886),\n",
              " (38.97914, -83.65465),\n",
              " (40.099270000000004, -83.15793000000001),\n",
              " (39.93658, -83.00941999999999),\n",
              " (39.115429999999996, -84.50003000000001),\n",
              " (41.474552, -81.711522),\n",
              " (39.78517, -84.18457),\n",
              " (41.47974, -81.6667),\n",
              " (38.277190000000004, -85.69383),\n",
              " (38.495124, -85.771118),\n",
              " (39.73277, -84.20522),\n",
              " (41.458, -83.62243000000001),\n",
              " (39.045381, -84.462312),\n",
              " (41.526, -81.65974),\n",
              " (40.78725, -81.38592),\n",
              " (38.3657, -85.75495),\n",
              " (39.02575, -84.61272),\n",
              " (40.90923, -81.79765),\n",
              " (40.91649, -81.78869),\n",
              " (39.10051, -80.39199),\n",
              " (40.082643, -82.91367199999999),\n",
              " (41.47162, -81.90626),\n",
              " (40.08155, -82.91859000000001),\n",
              " (40.07976, -82.92689),\n",
              " (38.27511, -85.81238),\n",
              " (39.02908, -84.53565),\n",
              " (39.04455, -84.57798000000001),\n",
              " (39.830259999999996, -81.45434),\n",
              " (39.81436, -81.46898),\n",
              " (38.41336, -82.3483),\n",
              " (38.20674, -85.74846),\n",
              " (38.10937, -85.70123000000001),\n",
              " (40.26758, -82.92745),\n",
              " (38.22285, -85.57436),\n",
              " (40.43827, -80.00527),\n",
              " (39.08272, -84.52264),\n",
              " (40.046599, -85.99359),\n",
              " (41.67904, -83.5732),\n",
              " (40.52225, -80.06666),\n",
              " (41.041763, -81.3932),\n",
              " (39.02541, -85.88784),\n",
              " (39.887572, -84.047499),\n",
              " (39.90803, -84.03969000000001),\n",
              " (39.8181, -81.45925),\n",
              " (39.8181, -81.45925),\n",
              " (39.8181, -81.45925),\n",
              " (39.81447, -81.46769),\n",
              " (41.47307, -80.36586),\n",
              " (41.460561, -80.366376),\n",
              " (39.75022, -84.19668),\n",
              " (39.161609999999996, -84.51375),\n",
              " (39.82329, -84.166569),\n",
              " (39.818751, -84.167637),\n",
              " (39.15267, -84.5395),\n",
              " (40.480209, -85.719799),\n",
              " (39.026759999999996, -84.61421),\n",
              " (40.480209, -85.719799),\n",
              " (40.480129999999996, -85.72942900000001),\n",
              " (38.24863, -85.70467),\n",
              " (39.24907, -84.44561999999999),\n",
              " (39.183640000000004, -84.48373000000001),\n",
              " (41.420898, -81.69322),\n",
              " (39.18976, -84.26285),\n",
              " (40.009209999999996, -83.03149),\n",
              " (41.12369, -80.75595),\n",
              " (41.09705, -81.50012),\n",
              " (41.03011, -81.40292099999999),\n",
              " (39.9533, -83.0032),\n",
              " (39.91404, -83.01729),\n",
              " (39.118109999999994, -84.49975),\n",
              " (39.73277, -84.20522),\n",
              " (41.47379, -81.69592),\n",
              " (41.47395, -81.69931),\n",
              " (39.62334, -81.83577),\n",
              " (39.98233, -82.98449000000001),\n",
              " (40.15106, -80.03243),\n",
              " (41.66332, -83.56385999999999),\n",
              " (39.35245, -84.37507),\n",
              " (41.67178, -83.6939),\n",
              " (38.380179999999996, -82.60993),\n",
              " (39.03347, -84.603),\n",
              " (40.42116, -80.0438),\n",
              " (41.341147, -83.347543),\n",
              " (41.34131, -83.376561),\n",
              " (40.26758, -82.92745),\n",
              " (40.432459, -80.023538),\n",
              " (39.9912, -85.9188),\n",
              " (39.056540000000005, -84.54283000000001),\n",
              " (38.39328, -85.76223),\n",
              " (39.971658000000005, -80.017133),\n",
              " (39.98381, -80.01011),\n",
              " (39.844570000000004, -85.51639399999999),\n",
              " (38.399528000000004, -85.76430500000001),\n",
              " (38.38981, -81.76937),\n",
              " (41.47965, -81.66758),\n",
              " (39.978590000000004, -82.9763),\n",
              " (40.681090000000005, -80.24616999999999),\n",
              " (40.681090000000005, -80.24616999999999),\n",
              " (41.47487, -81.72095),\n",
              " ...]"
            ]
          },
          "metadata": {},
          "execution_count": 75
        }
      ]
    },
    {
      "cell_type": "code",
      "metadata": {
        "id": "QOz3pdZz748t",
        "outputId": "b4d6753b-de5a-4496-c552-d8b6f188b433",
        "colab": {
          "base_uri": "https://localhost:8080/",
          "height": 866
        }
      },
      "source": [
        "folium.Map()"
      ],
      "execution_count": 63,
      "outputs": [
        {
          "output_type": "execute_result",
          "data": {
            "text/html": [
              "<div style=\"width:100%;\"><div style=\"position:relative;width:100%;height:0;padding-bottom:60%;\"><span style=\"color:#565656\">Make this Notebook Trusted to load map: File -> Trust Notebook</span><iframe src=\"about:blank\" style=\"position:absolute;width:100%;height:100%;left:0;top:0;border:none !important;\" data-html=%3C%21DOCTYPE%20html%3E%0A%3Chead%3E%20%20%20%20%0A%20%20%20%20%3Cmeta%20http-equiv%3D%22content-type%22%20content%3D%22text/html%3B%20charset%3DUTF-8%22%20/%3E%0A%20%20%20%20%3Cscript%3EL_PREFER_CANVAS%3Dfalse%3B%20L_NO_TOUCH%3Dfalse%3B%20L_DISABLE_3D%3Dfalse%3B%3C/script%3E%0A%20%20%20%20%3Cscript%20src%3D%22https%3A//cdn.jsdelivr.net/npm/leaflet%401.4.0/dist/leaflet.js%22%3E%3C/script%3E%0A%20%20%20%20%3Cscript%20src%3D%22https%3A//code.jquery.com/jquery-1.12.4.min.js%22%3E%3C/script%3E%0A%20%20%20%20%3Cscript%20src%3D%22https%3A//maxcdn.bootstrapcdn.com/bootstrap/3.2.0/js/bootstrap.min.js%22%3E%3C/script%3E%0A%20%20%20%20%3Cscript%20src%3D%22https%3A//cdnjs.cloudflare.com/ajax/libs/Leaflet.awesome-markers/2.0.2/leaflet.awesome-markers.js%22%3E%3C/script%3E%0A%20%20%20%20%3Clink%20rel%3D%22stylesheet%22%20href%3D%22https%3A//cdn.jsdelivr.net/npm/leaflet%401.4.0/dist/leaflet.css%22/%3E%0A%20%20%20%20%3Clink%20rel%3D%22stylesheet%22%20href%3D%22https%3A//maxcdn.bootstrapcdn.com/bootstrap/3.2.0/css/bootstrap.min.css%22/%3E%0A%20%20%20%20%3Clink%20rel%3D%22stylesheet%22%20href%3D%22https%3A//maxcdn.bootstrapcdn.com/bootstrap/3.2.0/css/bootstrap-theme.min.css%22/%3E%0A%20%20%20%20%3Clink%20rel%3D%22stylesheet%22%20href%3D%22https%3A//maxcdn.bootstrapcdn.com/font-awesome/4.6.3/css/font-awesome.min.css%22/%3E%0A%20%20%20%20%3Clink%20rel%3D%22stylesheet%22%20href%3D%22https%3A//cdnjs.cloudflare.com/ajax/libs/Leaflet.awesome-markers/2.0.2/leaflet.awesome-markers.css%22/%3E%0A%20%20%20%20%3Clink%20rel%3D%22stylesheet%22%20href%3D%22https%3A//rawcdn.githack.com/python-visualization/folium/master/folium/templates/leaflet.awesome.rotate.css%22/%3E%0A%20%20%20%20%3Cstyle%3Ehtml%2C%20body%20%7Bwidth%3A%20100%25%3Bheight%3A%20100%25%3Bmargin%3A%200%3Bpadding%3A%200%3B%7D%3C/style%3E%0A%20%20%20%20%3Cstyle%3E%23map%20%7Bposition%3Aabsolute%3Btop%3A0%3Bbottom%3A0%3Bright%3A0%3Bleft%3A0%3B%7D%3C/style%3E%0A%20%20%20%20%0A%20%20%20%20%3Cmeta%20name%3D%22viewport%22%20content%3D%22width%3Ddevice-width%2C%0A%20%20%20%20%20%20%20%20initial-scale%3D1.0%2C%20maximum-scale%3D1.0%2C%20user-scalable%3Dno%22%20/%3E%0A%20%20%20%20%3Cstyle%3E%23map_1e93cafc80e74bec91a8390af923163d%20%7B%0A%20%20%20%20%20%20%20%20position%3A%20relative%3B%0A%20%20%20%20%20%20%20%20width%3A%20100.0%25%3B%0A%20%20%20%20%20%20%20%20height%3A%20100.0%25%3B%0A%20%20%20%20%20%20%20%20left%3A%200.0%25%3B%0A%20%20%20%20%20%20%20%20top%3A%200.0%25%3B%0A%20%20%20%20%20%20%20%20%7D%0A%20%20%20%20%3C/style%3E%0A%3C/head%3E%0A%3Cbody%3E%20%20%20%20%0A%20%20%20%20%0A%20%20%20%20%3Cdiv%20class%3D%22folium-map%22%20id%3D%22map_1e93cafc80e74bec91a8390af923163d%22%20%3E%3C/div%3E%0A%3C/body%3E%0A%3Cscript%3E%20%20%20%20%0A%20%20%20%20%0A%20%20%20%20%0A%20%20%20%20%20%20%20%20var%20bounds%20%3D%20null%3B%0A%20%20%20%20%0A%0A%20%20%20%20var%20map_1e93cafc80e74bec91a8390af923163d%20%3D%20L.map%28%0A%20%20%20%20%20%20%20%20%27map_1e93cafc80e74bec91a8390af923163d%27%2C%20%7B%0A%20%20%20%20%20%20%20%20center%3A%20%5B0%2C%200%5D%2C%0A%20%20%20%20%20%20%20%20zoom%3A%201%2C%0A%20%20%20%20%20%20%20%20maxBounds%3A%20bounds%2C%0A%20%20%20%20%20%20%20%20layers%3A%20%5B%5D%2C%0A%20%20%20%20%20%20%20%20worldCopyJump%3A%20false%2C%0A%20%20%20%20%20%20%20%20crs%3A%20L.CRS.EPSG3857%2C%0A%20%20%20%20%20%20%20%20zoomControl%3A%20true%2C%0A%20%20%20%20%20%20%20%20%7D%29%3B%0A%0A%0A%20%20%20%20%0A%20%20%20%20var%20tile_layer_283596b116524349907860daa0822c89%20%3D%20L.tileLayer%28%0A%20%20%20%20%20%20%20%20%27https%3A//%7Bs%7D.tile.openstreetmap.org/%7Bz%7D/%7Bx%7D/%7By%7D.png%27%2C%0A%20%20%20%20%20%20%20%20%7B%0A%20%20%20%20%20%20%20%20%22attribution%22%3A%20null%2C%0A%20%20%20%20%20%20%20%20%22detectRetina%22%3A%20false%2C%0A%20%20%20%20%20%20%20%20%22maxNativeZoom%22%3A%2018%2C%0A%20%20%20%20%20%20%20%20%22maxZoom%22%3A%2018%2C%0A%20%20%20%20%20%20%20%20%22minZoom%22%3A%200%2C%0A%20%20%20%20%20%20%20%20%22noWrap%22%3A%20false%2C%0A%20%20%20%20%20%20%20%20%22opacity%22%3A%201%2C%0A%20%20%20%20%20%20%20%20%22subdomains%22%3A%20%22abc%22%2C%0A%20%20%20%20%20%20%20%20%22tms%22%3A%20false%0A%7D%29.addTo%28map_1e93cafc80e74bec91a8390af923163d%29%3B%0A%3C/script%3E onload=\"this.contentDocument.open();this.contentDocument.write(    decodeURIComponent(this.getAttribute('data-html')));this.contentDocument.close();\" allowfullscreen webkitallowfullscreen mozallowfullscreen></iframe></div></div>"
            ],
            "text/plain": [
              "<folium.folium.Map at 0x7f357c222890>"
            ]
          },
          "metadata": {},
          "execution_count": 63
        }
      ]
    },
    {
      "cell_type": "code",
      "metadata": {
        "id": "eiDHRpB2YGRL"
      },
      "source": [
        "from folium.plugins import HeatMap"
      ],
      "execution_count": 76,
      "outputs": []
    },
    {
      "cell_type": "code",
      "metadata": {
        "id": "_seiXid0b-_f"
      },
      "source": [
        "sample_df = df.sample(int(0.01 * len(df)))\n",
        "lat_lon_pairs = list(zip(list(sample_df.Start_Lat),list(sample_df.Start_Lng)))"
      ],
      "execution_count": 89,
      "outputs": []
    },
    {
      "cell_type": "code",
      "metadata": {
        "id": "2e5I_ZYrbZmi",
        "outputId": "5094a861-34e1-4b7f-a751-95655d9c2e77",
        "colab": {
          "base_uri": "https://localhost:8080/",
          "height": 866
        }
      },
      "source": [
        "map= folium.Map()\n",
        "HeatMap(lat_lon_pairs[:1000]).add_to(map)\n",
        "map"
      ],
      "execution_count": 90,
      "outputs": [
        {
          "output_type": "execute_result",
          "data": {
            "text/html": [
              "<div style=\"width:100%;\"><div style=\"position:relative;width:100%;height:0;padding-bottom:60%;\"><span style=\"color:#565656\">Make this Notebook Trusted to load map: File -> Trust Notebook</span><iframe src=\"about:blank\" style=\"position:absolute;width:100%;height:100%;left:0;top:0;border:none !important;\" data-html=%3C%21DOCTYPE%20html%3E%0A%3Chead%3E%20%20%20%20%0A%20%20%20%20%3Cmeta%20http-equiv%3D%22content-type%22%20content%3D%22text/html%3B%20charset%3DUTF-8%22%20/%3E%0A%20%20%20%20%3Cscript%3EL_PREFER_CANVAS%3Dfalse%3B%20L_NO_TOUCH%3Dfalse%3B%20L_DISABLE_3D%3Dfalse%3B%3C/script%3E%0A%20%20%20%20%3Cscript%20src%3D%22https%3A//cdn.jsdelivr.net/npm/leaflet%401.4.0/dist/leaflet.js%22%3E%3C/script%3E%0A%20%20%20%20%3Cscript%20src%3D%22https%3A//code.jquery.com/jquery-1.12.4.min.js%22%3E%3C/script%3E%0A%20%20%20%20%3Cscript%20src%3D%22https%3A//maxcdn.bootstrapcdn.com/bootstrap/3.2.0/js/bootstrap.min.js%22%3E%3C/script%3E%0A%20%20%20%20%3Cscript%20src%3D%22https%3A//cdnjs.cloudflare.com/ajax/libs/Leaflet.awesome-markers/2.0.2/leaflet.awesome-markers.js%22%3E%3C/script%3E%0A%20%20%20%20%3Clink%20rel%3D%22stylesheet%22%20href%3D%22https%3A//cdn.jsdelivr.net/npm/leaflet%401.4.0/dist/leaflet.css%22/%3E%0A%20%20%20%20%3Clink%20rel%3D%22stylesheet%22%20href%3D%22https%3A//maxcdn.bootstrapcdn.com/bootstrap/3.2.0/css/bootstrap.min.css%22/%3E%0A%20%20%20%20%3Clink%20rel%3D%22stylesheet%22%20href%3D%22https%3A//maxcdn.bootstrapcdn.com/bootstrap/3.2.0/css/bootstrap-theme.min.css%22/%3E%0A%20%20%20%20%3Clink%20rel%3D%22stylesheet%22%20href%3D%22https%3A//maxcdn.bootstrapcdn.com/font-awesome/4.6.3/css/font-awesome.min.css%22/%3E%0A%20%20%20%20%3Clink%20rel%3D%22stylesheet%22%20href%3D%22https%3A//cdnjs.cloudflare.com/ajax/libs/Leaflet.awesome-markers/2.0.2/leaflet.awesome-markers.css%22/%3E%0A%20%20%20%20%3Clink%20rel%3D%22stylesheet%22%20href%3D%22https%3A//rawcdn.githack.com/python-visualization/folium/master/folium/templates/leaflet.awesome.rotate.css%22/%3E%0A%20%20%20%20%3Cstyle%3Ehtml%2C%20body%20%7Bwidth%3A%20100%25%3Bheight%3A%20100%25%3Bmargin%3A%200%3Bpadding%3A%200%3B%7D%3C/style%3E%0A%20%20%20%20%3Cstyle%3E%23map%20%7Bposition%3Aabsolute%3Btop%3A0%3Bbottom%3A0%3Bright%3A0%3Bleft%3A0%3B%7D%3C/style%3E%0A%20%20%20%20%0A%20%20%20%20%3Cmeta%20name%3D%22viewport%22%20content%3D%22width%3Ddevice-width%2C%0A%20%20%20%20%20%20%20%20initial-scale%3D1.0%2C%20maximum-scale%3D1.0%2C%20user-scalable%3Dno%22%20/%3E%0A%20%20%20%20%3Cstyle%3E%23map_1bb4aa988c3f40909b9bdb07433e2149%20%7B%0A%20%20%20%20%20%20%20%20position%3A%20relative%3B%0A%20%20%20%20%20%20%20%20width%3A%20100.0%25%3B%0A%20%20%20%20%20%20%20%20height%3A%20100.0%25%3B%0A%20%20%20%20%20%20%20%20left%3A%200.0%25%3B%0A%20%20%20%20%20%20%20%20top%3A%200.0%25%3B%0A%20%20%20%20%20%20%20%20%7D%0A%20%20%20%20%3C/style%3E%0A%20%20%20%20%3Cscript%20src%3D%22https%3A//leaflet.github.io/Leaflet.heat/dist/leaflet-heat.js%22%3E%3C/script%3E%0A%3C/head%3E%0A%3Cbody%3E%20%20%20%20%0A%20%20%20%20%0A%20%20%20%20%3Cdiv%20class%3D%22folium-map%22%20id%3D%22map_1bb4aa988c3f40909b9bdb07433e2149%22%20%3E%3C/div%3E%0A%3C/body%3E%0A%3Cscript%3E%20%20%20%20%0A%20%20%20%20%0A%20%20%20%20%0A%20%20%20%20%20%20%20%20var%20bounds%20%3D%20null%3B%0A%20%20%20%20%0A%0A%20%20%20%20var%20map_1bb4aa988c3f40909b9bdb07433e2149%20%3D%20L.map%28%0A%20%20%20%20%20%20%20%20%27map_1bb4aa988c3f40909b9bdb07433e2149%27%2C%20%7B%0A%20%20%20%20%20%20%20%20center%3A%20%5B0%2C%200%5D%2C%0A%20%20%20%20%20%20%20%20zoom%3A%201%2C%0A%20%20%20%20%20%20%20%20maxBounds%3A%20bounds%2C%0A%20%20%20%20%20%20%20%20layers%3A%20%5B%5D%2C%0A%20%20%20%20%20%20%20%20worldCopyJump%3A%20false%2C%0A%20%20%20%20%20%20%20%20crs%3A%20L.CRS.EPSG3857%2C%0A%20%20%20%20%20%20%20%20zoomControl%3A%20true%2C%0A%20%20%20%20%20%20%20%20%7D%29%3B%0A%0A%0A%20%20%20%20%0A%20%20%20%20var%20tile_layer_e299f7ddf558431991f406ae02affb4c%20%3D%20L.tileLayer%28%0A%20%20%20%20%20%20%20%20%27https%3A//%7Bs%7D.tile.openstreetmap.org/%7Bz%7D/%7Bx%7D/%7By%7D.png%27%2C%0A%20%20%20%20%20%20%20%20%7B%0A%20%20%20%20%20%20%20%20%22attribution%22%3A%20null%2C%0A%20%20%20%20%20%20%20%20%22detectRetina%22%3A%20false%2C%0A%20%20%20%20%20%20%20%20%22maxNativeZoom%22%3A%2018%2C%0A%20%20%20%20%20%20%20%20%22maxZoom%22%3A%2018%2C%0A%20%20%20%20%20%20%20%20%22minZoom%22%3A%200%2C%0A%20%20%20%20%20%20%20%20%22noWrap%22%3A%20false%2C%0A%20%20%20%20%20%20%20%20%22opacity%22%3A%201%2C%0A%20%20%20%20%20%20%20%20%22subdomains%22%3A%20%22abc%22%2C%0A%20%20%20%20%20%20%20%20%22tms%22%3A%20false%0A%7D%29.addTo%28map_1bb4aa988c3f40909b9bdb07433e2149%29%3B%0A%20%20%20%20%0A%20%20%20%20%20%20%20%20%20%20%20%20var%20heat_map_e56deb0e3c00434cbad894f93c19d63a%20%3D%20L.heatLayer%28%0A%20%20%20%20%20%20%20%20%20%20%20%20%20%20%20%20%5B%5B35.95433%2C%20-80.53575%5D%2C%20%5B40.73213%2C%20-111.94986999999999%5D%2C%20%5B33.930913000000004%2C%20-118.17868%5D%2C%20%5B33.693796999999996%2C%20-117.93028999999999%5D%2C%20%5B43.167238%2C%20-77.602065%5D%2C%20%5B33.488329%2C%20-81.94964%5D%2C%20%5B33.592764%2C%20-112.185382%5D%2C%20%5B33.874813%2C%20-78.61892900000001%5D%2C%20%5B28.360865999999998%2C%20-80.70031%5D%2C%20%5B40.47787%2C%20-111.90423799999999%5D%2C%20%5B45.536786%2C%20-122.68434099999999%5D%2C%20%5B29.714832%2C%20-95.592636%5D%2C%20%5B39.319241999999996%2C%20-76.45824499999999%5D%2C%20%5B39.29412%2C%20-76.63985%5D%2C%20%5B43.805367%2C%20-121.436498%5D%2C%20%5B37.495243%2C%20-122.22899699999999%5D%2C%20%5B39.375174%2C%20-77.271518%5D%2C%20%5B41.25634%2C%20-72.99564000000001%5D%2C%20%5B25.751839999999998%2C%20-80.32008%5D%2C%20%5B40.98982%2C%20-73.67566%5D%2C%20%5B38.060889%2C%20-122.225017%5D%2C%20%5B34.10406%2C%20-118.19108%5D%2C%20%5B37.935097%2C%20-122.44451699999999%5D%2C%20%5B45.053901%2C%20-93.40099000000001%5D%2C%20%5B29.136709999999997%2C%20-82.108576%5D%2C%20%5B37.551623%2C%20-120.911396%5D%2C%20%5B34.16888%2C%20-118.61391%5D%2C%20%5B39.18182%2C%20-76.78424%5D%2C%20%5B34.590109999999996%2C%20-117.26006000000001%5D%2C%20%5B25.95068%2C%20-80.43106999999999%5D%2C%20%5B33.973440000000004%2C%20-117.33282%5D%2C%20%5B43.18645%2C%20-77.6138%5D%2C%20%5B34.109460999999996%2C%20-118.261096%5D%2C%20%5B38.64144%2C%20-121.46193000000001%5D%2C%20%5B34.031667999999996%2C%20-118.021941%5D%2C%20%5B40.72565%2C%20-112.03667%5D%2C%20%5B35.807522%2C%20-78.69394100000001%5D%2C%20%5B47.58486%2C%20-122.22516999999999%5D%2C%20%5B38.60021%2C%20-121.45801999999999%5D%2C%20%5B32.26502%2C%20-110.92354399999999%5D%2C%20%5B42.269528%2C%20-87.9505%5D%2C%20%5B32.323240000000006%2C%20-111.03742%5D%2C%20%5B29.718489%2C%20-95.414946%5D%2C%20%5B45.51992%2C%20-122.92596999999999%5D%2C%20%5B33.873725%2C%20-117.71302%5D%2C%20%5B33.876381%2C%20-118.102337%5D%2C%20%5B40.855996999999995%2C%20-74.12240600000001%5D%2C%20%5B37.24085%2C%20-121.77881000000001%5D%2C%20%5B34.10725%2C%20-118.18676%5D%2C%20%5B35.19086%2C%20-89.96418299999999%5D%2C%20%5B29.58025%2C%20-95.15784000000001%5D%2C%20%5B44.648152%2C%20-93.78809%5D%2C%20%5B37.962812%2C%20-122.05425100000001%5D%2C%20%5B33.885918%2C%20-118.27013899999999%5D%2C%20%5B40.170706%2C%20-111.64648999999999%5D%2C%20%5B34.224482%2C%20-118.47326799999999%5D%2C%20%5B46.90807%2C%20-95.05836%5D%2C%20%5B34.30737%2C%20-117.46931000000001%5D%2C%20%5B37.216819%2C%20-77.39277%5D%2C%20%5B40.496944%2C%20-78.37998499999999%5D%2C%20%5B43.554924%2C%20-124.208459%5D%2C%20%5B42.4662%2C%20-88.017263%5D%2C%20%5B35.18421%2C%20-80.80764%5D%2C%20%5B33.87328%2C%20-118.19878999999999%5D%2C%20%5B38.559511%2C%20-121.373101%5D%2C%20%5B44.037715000000006%2C%20-116.99621699999999%5D%2C%20%5B25.714375%2C%20-80.415451%5D%2C%20%5B33.386067%2C%20-111.84799699999999%5D%2C%20%5B45.64614%2C%20-117.27591000000001%5D%2C%20%5B43.682942%2C%20-116.31539%5D%2C%20%5B37.549799%2C%20-77.430127%5D%2C%20%5B34.069539%2C%20-118.260517%5D%2C%20%5B28.593639000000003%2C%20-81.45705%5D%2C%20%5B33.91049%2C%20-112.14554%5D%2C%20%5B45.327220000000004%2C%20-92.6996%5D%2C%20%5B34.037296999999995%2C%20-118.038459%5D%2C%20%5B25.770822%2C%20-80.33653100000001%5D%2C%20%5B33.597840000000005%2C%20-117.67642%5D%2C%20%5B40.17737%2C%20-122.22228%5D%2C%20%5B34.031620000000004%2C%20-118.41358999999999%5D%2C%20%5B36.92845%2C%20-120.02595%5D%2C%20%5B33.125567%2C%20-117.10453600000001%5D%2C%20%5B34.071803%2C%20-118.122867%5D%2C%20%5B45.932291%2C%20-118.38762%5D%2C%20%5B34.400378%2C%20-118.572644%5D%2C%20%5B41.96953%2C%20-87.75901%5D%2C%20%5B47.629655%2C%20-122.15321499999999%5D%2C%20%5B40.229278%2C%20-75.23707900000001%5D%2C%20%5B25.941825%2C%20-80.193465%5D%2C%20%5B41.209435%2C%20-76.921276%5D%2C%20%5B36.172577000000004%2C%20-86.76279699999999%5D%2C%20%5B42.137229999999995%2C%20-72.60993%5D%2C%20%5B37.497403999999996%2C%20-77.436063%5D%2C%20%5B46.34833%2C%20-122.90663%5D%2C%20%5B33.873662%2C%20-118.342914%5D%2C%20%5B37.50951%2C%20-122.33351%5D%2C%20%5B30.189327000000002%2C%20-81.73948299999999%5D%2C%20%5B37.842056%2C%20-87.11037900000001%5D%2C%20%5B41.22917%2C%20-81.48938000000001%5D%2C%20%5B35.95998%2C%20-83.97326%5D%2C%20%5B34.8522%2C%20-82.45165%5D%2C%20%5B37.396377%2C%20-79.900604%5D%2C%20%5B37.32509%2C%20-121.88677%5D%2C%20%5B35.29058%2C%20-80.76743%5D%2C%20%5B42.220682000000004%2C%20-73.831847%5D%2C%20%5B37.331126%2C%20-119.655542%5D%2C%20%5B45.51724%2C%20-122.66481999999999%5D%2C%20%5B28.826240000000002%2C%20-81.328261%5D%2C%20%5B36.264469%2C%20-80.82558900000001%5D%2C%20%5B38.94642%2C%20-76.84765%5D%2C%20%5B37.14435%2C%20-121.98468000000001%5D%2C%20%5B40.874937%2C%20-73.974177%5D%2C%20%5B26.11935%2C%20-80.16938%5D%2C%20%5B34.625261%2C%20-117.23264099999999%5D%2C%20%5B32.72338%2C%20-83.53392%5D%2C%20%5B28.55313%2C%20-81.3792%5D%2C%20%5B40.22717%2C%20-111.67805%5D%2C%20%5B32.74301%2C%20-97.06264%5D%2C%20%5B36.939766999999996%2C%20-121.770026%5D%2C%20%5B38.085235%2C%20-122.20635300000001%5D%2C%20%5B42.947934000000004%2C%20-115.430108%5D%2C%20%5B25.715849%2C%20-80.356536%5D%2C%20%5B33.095403000000005%2C%20-110.729821%5D%2C%20%5B45.66864%2C%20-122.868698%5D%2C%20%5B39.78791%2C%20-86.16645%5D%2C%20%5B42.39781%2C%20-82.98557%5D%2C%20%5B29.52815%2C%20-95.50109%5D%2C%20%5B38.66104%2C%20-121.38008%5D%2C%20%5B42.43309%2C%20-88.21913%5D%2C%20%5B40.751940000000005%2C%20-73.89739%5D%2C%20%5B33.733055%2C%20-117.40597%5D%2C%20%5B38.149695%2C%20-121.399497%5D%2C%20%5B33.94747%2C%20-118.36828999999999%5D%2C%20%5B42.12213%2C%20-71.22919%5D%2C%20%5B44.80012%2C%20-93.28996%5D%2C%20%5B37.729924%2C%20-122.43996899999999%5D%2C%20%5B35.89043%2C%20-78.561738%5D%2C%20%5B38.245731%2C%20-122.62550900000001%5D%2C%20%5B42.42498%2C%20-123.3319%5D%2C%20%5B26.191907%2C%20-80.15154799999999%5D%2C%20%5B32.156056%2C%20-97.146997%5D%2C%20%5B34.187068%2C%20-118.12586%5D%2C%20%5B38.384764000000004%2C%20-121.937997%5D%2C%20%5B40.800908%2C%20-73.939073%5D%2C%20%5B33.927861%2C%20-118.21706699999999%5D%2C%20%5B28.043809000000003%2C%20-82.67885600000001%5D%2C%20%5B34.071940000000005%2C%20-118.08458%5D%2C%20%5B41.55147%2C%20-73.04024%5D%2C%20%5B45.53347%2C%20-122.56861%5D%2C%20%5B39.881601%2C%20-104.98768999999999%5D%2C%20%5B45.510487%2C%20-93.011253%5D%2C%20%5B33.855062%2C%20-117.976248%5D%2C%20%5B30.164621%2C%20-81.74765500000001%5D%2C%20%5B36.31816%2C%20-119.39719%5D%2C%20%5B39.989476%2C%20-75.08764000000001%5D%2C%20%5B35.46013%2C%20-97.68217%5D%2C%20%5B34.063914000000004%2C%20-117.269823%5D%2C%20%5B38.558285%2C%20-122.819542%5D%2C%20%5B33.783878%2C%20-118.091319%5D%2C%20%5B34.067370000000004%2C%20-117.98392%5D%2C%20%5B45.52519%2C%20-122.66533000000001%5D%2C%20%5B26.07862%2C%20-80.21576999999999%5D%2C%20%5B41.650232%2C%20-93.592239%5D%2C%20%5B40.846767%2C%20-73.933785%5D%2C%20%5B34.11095%2C%20-117.1994%5D%2C%20%5B33.719120000000004%2C%20-84.39681%5D%2C%20%5B39.362799%2C%20-77.511628%5D%2C%20%5B33.90575%2C%20-118.06629%5D%2C%20%5B42.42835%2C%20-87.937901%5D%2C%20%5B32.92286%2C%20-96.84411%5D%2C%20%5B25.77696%2C%20-80.32023000000001%5D%2C%20%5B34.030594%2C%20-117.628752%5D%2C%20%5B27.899990000000003%2C%20-82.63899%5D%2C%20%5B36.69552%2C%20-119.7628%5D%2C%20%5B36.150171%2C%20-86.748512%5D%2C%20%5B38.801772%2C%20-111.517537%5D%2C%20%5B39.162815%2C%20-94.590171%5D%2C%20%5B39.410940999999994%2C%20-76.789941%5D%2C%20%5B36.41268%2C%20-84.27944000000001%5D%2C%20%5B41.121629999999996%2C%20-74.00811%5D%2C%20%5B38.89646%2C%20-76.95748%5D%2C%20%5B34.0669%2C%20-117.98742%5D%2C%20%5B34.9927%2C%20-82.02033%5D%2C%20%5B29.84481%2C%20-95.49824%5D%2C%20%5B34.030419%2C%20-117.616142%5D%2C%20%5B37.161187%2C%20-121.985326%5D%2C%20%5B39.0942%2C%20-84.51805999999999%5D%2C%20%5B33.931306%2C%20-118.346303%5D%2C%20%5B40.588774%2C%20-111.87215%5D%2C%20%5B33.9193%2C%20-84.35689%5D%2C%20%5B40.60298%2C%20-74.01634%5D%2C%20%5B33.95463%2C%20-118.36931200000001%5D%2C%20%5B29.687901%2C%20-95.298097%5D%2C%20%5B33.789922%2C%20-118.207925%5D%2C%20%5B34.152029999999996%2C%20-118.14376000000001%5D%2C%20%5B39.40106%2C%20-74.558962%5D%2C%20%5B34.831563%2C%20-82.500876%5D%2C%20%5B30.3208%2C%20-81.70904%5D%2C%20%5B38.945190000000004%2C%20-76.77019%5D%2C%20%5B33.921671999999994%2C%20-117.28845700000001%5D%2C%20%5B25.826304%2C%20-80.323387%5D%2C%20%5B42.238479999999996%2C%20-87.90564%5D%2C%20%5B40.645861%2C%20-74.226203%5D%2C%20%5B32.734513%2C%20-96.82413000000001%5D%2C%20%5B28.611993%2C%20-81.206597%5D%2C%20%5B34.03455%2C%20-118.34275%5D%2C%20%5B33.98988%2C%20-118.28018%5D%2C%20%5B34.036878%2C%20-118.43848500000001%5D%2C%20%5B40.93745%2C%20-74.07121%5D%2C%20%5B34.042952%2C%20-118.272653%5D%2C%20%5B34.31153%2C%20-82.598551%5D%2C%20%5B38.545429999999996%2C%20-90.42985999999999%5D%2C%20%5B41.8509%2C%20-87.64492%5D%2C%20%5B35.139055%2C%20-85.251706%5D%2C%20%5B27.013068%2C%20-82.407521%5D%2C%20%5B33.686209999999996%2C%20-84.30717%5D%2C%20%5B25.640841%2C%20-80.421773%5D%2C%20%5B35.20568%2C%20-80.72595%5D%2C%20%5B34.054248%2C%20-118.237831%5D%2C%20%5B34.858514%2C%20-82.258962%5D%2C%20%5B35.441282%2C%20-119.082559%5D%2C%20%5B40.924741%2C%20-123.69111399999998%5D%2C%20%5B42.951485%2C%20-85.66044699999999%5D%2C%20%5B38.684905%2C%20-121.339377%5D%2C%20%5B37.480323%2C%20-77.557485%5D%2C%20%5B28.811290000000003%2C%20-82.08863000000001%5D%2C%20%5B34.759689%2C%20-77.94687900000001%5D%2C%20%5B33.8694%2C%20-118.28476%5D%2C%20%5B33.6987%2C%20-117.861755%5D%2C%20%5B34.081959999999995%2C%20-118.225196%5D%2C%20%5B40.386849%2C%20-109.43528899999998%5D%2C%20%5B33.92818%2C%20-118.2397%5D%2C%20%5B27.92789%2C%20-82.58686%5D%2C%20%5B38.300517%2C%20-77.503577%5D%2C%20%5B38.785839%2C%20-121.28300300000001%5D%2C%20%5B37.7862%2C%20-122.39068999999999%5D%2C%20%5B34.155739000000004%2C%20-118.431219%5D%2C%20%5B47.68595%2C%20-122.3252%5D%2C%20%5B34.872169%2C%20-82.22455%5D%2C%20%5B44.967827%2C%20-93.287929%5D%2C%20%5B43.003955%2C%20-70.841523%5D%2C%20%5B34.009627%2C%20-81.153076%5D%2C%20%5B37.4911%2C%20-122.21863%5D%2C%20%5B39.098620000000004%2C%20-94.60358000000001%5D%2C%20%5B37.410740999999994%2C%20-121.99219199999999%5D%2C%20%5B38.9309%2C%20-94.65536999999999%5D%2C%20%5B43.916312%2C%20-117.00605700000001%5D%2C%20%5B32.7263%2C%20-97.06255999999999%5D%2C%20%5B34.042994%2C%20-118.220973%5D%2C%20%5B32.8119%2C%20-96.70118000000001%5D%2C%20%5B33.88012%2C%20-117.60813999999999%5D%2C%20%5B35.129359%2C%20-81.189277%5D%2C%20%5B43.439244%2C%20-118.70833700000001%5D%2C%20%5B33.56749%2C%20-84.32422%5D%2C%20%5B44.55153%2C%20-123.06163000000001%5D%2C%20%5B40.908243%2C%20-73.886032%5D%2C%20%5B38.238402%2C%20-76.41587700000001%5D%2C%20%5B41.243778999999996%2C%20-111.96994%5D%2C%20%5B33.537847%2C%20-86.793621%5D%2C%20%5B39.95278%2C%20-83.01775%5D%2C%20%5B30.648979999999998%2C%20-88.12092%5D%2C%20%5B30.224976%2C%20-97.7034%5D%2C%20%5B40.06845%2C%20-76.3026%5D%2C%20%5B26.06251%2C%20-80.18936%5D%2C%20%5B40.20561%2C%20-74.76082%5D%2C%20%5B42.43077%2C%20-82.92419%5D%2C%20%5B43.672011%2C%20-116.28545%5D%2C%20%5B41.334589%2C%20-122.33481200000001%5D%2C%20%5B44.81877%2C%20-93.39813000000001%5D%2C%20%5B37.701712%2C%20-121.88956499999999%5D%2C%20%5B33.783495%2C%20-84.390835%5D%2C%20%5B37.93096%2C%20-122.3247%5D%2C%20%5B39.707696999999996%2C%20-123.489309%5D%2C%20%5B40.779309999999995%2C%20-73.5717%5D%2C%20%5B26.06459%2C%20-80.24829%5D%2C%20%5B30.463596000000003%2C%20-81.648427%5D%2C%20%5B44.86867%2C%20-124.03530400000001%5D%2C%20%5B27.938691%2C%20-82.72766700000001%5D%2C%20%5B40.60945%2C%20-111.953875%5D%2C%20%5B47.59921%2C%20-122.33098799999999%5D%2C%20%5B34.305853000000006%2C%20-118.48224499999999%5D%2C%20%5B33.936285%2C%20-98.518622%5D%2C%20%5B45.355309999999996%2C%20-122.6215%5D%2C%20%5B40.4986%2C%20-111.89102%5D%2C%20%5B45.191917%2C%20-122.793801%5D%2C%20%5B39.78291%2C%20-105.00553000000001%5D%2C%20%5B34.072520000000004%2C%20-84.27009%5D%2C%20%5B26.274801%2C%20-80.142356%5D%2C%20%5B40.06573%2C%20-75.33221999999999%5D%2C%20%5B34.190014%2C%20-118.181024%5D%2C%20%5B33.37753%2C%20-112.555989%5D%2C%20%5B27.966619%2C%20-82.453457%5D%2C%20%5B37.583101%2C%20-122.050132%5D%2C%20%5B34.737131%2C%20-92.278663%5D%2C%20%5B40.62165%2C%20-111.90361000000001%5D%2C%20%5B33.939331%2C%20-84.155091%5D%2C%20%5B34.74669%2C%20-92.394081%5D%2C%20%5B37.295182000000004%2C%20-120.45369299999999%5D%2C%20%5B33.916421%2C%20-118.28603000000001%5D%2C%20%5B32.078821999999995%2C%20-81.24375699999999%5D%2C%20%5B34.221562%2C%20-119.098826%5D%2C%20%5B33.87151%2C%20-117.6661%5D%2C%20%5B33.96669%2C%20-118.08066000000001%5D%2C%20%5B42.55125%2C%20-82.8766%5D%2C%20%5B38.479453%2C%20-78.81152900000001%5D%2C%20%5B45.54441%2C%20-122.4026%5D%2C%20%5B33.91277%2C%20-84.35562%5D%2C%20%5B40.333143%2C%20-76.497328%5D%2C%20%5B33.956140000000005%2C%20-118.10918000000001%5D%2C%20%5B32.713809999999995%2C%20-117.12651000000001%5D%2C%20%5B37.25322%2C%20-121.78908999999999%5D%2C%20%5B40.00736%2C%20-75.20071%5D%2C%20%5B34.152390000000004%2C%20-118.09931%5D%2C%20%5B47.104292%2C%20-122.58845900000001%5D%2C%20%5B42.038616%2C%20-80.107828%5D%2C%20%5B32.69423%2C%20-96.84444%5D%2C%20%5B37.52042%2C%20-77.30265%5D%2C%20%5B33.989413%2C%20-118.280171%5D%2C%20%5B38.8016%2C%20-77.5163%5D%2C%20%5B25.796982%2C%20-80.336225%5D%2C%20%5B38.661013%2C%20-121.36435%5D%2C%20%5B33.50936%2C%20-112.2032%5D%2C%20%5B36.96673%2C%20-76.294566%5D%2C%20%5B37.429829%2C%20-122.10313400000001%5D%2C%20%5B44.489751%2C%20-123.06181000000001%5D%2C%20%5B25.868907999999998%2C%20-80.220062%5D%2C%20%5B43.06047%2C%20-76.23584%5D%2C%20%5B46.627117999999996%2C%20-123.061695%5D%2C%20%5B35.20247%2C%20-80.73076%5D%2C%20%5B29.718877000000003%2C%20-95.550801%5D%2C%20%5B28.602679%2C%20-81.252747%5D%2C%20%5B35.235279999999996%2C%20-80.840486%5D%2C%20%5B30.707773%2C%20-88.12215%5D%2C%20%5B36.750376%2C%20-119.722756%5D%2C%20%5B39.44198%2C%20-76.356858%5D%2C%20%5B32.49815%2C%20-93.741753%5D%2C%20%5B44.958487%2C%20-123.03273999999999%5D%2C%20%5B40.80068%2C%20-111.44308999999998%5D%2C%20%5B41.78432%2C%20-72.66%5D%2C%20%5B39.28447%2C%20-78.39203%5D%2C%20%5B33.807605%2C%20-117.907059%5D%2C%20%5B39.826240999999996%2C%20-84.292321%5D%2C%20%5B33.96803%2C%20-118.37183%5D%2C%20%5B34.709125%2C%20-92.402132%5D%2C%20%5B25.685761%2C%20-80.446127%5D%2C%20%5B43.00605%2C%20-70.98671%5D%2C%20%5B42.845081%2C%20-74.006191%5D%2C%20%5B42.20393%2C%20-87.96341%5D%2C%20%5B27.68157%2C%20-82.67849%5D%2C%20%5B41.64502%2C%20-87.85396%5D%2C%20%5B44.2309%2C%20-93.44938%5D%2C%20%5B39.35777%2C%20-123.63287%5D%2C%20%5B37.23915%2C%20-112.83237%5D%2C%20%5B34.311901%2C%20-117.47377%5D%2C%20%5B40.76063%2C%20-111.88821999999999%5D%2C%20%5B29.73106%2C%20-95.4073%5D%2C%20%5B36.874629999999996%2C%20-76.19738000000001%5D%2C%20%5B43.63947%2C%20-95.949765%5D%2C%20%5B35.05205%2C%20-89.94336%5D%2C%20%5B39.42791%2C%20-76.635921%5D%2C%20%5B35.21908%2C%20-80.8531%5D%2C%20%5B40.99041%2C%20-111.9046%5D%2C%20%5B38.829621%2C%20-104.787603%5D%2C%20%5B34.622946999999996%2C%20-120.21775500000001%5D%2C%20%5B45.50225%2C%20-122.66082%5D%2C%20%5B39.845794%2C%20-75.537581%5D%2C%20%5B38.28804%2C%20-90.40292%5D%2C%20%5B40.717338%2C%20-73.831204%5D%2C%20%5B33.911325%2C%20-118.164524%5D%2C%20%5B45.567029999999995%2C%20-122.67853000000001%5D%2C%20%5B28.450977%2C%20-81.47777099999999%5D%2C%20%5B36.14845%2C%20-115.16752%5D%2C%20%5B40.759985%2C%20-74.41688%5D%2C%20%5B30.22877%2C%20-97.88839899999999%5D%2C%20%5B35.129329999999996%2C%20-85.24345%5D%2C%20%5B38.12598%2C%20-122.22854%5D%2C%20%5B37.972708000000004%2C%20-121.23735900000001%5D%2C%20%5B33.937964%2C%20-118.09816000000001%5D%2C%20%5B40.804381%2C%20-73.91829399999999%5D%2C%20%5B37.202038%2C%20-119.722683%5D%2C%20%5B39.93945%2C%20-82.8482%5D%2C%20%5B26.765029%2C%20-81.876181%5D%2C%20%5B33.920685%2C%20-117.43175600000001%5D%2C%20%5B25.909181%2C%20-80.16930500000001%5D%2C%20%5B34.20478%2C%20-118.40543999999998%5D%2C%20%5B28.356673999999998%2C%20-81.481785%5D%2C%20%5B37.492917%2C%20-122.135545%5D%2C%20%5B34.05728%2C%20-83.98115%5D%2C%20%5B39.371140000000004%2C%20-112.07985%5D%2C%20%5B32.75908%2C%20-96.9174%5D%2C%20%5B33.40786%2C%20-111.599892%5D%2C%20%5B29.013994%2C%20-81.819284%5D%2C%20%5B37.329624%2C%20-121.86853899999998%5D%2C%20%5B36.02678%2C%20-87.17916%5D%2C%20%5B46.619196%2C%20-111.988707%5D%2C%20%5B30.45011%2C%20-91.16181999999999%5D%2C%20%5B37.35497%2C%20-77.41335%5D%2C%20%5B33.873536%2C%20-118.25759099999999%5D%2C%20%5B40.78181%2C%20-73.64945999999999%5D%2C%20%5B41.04959%2C%20-81.56528%5D%2C%20%5B37.976347%2C%20-77.49252%5D%2C%20%5B34.57398%2C%20-80.62304499999999%5D%2C%20%5B38.213708000000004%2C%20-121.068377%5D%2C%20%5B26.165964000000002%2C%20-80.159829%5D%2C%20%5B37.210204%2C%20-93.28834499999999%5D%2C%20%5B45.238620000000004%2C%20-122.80355%5D%2C%20%5B25.924869%2C%20-80.299297%5D%2C%20%5B25.887363%2C%20-80.210837%5D%2C%20%5B34.768775%2C%20-83.001396%5D%2C%20%5B40.213722%2C%20-76.12642%5D%2C%20%5B33.494881%2C%20-117.14635200000001%5D%2C%20%5B45.70893%2C%20-121.526053%5D%2C%20%5B32.923891999999995%2C%20-96.764886%5D%2C%20%5B38.99801%2C%20-94.55604%5D%2C%20%5B28.507987%2C%20-82.243148%5D%2C%20%5B32.68775%2C%20-117.15527%5D%2C%20%5B40.202705%2C%20-111.654545%5D%2C%20%5B36.19102%2C%20-86.79885%5D%2C%20%5B34.233558%2C%20-118.47295700000001%5D%2C%20%5B41.99714%2C%20-87.81039%5D%2C%20%5B43.820328%2C%20-95.055153%5D%2C%20%5B33.675059000000005%2C%20-92.466613%5D%2C%20%5B40.70508%2C%20-111.90356000000001%5D%2C%20%5B31.039463%2C%20-83.39787%5D%2C%20%5B38.80526%2C%20-90.80409%5D%2C%20%5B41.847359999999995%2C%20-87.62598%5D%2C%20%5B35.146840000000005%2C%20-80.89619%5D%2C%20%5B37.69813%2C%20-121.94081000000001%5D%2C%20%5B37.082316999999996%2C%20-120.20640900000001%5D%2C%20%5B38.58148%2C%20-121.30323999999999%5D%2C%20%5B30.39755%2C%20-81.56244000000001%5D%2C%20%5B36.37253%2C%20-121.90278%5D%2C%20%5B32.717913%2C%20-96.828292%5D%2C%20%5B33.39544%2C%20-117.593198%5D%2C%20%5B34.133520000000004%2C%20-117.23073000000001%5D%2C%20%5B37.511784000000006%2C%20-122.349727%5D%2C%20%5B35.403504%2C%20-79.11409%5D%2C%20%5B35.27332%2C%20-80.83193%5D%2C%20%5B33.709734000000005%2C%20-117.78173000000001%5D%2C%20%5B33.76488%2C%20-84.51972099999999%5D%2C%20%5B40.584751000000004%2C%20-73.960036%5D%2C%20%5B34.011021%2C%20-118.16095200000001%5D%2C%20%5B36.74365%2C%20-119.80989%5D%2C%20%5B25.952678%2C%20-80.17934699999999%5D%2C%20%5B34.2682%2C%20-118.47205%5D%2C%20%5B45.8323%2C%20-95.185799%5D%2C%20%5B32.61668%2C%20-117.091544%5D%2C%20%5B38.316417%2C%20-122.89646699999999%5D%2C%20%5B43.98506%2C%20-124.10131000000001%5D%2C%20%5B34.067863%2C%20-118.029803%5D%2C%20%5B34.03338%2C%20-118.114625%5D%2C%20%5B39.614596%2C%20-77.79396%5D%2C%20%5B33.586632%2C%20-117.623544%5D%2C%20%5B33.91345%2C%20-118.07259199999999%5D%2C%20%5B40.856338%2C%20-73.82629399999999%5D%2C%20%5B32.735613%2C%20-111.55194399999999%5D%2C%20%5B39.725570000000005%2C%20-105.06053%5D%2C%20%5B28.420446999999996%2C%20-81.368408%5D%2C%20%5B33.98932%2C%20-117.84303%5D%2C%20%5B43.121446999999996%2C%20-77.628099%5D%2C%20%5B42.399405%2C%20-96.36650999999999%5D%2C%20%5B42.0034%2C%20-88.13124%5D%2C%20%5B42.239670000000004%2C%20-123.08845%5D%2C%20%5B41.78653%2C%20-87.90812%5D%2C%20%5B34.21624%2C%20-80.53519%5D%2C%20%5B39.33083%2C%20-76.56194%5D%2C%20%5B41.62895%2C%20-83.52507%5D%2C%20%5B32.078379999999996%2C%20-81.09794000000001%5D%2C%20%5B38.8289%2C%20-76.8762%5D%2C%20%5B35.266103%2C%20-80.989221%5D%2C%20%5B44.88686%2C%20-93.33189%5D%2C%20%5B40.73852%2C%20-73.80653000000001%5D%2C%20%5B34.033992%2C%20-118.10855500000001%5D%2C%20%5B40.726479%2C%20-78.404241%5D%2C%20%5B35.605276%2C%20-82.577277%5D%2C%20%5B34.145109999999995%2C%20-118.36818999999998%5D%2C%20%5B35.58012%2C%20-97.54924%5D%2C%20%5B45.4002%2C%20-122.9377%5D%2C%20%5B30.636979999999998%2C%20-88.09525%5D%2C%20%5B33.9202%2C%20-84.32015%5D%2C%20%5B35.22137%2C%20-80.86918%5D%2C%20%5B28.568399%2C%20-81.282596%5D%2C%20%5B29.78525%2C%20-95.72161%5D%2C%20%5B43.13075%2C%20-77.4413%5D%2C%20%5B41.310059%2C%20-122.320272%5D%2C%20%5B34.077040000000004%2C%20-117.54463999999999%5D%2C%20%5B40.268057%2C%20-74.509631%5D%2C%20%5B34.164640000000006%2C%20-118.623277%5D%2C%20%5B38.556135999999995%2C%20-121.33786299999998%5D%2C%20%5B32.880122%2C%20-96.826039%5D%2C%20%5B27.029754999999998%2C%20-82.39796%5D%2C%20%5B33.695603999999996%2C%20-112.423484%5D%2C%20%5B39.159814000000004%2C%20-94.494848%5D%2C%20%5B35.111839%2C%20-80.91020300000001%5D%2C%20%5B45.259374%2C%20-92.977453%5D%2C%20%5B35.412254%2C%20-119.038945%5D%2C%20%5B36.13974%2C%20-80.2395%5D%2C%20%5B41.037301%2C%20-75.312101%5D%2C%20%5B41.385020000000004%2C%20-81.43774%5D%2C%20%5B47.77997%2C%20-122.15013%5D%2C%20%5B37.59613%2C%20-77.59445%5D%2C%20%5B35.50772%2C%20-97.55211%5D%2C%20%5B47.133140000000004%2C%20-93.28633%5D%2C%20%5B42.74714%2C%20-84.46464%5D%2C%20%5B29.97317%2C%20-90.05702%5D%2C%20%5B40.72545%2C%20-111.890243%5D%2C%20%5B33.98063%2C%20-117.34024%5D%2C%20%5B45.890074%2C%20-95.50995400000001%5D%2C%20%5B33.745676%2C%20-117.84216699999999%5D%2C%20%5B33.38563%2C%20-111.95325%5D%2C%20%5B39.301084%2C%20-76.547103%5D%2C%20%5B40.090990000000005%2C%20-82.90783%5D%2C%20%5B39.226639%2C%20-120.764723%5D%2C%20%5B32.363929999999996%2C%20-86.21311700000001%5D%2C%20%5B33.99693%2C%20-117.86566%5D%2C%20%5B44.964093%2C%20-93.239239%5D%2C%20%5B38.658229999999996%2C%20-77.24972%5D%2C%20%5B32.07394%2C%20-81.24161%5D%2C%20%5B37.715709999999994%2C%20-79.446269%5D%2C%20%5B35.30813%2C%20-80.76007%5D%2C%20%5B33.301371%2C%20-117.150249%5D%2C%20%5B30.13123%2C%20-95.44426999999999%5D%2C%20%5B34.066140000000004%2C%20-118.01733%5D%2C%20%5B40.453833%2C%20-79.42440500000001%5D%2C%20%5B45.060027000000005%2C%20-93.30668399999999%5D%2C%20%5B39.93708%2C%20-111.81193999999999%5D%2C%20%5B45.6988%2C%20-121.65155%5D%2C%20%5B28.40028%2C%20-80.7525%5D%2C%20%5B34.11981%2C%20-117.76164299999999%5D%2C%20%5B44.8619%2C%20-93.29488%5D%2C%20%5B36.255043%2C%20-117.993024%5D%2C%20%5B33.866075%2C%20-117.99738%5D%2C%20%5B35.18853%2C%20-85.48359%5D%2C%20%5B27.77352%2C%20-82.63710999999999%5D%2C%20%5B36.779343%2C%20-80.825761%5D%2C%20%5B34.023139%2C%20-117.81166699999999%5D%2C%20%5B41.284535999999996%2C%20-72.873088%5D%2C%20%5B35.22027%2C%20-80.81085999999999%5D%2C%20%5B30.128916999999998%2C%20-84.38785%5D%2C%20%5B43.877694%2C%20-123.01319%5D%2C%20%5B42.921040000000005%2C%20-89.36822%5D%2C%20%5B41.84596%2C%20-87.63746%5D%2C%20%5B40.81864%2C%20-73.29478%5D%2C%20%5B39.86602%2C%20-83.99229%5D%2C%20%5B37.31107%2C%20-121.85082%5D%2C%20%5B38.17195%2C%20-84.917864%5D%2C%20%5B36.291006%2C%20-119.78083400000001%5D%2C%20%5B37.70281%2C%20-122.01736000000001%5D%2C%20%5B30.706311%2C%20-86.728375%5D%2C%20%5B39.900221%2C%20-104.988178%5D%2C%20%5B41.66523%2C%20-87.747277%5D%2C%20%5B33.914454%2C%20-117.286024%5D%2C%20%5B33.189133%2C%20-117.239456%5D%2C%20%5B35.738493%2C%20-78.790501%5D%2C%20%5B34.004353%2C%20-118.063689%5D%2C%20%5B37.143716%2C%20-121.984761%5D%2C%20%5B34.159658%2C%20-118.46614199999999%5D%2C%20%5B37.43392%2C%20-77.60985%5D%2C%20%5B33.76774%2C%20-84.5322%5D%2C%20%5B26.378553999999998%2C%20-81.80560899999999%5D%2C%20%5B34.17333%2C%20-118.535977%5D%2C%20%5B39.403034000000005%2C%20-77.380882%5D%2C%20%5B34.031664%2C%20-118.42666200000001%5D%2C%20%5B34.77503%2C%20-82.46318000000001%5D%2C%20%5B42.699096999999995%2C%20-85.659515%5D%2C%20%5B44.28954%2C%20-92.68233000000001%5D%2C%20%5B44.91812%2C%20-117.8213%5D%2C%20%5B40.104477%2C%20-74.136912%5D%2C%20%5B40.006725%2C%20-75.193511%5D%2C%20%5B38.995259999999995%2C%20-94.69625%5D%2C%20%5B45.168389000000005%2C%20-122.86328%5D%2C%20%5B34.722007%2C%20-81.295366%5D%2C%20%5B41.292819%2C%20-111.993389%5D%2C%20%5B37.74842%2C%20-122.40411%5D%2C%20%5B43.690490999999994%2C%20-116.692045%5D%2C%20%5B33.69573%2C%20-117.93558999999999%5D%2C%20%5B33.892661%2C%20-117.50466899999999%5D%2C%20%5B41.78255%2C%20-87.63128%5D%2C%20%5B29.97046%2C%20-90.10483%5D%2C%20%5B41.43988%2C%20-81.7178%5D%2C%20%5B34.015190000000004%2C%20-117.81851%5D%2C%20%5B42.108644%2C%20-124.346626%5D%2C%20%5B45.533863000000004%2C%20-122.580537%5D%2C%20%5B39.641236%2C%20-75.802112%5D%2C%20%5B35.82392%2C%20-78.70693%5D%2C%20%5B39.871047%2C%20-75.319722%5D%2C%20%5B42.062903999999996%2C%20-88.04442399999999%5D%2C%20%5B42.20649%2C%20-121.73676%5D%2C%20%5B34.268513%2C%20-118.43511699999999%5D%2C%20%5B45.371520000000004%2C%20-122.70961000000001%5D%2C%20%5B41.82172%2C%20-71.42016%5D%2C%20%5B34.023540000000004%2C%20-118.1728%5D%2C%20%5B34.072111%2C%20-117.913223%5D%2C%20%5B38.554453%2C%20-121.37236200000001%5D%2C%20%5B28.449924%2C%20-81.479136%5D%2C%20%5B39.75484%2C%20-75.27699%5D%2C%20%5B25.701682%2C%20-80.35013599999999%5D%2C%20%5B40.75517%2C%20-111.87105%5D%2C%20%5B40.80219%2C%20-73.48974%5D%2C%20%5B40.6888%2C%20-73.80870999999999%5D%2C%20%5B34.340144%2C%20-118.51951299999999%5D%2C%20%5B34.02414%2C%20-118.42778999999999%5D%2C%20%5B37.826947%2C%20-122.28615500000001%5D%2C%20%5B34.029056%2C%20-118.21331%5D%2C%20%5B26.096423%2C%20-80.23737%5D%2C%20%5B34.342821%2C%20-119.41588200000001%5D%2C%20%5B29.784129999999998%2C%20-95.52127%5D%2C%20%5B38.760296999999994%2C%20-122.154249%5D%2C%20%5B35.46047%2C%20-97.64997%5D%2C%20%5B25.785999999999998%2C%20-80.25809%5D%2C%20%5B37.026468%2C%20-121.56901%5D%2C%20%5B39.01194%2C%20-77.0414%5D%2C%20%5B41.5781%2C%20-87.64711%5D%2C%20%5B34.998431%2C%20-85.27241%5D%2C%20%5B33.916346000000004%2C%20-118.26028799999999%5D%2C%20%5B38.554968%2C%20-121.33615900000001%5D%2C%20%5B34.072540000000004%2C%20-117.93878000000001%5D%2C%20%5B34.029003%2C%20-118.210862%5D%2C%20%5B41.072637%2C%20-73.917692%5D%2C%20%5B27.93777%2C%20-82.317891%5D%2C%20%5B38.185959999999994%2C%20-85.72551999999999%5D%2C%20%5B33.673564%2C%20-117.88611499999999%5D%2C%20%5B42.875474%2C%20-71.493213%5D%2C%20%5B37.157197%2C%20-121.982129%5D%2C%20%5B42.037240000000004%2C%20-88.28254%5D%2C%20%5B33.63925%2C%20-112.1518%5D%2C%20%5B36.08894%2C%20-115.13688%5D%2C%20%5B38.422738%2C%20-109.430621%5D%2C%20%5B30.43011%2C%20-81.57609000000001%5D%2C%20%5B37.6651%2C%20-121.69663899999999%5D%2C%20%5B40.58406%2C%20-73.96455%5D%2C%20%5B40.987840000000006%2C%20-73.67647%5D%2C%20%5B39.481851%2C%20-77.396625%5D%2C%20%5B33.5821%2C%20-112.09964%5D%2C%20%5B40.823679999999996%2C%20-73.87745%5D%2C%20%5B42.280731%2C%20-87.973938%5D%2C%20%5B43.242155%2C%20-117.04030300000001%5D%2C%20%5B38.668309%2C%20-76.876175%5D%2C%20%5B39.892720000000004%2C%20-83.03796%5D%2C%20%5B29.784209999999998%2C%20-95.51158000000001%5D%2C%20%5B36.031909999999996%2C%20-95.86848%5D%2C%20%5B36.646376000000004%2C%20-119.699896%5D%2C%20%5B36.037162%2C%20-80.381888%5D%2C%20%5B36.944156%2C%20-120.042289%5D%2C%20%5B33.46148%2C%20-112.04223999999999%5D%2C%20%5B40.496697%2C%20-111.891361%5D%2C%20%5B42.976848%2C%20-85.618376%5D%2C%20%5B41.7626%2C%20-72.65416%5D%2C%20%5B40.982440000000004%2C%20-75.35540999999999%5D%2C%20%5B45.50479%2C%20-122.39991%5D%2C%20%5B40.83808%2C%20-73.87326%5D%2C%20%5B42.530018%2C%20-83.753982%5D%2C%20%5B44.18177%2C%20-93.50749%5D%2C%20%5B35.32378%2C%20-80.94799%5D%2C%20%5B39.93268%2C%20-74.96864000000001%5D%2C%20%5B35.6089%2C%20-97.64059%5D%2C%20%5B45.77221%2C%20-120.08231%5D%2C%20%5B33.837262%2C%20-117.28328799999998%5D%2C%20%5B42.99273%2C%20-83.68109%5D%2C%20%5B34.426303000000004%2C%20-117.57388300000001%5D%2C%20%5B34.134382%2C%20-117.957586%5D%2C%20%5B38.85305%2C%20-76.91020999999999%5D%2C%20%5B30.0396%2C%20-89.97807%5D%2C%20%5B41.833931%2C%20-122.62017800000001%5D%2C%20%5B42.725258000000004%2C%20-84.44641700000001%5D%2C%20%5B34.017437%2C%20-118.05201100000001%5D%2C%20%5B37.71127%2C%20-121.71885%5D%2C%20%5B44.28423%2C%20-95.99799%5D%2C%20%5B33.000994%2C%20-96.708749%5D%2C%20%5B40.181589%2C%20-110.647821%5D%2C%20%5B37.448993%2C%20-113.229501%5D%2C%20%5B45.600096%2C%20-122.04768500000002%5D%2C%20%5B41.946282000000004%2C%20-87.884889%5D%2C%20%5B38.90534%2C%20-76.94035%5D%2C%20%5B41.359866%2C%20-75.193113%5D%2C%20%5B40.85805%2C%20-73.83055%5D%2C%20%5B39.136959999999995%2C%20-77.15488%5D%2C%20%5B40.234971%2C%20-83.044224%5D%2C%20%5B43.022090000000006%2C%20-123.2994%5D%2C%20%5B40.69675%2C%20-111.947949%5D%2C%20%5B38.55518%2C%20-90.4168%5D%2C%20%5B33.897887%2C%20-117.274887%5D%2C%20%5B47.332821%2C%20-122.29343999999999%5D%2C%20%5B37.22906%2C%20-107.830008%5D%2C%20%5B43.34875%2C%20-90.45033199999999%5D%2C%20%5B43.775936%2C%20-95.175086%5D%2C%20%5B35.309353%2C%20-80.71818%5D%2C%20%5B25.857666000000002%2C%20-80.32286500000001%5D%2C%20%5B47.15822%2C%20-122.4403%5D%2C%20%5B34.903449%2C%20-82.192234%5D%2C%20%5B33.967778%2C%20-118.164658%5D%2C%20%5B39.005811%2C%20-77.076141%5D%2C%20%5B37.536103000000004%2C%20-86.925366%5D%2C%20%5B44.361196%2C%20-93.383049%5D%2C%20%5B45.163818%2C%20-93.52145300000001%5D%2C%20%5B33.925606%2C%20-118.321377%5D%2C%20%5B40.652051%2C%20-75.406419%5D%2C%20%5B39.41907%2C%20-77.48138%5D%2C%20%5B32.049168%2C%20-87.786115%5D%2C%20%5B35.328351%2C%20-118.80360900000001%5D%2C%20%5B40.55618%2C%20-74.45833%5D%2C%20%5B34.115349%2C%20-118.26854099999998%5D%2C%20%5B34.259722%2C%20-118.438071%5D%2C%20%5B40.665%2C%20-73.82521%5D%2C%20%5B34.072608%2C%20-117.80897399999999%5D%2C%20%5B29.74257%2C%20-95.45768000000001%5D%2C%20%5B42.36544%2C%20-83.1334%5D%2C%20%5B34.454683%2C%20-119.20621799999999%5D%2C%20%5B45.05854%2C%20-93.14277%5D%2C%20%5B33.995940000000004%2C%20-117.84036%5D%2C%20%5B25.78165%2C%20-80.19966%5D%2C%20%5B33.663166%2C%20-117.89738999999999%5D%2C%20%5B42.29272%2C%20-71.48461999999999%5D%2C%20%5B41.8216%2C%20-71.42035%5D%2C%20%5B32.717259999999996%2C%20-117.11412%5D%2C%20%5B45.20089%2C%20-123.139427%5D%2C%20%5B40.07264%2C%20-111.66219%5D%2C%20%5B39.09393%2C%20-94.68078%5D%2C%20%5B30.439009999999996%2C%20-91.18915%5D%2C%20%5B34.152910999999996%2C%20-118.279829%5D%2C%20%5B28.171409999999998%2C%20-82.212281%5D%2C%20%5B29.772709999999996%2C%20-95.2315%5D%2C%20%5B35.252563%2C%20-80.734501%5D%2C%20%5B26.696637%2C%20-80.06995699999999%5D%2C%20%5B34.07229%2C%20-117.93104%5D%2C%20%5B34.087194000000004%2C%20-117.66432900000001%5D%2C%20%5B47.604068%2C%20-122.327129%5D%2C%20%5B38.28257%2C%20-85.75283%5D%2C%20%5B45.529009%2C%20-122.60196299999998%5D%2C%20%5B32.91639%2C%20-96.85974%5D%2C%20%5B34.418052%2C%20-119.71021699999999%5D%2C%20%5B33.647191%2C%20-117.866702%5D%2C%20%5B43.191990000000004%2C%20-77.59992%5D%2C%20%5B33.175138000000004%2C%20-87.40135699999999%5D%2C%20%5B25.663458%2C%20-80.383806%5D%2C%20%5B28.428984999999997%2C%20-81.474964%5D%2C%20%5B25.596111999999998%2C%20-80.360363%5D%2C%20%5B33.87362%2C%20-118.25425%5D%2C%20%5B43.986971999999994%2C%20-93.25520300000001%5D%2C%20%5B25.81181%2C%20-80.38528000000001%5D%2C%20%5B38.251614000000004%2C%20-77.498293%5D%2C%20%5B34.060708%2C%20-117.80525800000001%5D%2C%20%5B45.086490000000005%2C%20-93.40222%5D%2C%20%5B34.186646%2C%20-118.47426200000001%5D%2C%20%5B35.89778%2C%20-78.65061%5D%2C%20%5B26.07682%2C%20-80.16863000000001%5D%2C%20%5B34.025529999999996%2C%20-117.56325%5D%2C%20%5B36.278690000000005%2C%20-82.74041%5D%2C%20%5B40.628820000000005%2C%20-74.3025%5D%2C%20%5B33.944545%2C%20-117.289685%5D%2C%20%5B38.56057%2C%20-121.45827%5D%2C%20%5B39.942972999999995%2C%20-75.113385%5D%2C%20%5B36.065459999999995%2C%20-80.22955999999999%5D%2C%20%5B30.0756%2C%20-97.82566%5D%2C%20%5B39.48519%2C%20-74.585%5D%2C%20%5B34.13576%2C%20-117.58502%5D%2C%20%5B42.73488%2C%20-71.45759%5D%2C%20%5B34.025302%2C%20-118.428941%5D%2C%20%5B34.082776%2C%20-118.227277%5D%2C%20%5B40.71595%2C%20-73.813652%5D%2C%20%5B42.575943%2C%20-122.816557%5D%2C%20%5B34.321042%2C%20-118.496121%5D%2C%20%5B35.502394%2C%20-108.833924%5D%2C%20%5B27.983733%2C%20-82.453562%5D%2C%20%5B34.356384000000006%2C%20-117.43821399999999%5D%2C%20%5B33.872489%2C%20-117.664754%5D%2C%20%5B39.01085%2C%20-78.36646%5D%2C%20%5B28.349021999999998%2C%20-81.529985%5D%2C%20%5B34.37328%2C%20-86.89211%5D%2C%20%5B34.02005%2C%20-118.18918300000001%5D%2C%20%5B28.5054%2C%20-81.42251%5D%2C%20%5B40.792823%2C%20-74.24891%5D%2C%20%5B45.016341%2C%20-122.99043%5D%2C%20%5B26.18131%2C%20-80.218659%5D%2C%20%5B35.715759999999996%2C%20-78.58375%5D%2C%20%5B34.092605999999996%2C%20-118.205133%5D%2C%20%5B40.83393%2C%20-111.92856%5D%2C%20%5B26.581529999999997%2C%20-80.06908%5D%2C%20%5B44.994890000000005%2C%20-93.40087%5D%2C%20%5B40.43605%2C%20-79.99906999999999%5D%2C%20%5B32.73498%2C%20-96.82382%5D%2C%20%5B34.072283%2C%20-117.931505%5D%2C%20%5B40.877303000000005%2C%20-77.176549%5D%2C%20%5B29.582320000000003%2C%20-95.64551999999999%5D%2C%20%5B32.731393%2C%20-97.34375%5D%2C%20%5B41.75009%2C%20-72.71555%5D%2C%20%5B45.409890000000004%2C%20-122.50791000000001%5D%2C%20%5B35.15429%2C%20-80.97006999999999%5D%2C%20%5B43.205298%2C%20-124.306601%5D%2C%20%5B30.327683%2C%20-82.95873900000001%5D%2C%20%5B39.866701%2C%20-75.101748%5D%2C%20%5B41.77997%2C%20-87.63144%5D%2C%20%5B29.7779%2C%20-95.29129300000001%5D%2C%20%5B38.46255%2C%20-109.44566999999999%5D%2C%20%5B28.493745%2C%20-81.396763%5D%2C%20%5B43.203070000000004%2C%20-112.35978%5D%2C%20%5B34.014607%2C%20-117.55011%5D%2C%20%5B40.612303000000004%2C%20-78.792647%5D%2C%20%5B33.875331%2C%20-118.193156%5D%2C%20%5B44.646103000000004%2C%20-123.06228%5D%2C%20%5B26.0603%2C%20-80.21512%5D%2C%20%5B43.170708000000005%2C%20-77.594481%5D%2C%20%5B30.5092%2C%20-91.14967%5D%2C%20%5B34.068349%2C%20-117.341296%5D%2C%20%5B34.14676%2C%20-118.27895%5D%2C%20%5B35.146404%2C%20-120.64509699999999%5D%2C%20%5B34.342273%2C%20-79.94654%5D%2C%20%5B34.087241%2C%20-117.659512%5D%2C%20%5B36.719963%2C%20-119.448249%5D%2C%20%5B47.11238%2C%20-122.43475%5D%2C%20%5B28.475563%2C%20-82.49079%5D%2C%20%5B38.938759999999995%2C%20-94.50454%5D%2C%20%5B35.02127%2C%20-85.380624%5D%2C%20%5B45.00993%2C%20-93.68611999999999%5D%2C%20%5B34.04017%2C%20-118.44061799999999%5D%2C%20%5B38.805514%2C%20-82.98490600000001%5D%2C%20%5B37.56174%2C%20-122.27628999999999%5D%2C%20%5B37.638185%2C%20-120.967928%5D%2C%20%5B35.75286%2C%20-78.71054000000001%5D%2C%20%5B33.86875%2C%20-118.19538%5D%2C%20%5B41.678329999999995%2C%20-72.87377%5D%2C%20%5B39.5436%2C%20-111.95265%5D%2C%20%5B36.187584%2C%20-86.776057%5D%2C%20%5B39.331815999999996%2C%20-120.28901599999999%5D%2C%20%5B29.704001%2C%20-95.570716%5D%2C%20%5B45.144453999999996%2C%20-93.498816%5D%2C%20%5B40.84902%2C%20-73.9395%5D%2C%20%5B34.639140000000005%2C%20-86.84878%5D%2C%20%5B34.750539%2C%20-92.391425%5D%2C%20%5B39.862961999999996%2C%20-75.34874%5D%2C%20%5B35.20609%2C%20-80.92229%5D%2C%20%5B44.99953%2C%20-93.20616%5D%2C%20%5B41.87019%2C%20-87.89125%5D%2C%20%5B41.87385%2C%20-87.80816999999999%5D%2C%20%5B28.36063%2C%20-82.6497%5D%2C%20%5B40.542759999999994%2C%20-74.33475%5D%2C%20%5B45.42518%2C%20-122.56896%5D%2C%20%5B34.134547%2C%20-117.65283400000001%5D%2C%20%5B32.677459000000006%2C%20-117.085573%5D%2C%20%5B43.56026%2C%20-121.96019%5D%2C%20%5B35.05041%2C%20-80.86809000000001%5D%2C%20%5B39.103935%2C%20-94.675787%5D%2C%20%5B45.377796000000004%2C%20-122.22530900000001%5D%2C%20%5B36.157614%2C%20-86.759833%5D%2C%20%5B38.66024%2C%20-76.60675%5D%2C%20%5B38.051617%2C%20-122.53119699999999%5D%2C%20%5B33.999839%2C%20-117.372831%5D%2C%20%5B40.013268%2C%20-75.72961%5D%2C%20%5B40.52075%2C%20-74.41257%5D%2C%20%5B33.848841%2C%20-118.27426899999999%5D%2C%20%5B43.843579%2C%20-122.628881%5D%2C%20%5B33.871701%2C%20-117.6869%5D%2C%20%5B34.115590000000005%2C%20-118.23978000000001%5D%2C%20%5B38.500479999999996%2C%20-121.431228%5D%2C%20%5B37.241602%2C%20-93.352884%5D%2C%20%5B33.57694%2C%20-111.88948%5D%2C%20%5B41.915820000000004%2C%20-87.66803%5D%2C%20%5B39.958533%2C%20-75.580033%5D%2C%20%5B37.940053000000006%2C%20-122.060052%5D%2C%20%5B40.613219%2C%20-74.02930500000001%5D%2C%20%5B26.02809%2C%20-80.16566999999999%5D%2C%20%5B34.066145%2C%20-117.50928200000001%5D%2C%20%5B38.09725%2C%20-122.73348700000001%5D%2C%20%5B36.03756%2C%20-86.78505%5D%2C%20%5B42.7637%2C%20-121.83748999999999%5D%2C%20%5B35.317612%2C%20-80.776825%5D%2C%20%5B26.506240000000002%2C%20-80.12321999999999%5D%2C%20%5B28.639415000000003%2C%20-81.387922%5D%2C%20%5B38.681290000000004%2C%20-121.54021999999999%5D%2C%20%5B33.967183%2C%20-117.69004199999999%5D%2C%20%5B38.64124%2C%20-121.45096000000001%5D%2C%20%5B34.753902000000004%2C%20-92.398084%5D%2C%20%5B33.856840000000005%2C%20-118.28480900000001%5D%2C%20%5B36.604422%2C%20-119.484375%5D%2C%20%5B33.001481%2C%20-80.097595%5D%2C%20%5B36.89564%2C%20-121.427319%5D%2C%20%5B29.860959%2C%20-95.500174%5D%2C%20%5B35.362396999999994%2C%20-80.801255%5D%2C%20%5B40.923653%2C%20-74.784611%5D%2C%20%5B39.348725%2C%20-76.49983%5D%2C%20%5B48.71367%2C%20-122.4745%5D%2C%20%5B33.989183000000004%2C%20-117.84298500000001%5D%2C%20%5B37.52782%2C%20-121.99831999999999%5D%2C%20%5B37.990514000000005%2C%20-122.31045400000001%5D%2C%20%5B36.988143%2C%20-121.974667%5D%2C%20%5B42.4772%2C%20-88.09575%5D%2C%20%5B34.13692%2C%20-84.73693%5D%2C%20%5B45.60113%2C%20-118.63277%5D%2C%20%5B34.037116999999995%2C%20-118.07888700000001%5D%2C%20%5B44.980505%2C%20-122.99233999999998%5D%2C%20%5B40.73534%2C%20-73.92452%5D%2C%20%5B35.194167%2C%20-80.873312%5D%2C%20%5B28.302625%2C%20-81.40375999999999%5D%2C%20%5B30.267473%2C%20-97.74446999999999%5D%2C%20%5B29.725759999999998%2C%20-95.47233%5D%2C%20%5B25.581957%2C%20-80.36649399999999%5D%2C%20%5B35.81501%2C%20-86.97551%5D%2C%20%5B39.280244%2C%20-78.36036999999999%5D%2C%20%5B33.987390999999995%2C%20-118.06603%5D%2C%20%5B25.575353%2C%20-80.372854%5D%2C%20%5B30.390569%2C%20-87.062389%5D%2C%20%5B27.80302%2C%20-82.66237%5D%2C%20%5B32.759370000000004%2C%20-97.01100000000001%5D%2C%20%5B42.153564%2C%20-87.988268%5D%2C%20%5B41.40521%2C%20-74.34263%5D%2C%20%5B41.82366%2C%20-88.02826999999999%5D%2C%20%5B40.98985%2C%20-77.821537%5D%2C%20%5B33.87466%2C%20-118.15128999999999%5D%2C%20%5B33.77362%2C%20-84.23501%5D%2C%20%5B37.555439%2C%20-77.94098100000001%5D%2C%20%5B38.44688%2C%20-105.02338%5D%2C%20%5B38.802620000000005%2C%20-90.69654%5D%2C%20%5B39.74196%2C%20-86.13768%5D%2C%20%5B25.686024%2C%20-80.399132%5D%2C%20%5B40.70937%2C%20-73.84206%5D%2C%20%5B37.957392999999996%2C%20-120.311871%5D%2C%20%5B33.864222%2C%20-117.9921%5D%2C%20%5B47.55148%2C%20-122.31688999999999%5D%2C%20%5B27.485440000000004%2C%20-82.43375%5D%2C%20%5B34.068881%2C%20-118.042177%5D%2C%20%5B32.964997%2C%20-96.917833%5D%2C%20%5B38.125376%2C%20-122.228921%5D%2C%20%5B32.60876%2C%20-97.32094000000001%5D%2C%20%5B38.981640000000006%2C%20-77.135731%5D%2C%20%5B38.847366%2C%20-77.37938%5D%2C%20%5B44.96861%2C%20-93.3415%5D%2C%20%5B42.66746%2C%20-71.19024%5D%2C%20%5B46.44017%2C%20-92.74298%5D%2C%20%5B44.948533000000005%2C%20-92.970138%5D%2C%20%5B37.929643%2C%20-122.387727%5D%2C%20%5B43.05365%2C%20-87.92535%5D%2C%20%5B28.577790000000004%2C%20-81.463076%5D%2C%20%5B42.137570000000004%2C%20-87.8248%5D%2C%20%5B40.72618%2C%20-73.90339%5D%2C%20%5B25.748036%2C%20-80.367866%5D%2C%20%5B41.184687%2C%20-73.19340600000001%5D%2C%20%5B34.201523%2C%20-119.09985400000001%5D%2C%20%5B40.024165999999994%2C%20-76.307244%5D%2C%20%5B47.735021%2C%20-122.32517299999999%5D%2C%20%5B37.596790000000006%2C%20-77.48773%5D%2C%20%5B42.35562%2C%20-88.40453000000001%5D%2C%20%5B39.606844%2C%20-85.45535699999999%5D%2C%20%5B33.746406%2C%20-118.007025%5D%2C%20%5B30.457583000000003%2C%20-84.236853%5D%2C%20%5B35.837536%2C%20-78.71355%5D%2C%20%5B33.988554%2C%20-118.35854599999999%5D%2C%20%5B38.642506%2C%20-76.932502%5D%2C%20%5B35.226820000000004%2C%20-80.83466999999999%5D%2C%20%5B28.255772999999998%2C%20-81.4864%5D%2C%20%5B33.93072%2C%20-118.36471%5D%2C%20%5B48.457442%2C%20-122.38111799999999%5D%2C%20%5B37.70117%2C%20-121.85468999999999%5D%2C%20%5B32.662343%2C%20-117.07821399999999%5D%2C%20%5B39.898740000000004%2C%20-75.18044%5D%2C%20%5B34.069109999999995%2C%20-117.60705%5D%2C%20%5B42.028597%2C%20-78.447404%5D%2C%20%5B43.680609999999994%2C%20-92.99332%5D%2C%20%5B38.8691%2C%20-77.04758000000001%5D%2C%20%5B29.777308%2C%20-95.855474%5D%2C%20%5B25.897726000000002%2C%20-80.32446800000001%5D%2C%20%5B30.001079999999998%2C%20-90.03966%5D%2C%20%5B26.30198%2C%20-80.24371%5D%2C%20%5B42.372890000000005%2C%20-83.43670999999999%5D%2C%20%5B28.547320000000003%2C%20-81.42009%5D%2C%20%5B33.776746%2C%20-117.84003100000001%5D%2C%20%5B44.555859999999996%2C%20-123.10269%5D%2C%20%5B40.666%2C%20-111.86646999999999%5D%2C%20%5B47.12095%2C%20-122.55328999999999%5D%2C%20%5B28.611334000000003%2C%20-81.45085%5D%2C%20%5B27.826459000000003%2C%20-82.673884%5D%2C%20%5B34.066514%2C%20-117.457729%5D%2C%20%5B34.04311%2C%20-118.27283%5D%2C%20%5B39.494208%2C%20-75.042532%5D%2C%20%5B38.96732%2C%20-78.43415999999999%5D%2C%20%5B40.999891999999996%2C%20-78.34622%5D%2C%20%5B33.20994%2C%20-87.54829000000001%5D%2C%20%5B38.1515%2C%20-122.44758999999999%5D%2C%20%5B46.05093%2C%20-92.91393000000001%5D%2C%20%5B39.61335%2C%20-84.13421%5D%2C%20%5B44.529236%2C%20-93.90127%5D%2C%20%5B38.948752%2C%20-121.15631699999999%5D%2C%20%5B39.396961%2C%20-77.362149%5D%2C%20%5B40.85333%2C%20-73.96132800000001%5D%2C%20%5B25.709265%2C%20-80.283462%5D%2C%20%5B42.218709999999994%2C%20-120.20111000000001%5D%2C%20%5B42.188109000000004%2C%20-87.82490899999999%5D%2C%20%5B34.01957%2C%20-118.05037%5D%2C%20%5B33.59919%2C%20-86.20965%5D%2C%20%5B33.82575%2C%20-118.24583999999999%5D%2C%20%5B38.87932%2C%20-77.25435%5D%2C%20%5B26.682195%2C%20-81.897481%5D%2C%20%5B32.7877%2C%20-117.11398100000001%5D%2C%20%5B41.804538%2C%20-88.433518%5D%2C%20%5B40.66722%2C%20-73.7699%5D%2C%20%5B43.892086%2C%20-121.37683500000001%5D%2C%20%5B32.817619%2C%20-96.77018100000001%5D%2C%20%5B36.841021000000005%2C%20-76.048435%5D%2C%20%5B33.407207%2C%20-84.837401%5D%2C%20%5B33.915054%2C%20-118.370925%5D%2C%20%5B35.21394%2C%20-80.83093000000001%5D%5D%2C%0A%20%20%20%20%20%20%20%20%20%20%20%20%20%20%20%20%7B%0A%20%20%20%20%20%20%20%20%20%20%20%20%20%20%20%20%20%20%20%20minOpacity%3A%200.5%2C%0A%20%20%20%20%20%20%20%20%20%20%20%20%20%20%20%20%20%20%20%20maxZoom%3A%2018%2C%0A%20%20%20%20%20%20%20%20%20%20%20%20%20%20%20%20%20%20%20%20max%3A%201.0%2C%0A%20%20%20%20%20%20%20%20%20%20%20%20%20%20%20%20%20%20%20%20radius%3A%2025%2C%0A%20%20%20%20%20%20%20%20%20%20%20%20%20%20%20%20%20%20%20%20blur%3A%2015%2C%0A%20%20%20%20%20%20%20%20%20%20%20%20%20%20%20%20%20%20%20%20gradient%3A%20null%0A%20%20%20%20%20%20%20%20%20%20%20%20%20%20%20%20%20%20%20%20%7D%29%0A%20%20%20%20%20%20%20%20%20%20%20%20%20%20%20%20.addTo%28map_1bb4aa988c3f40909b9bdb07433e2149%29%3B%0A%20%20%20%20%20%20%20%20%0A%3C/script%3E onload=\"this.contentDocument.open();this.contentDocument.write(    decodeURIComponent(this.getAttribute('data-html')));this.contentDocument.close();\" allowfullscreen webkitallowfullscreen mozallowfullscreen></iframe></div></div>"
            ],
            "text/plain": [
              "<folium.folium.Map at 0x7f3557389150>"
            ]
          },
          "metadata": {},
          "execution_count": 90
        }
      ]
    },
    {
      "cell_type": "code",
      "metadata": {
        "id": "haO1_MhvZF8c",
        "outputId": "ba7c48ca-26a6-4368-b9ca-57fa77eaef6f",
        "colab": {
          "base_uri": "https://localhost:8080/",
          "height": 195
        }
      },
      "source": [
        "\n",
        "map= folium.Map()\n",
        "\n",
        "\n",
        "\n",
        "HeatMap(heat_data).add_to(map)"
      ],
      "execution_count": 70,
      "outputs": [
        {
          "output_type": "error",
          "ename": "NameError",
          "evalue": "ignored",
          "traceback": [
            "\u001b[0;31m---------------------------------------------------------------------------\u001b[0m",
            "\u001b[0;31mNameError\u001b[0m                                 Traceback (most recent call last)",
            "\u001b[0;32m<ipython-input-70-00ca6c439da9>\u001b[0m in \u001b[0;36m<module>\u001b[0;34m()\u001b[0m\n\u001b[1;32m      4\u001b[0m \u001b[0;34m\u001b[0m\u001b[0m\n\u001b[1;32m      5\u001b[0m \u001b[0;34m\u001b[0m\u001b[0m\n\u001b[0;32m----> 6\u001b[0;31m \u001b[0mHeatMap\u001b[0m\u001b[0;34m(\u001b[0m\u001b[0mheat_data\u001b[0m\u001b[0;34m)\u001b[0m\u001b[0;34m.\u001b[0m\u001b[0madd_to\u001b[0m\u001b[0;34m(\u001b[0m\u001b[0mmap\u001b[0m\u001b[0;34m)\u001b[0m\u001b[0;34m\u001b[0m\u001b[0;34m\u001b[0m\u001b[0m\n\u001b[0m",
            "\u001b[0;31mNameError\u001b[0m: name 'heat_data' is not defined"
          ]
        }
      ]
    },
    {
      "cell_type": "code",
      "metadata": {
        "id": "ZqGs86x893r7",
        "outputId": "2a73187f-b1ca-41b7-c17f-9d866be27c4f",
        "colab": {
          "base_uri": "https://localhost:8080/",
          "height": 866
        }
      },
      "source": [
        "\n",
        "map= folium.Map()\n",
        "marker= folium.Marker((Lat, Lon))\n",
        "marker.add_to(map)\n",
        "map"
      ],
      "execution_count": 69,
      "outputs": [
        {
          "output_type": "execute_result",
          "data": {
            "text/html": [
              "<div style=\"width:100%;\"><div style=\"position:relative;width:100%;height:0;padding-bottom:60%;\"><span style=\"color:#565656\">Make this Notebook Trusted to load map: File -> Trust Notebook</span><iframe src=\"about:blank\" style=\"position:absolute;width:100%;height:100%;left:0;top:0;border:none !important;\" data-html=%3C%21DOCTYPE%20html%3E%0A%3Chead%3E%20%20%20%20%0A%20%20%20%20%3Cmeta%20http-equiv%3D%22content-type%22%20content%3D%22text/html%3B%20charset%3DUTF-8%22%20/%3E%0A%20%20%20%20%3Cscript%3EL_PREFER_CANVAS%3Dfalse%3B%20L_NO_TOUCH%3Dfalse%3B%20L_DISABLE_3D%3Dfalse%3B%3C/script%3E%0A%20%20%20%20%3Cscript%20src%3D%22https%3A//cdn.jsdelivr.net/npm/leaflet%401.4.0/dist/leaflet.js%22%3E%3C/script%3E%0A%20%20%20%20%3Cscript%20src%3D%22https%3A//code.jquery.com/jquery-1.12.4.min.js%22%3E%3C/script%3E%0A%20%20%20%20%3Cscript%20src%3D%22https%3A//maxcdn.bootstrapcdn.com/bootstrap/3.2.0/js/bootstrap.min.js%22%3E%3C/script%3E%0A%20%20%20%20%3Cscript%20src%3D%22https%3A//cdnjs.cloudflare.com/ajax/libs/Leaflet.awesome-markers/2.0.2/leaflet.awesome-markers.js%22%3E%3C/script%3E%0A%20%20%20%20%3Clink%20rel%3D%22stylesheet%22%20href%3D%22https%3A//cdn.jsdelivr.net/npm/leaflet%401.4.0/dist/leaflet.css%22/%3E%0A%20%20%20%20%3Clink%20rel%3D%22stylesheet%22%20href%3D%22https%3A//maxcdn.bootstrapcdn.com/bootstrap/3.2.0/css/bootstrap.min.css%22/%3E%0A%20%20%20%20%3Clink%20rel%3D%22stylesheet%22%20href%3D%22https%3A//maxcdn.bootstrapcdn.com/bootstrap/3.2.0/css/bootstrap-theme.min.css%22/%3E%0A%20%20%20%20%3Clink%20rel%3D%22stylesheet%22%20href%3D%22https%3A//maxcdn.bootstrapcdn.com/font-awesome/4.6.3/css/font-awesome.min.css%22/%3E%0A%20%20%20%20%3Clink%20rel%3D%22stylesheet%22%20href%3D%22https%3A//cdnjs.cloudflare.com/ajax/libs/Leaflet.awesome-markers/2.0.2/leaflet.awesome-markers.css%22/%3E%0A%20%20%20%20%3Clink%20rel%3D%22stylesheet%22%20href%3D%22https%3A//rawcdn.githack.com/python-visualization/folium/master/folium/templates/leaflet.awesome.rotate.css%22/%3E%0A%20%20%20%20%3Cstyle%3Ehtml%2C%20body%20%7Bwidth%3A%20100%25%3Bheight%3A%20100%25%3Bmargin%3A%200%3Bpadding%3A%200%3B%7D%3C/style%3E%0A%20%20%20%20%3Cstyle%3E%23map%20%7Bposition%3Aabsolute%3Btop%3A0%3Bbottom%3A0%3Bright%3A0%3Bleft%3A0%3B%7D%3C/style%3E%0A%20%20%20%20%0A%20%20%20%20%3Cmeta%20name%3D%22viewport%22%20content%3D%22width%3Ddevice-width%2C%0A%20%20%20%20%20%20%20%20initial-scale%3D1.0%2C%20maximum-scale%3D1.0%2C%20user-scalable%3Dno%22%20/%3E%0A%20%20%20%20%3Cstyle%3E%23map_5bd69b6fd930459bb718d898a1319397%20%7B%0A%20%20%20%20%20%20%20%20position%3A%20relative%3B%0A%20%20%20%20%20%20%20%20width%3A%20100.0%25%3B%0A%20%20%20%20%20%20%20%20height%3A%20100.0%25%3B%0A%20%20%20%20%20%20%20%20left%3A%200.0%25%3B%0A%20%20%20%20%20%20%20%20top%3A%200.0%25%3B%0A%20%20%20%20%20%20%20%20%7D%0A%20%20%20%20%3C/style%3E%0A%3C/head%3E%0A%3Cbody%3E%20%20%20%20%0A%20%20%20%20%0A%20%20%20%20%3Cdiv%20class%3D%22folium-map%22%20id%3D%22map_5bd69b6fd930459bb718d898a1319397%22%20%3E%3C/div%3E%0A%3C/body%3E%0A%3Cscript%3E%20%20%20%20%0A%20%20%20%20%0A%20%20%20%20%0A%20%20%20%20%20%20%20%20var%20bounds%20%3D%20null%3B%0A%20%20%20%20%0A%0A%20%20%20%20var%20map_5bd69b6fd930459bb718d898a1319397%20%3D%20L.map%28%0A%20%20%20%20%20%20%20%20%27map_5bd69b6fd930459bb718d898a1319397%27%2C%20%7B%0A%20%20%20%20%20%20%20%20center%3A%20%5B0%2C%200%5D%2C%0A%20%20%20%20%20%20%20%20zoom%3A%201%2C%0A%20%20%20%20%20%20%20%20maxBounds%3A%20bounds%2C%0A%20%20%20%20%20%20%20%20layers%3A%20%5B%5D%2C%0A%20%20%20%20%20%20%20%20worldCopyJump%3A%20false%2C%0A%20%20%20%20%20%20%20%20crs%3A%20L.CRS.EPSG3857%2C%0A%20%20%20%20%20%20%20%20zoomControl%3A%20true%2C%0A%20%20%20%20%20%20%20%20%7D%29%3B%0A%0A%0A%20%20%20%20%0A%20%20%20%20var%20tile_layer_87ea033d2224459f926ce5b06d32fcf3%20%3D%20L.tileLayer%28%0A%20%20%20%20%20%20%20%20%27https%3A//%7Bs%7D.tile.openstreetmap.org/%7Bz%7D/%7Bx%7D/%7By%7D.png%27%2C%0A%20%20%20%20%20%20%20%20%7B%0A%20%20%20%20%20%20%20%20%22attribution%22%3A%20null%2C%0A%20%20%20%20%20%20%20%20%22detectRetina%22%3A%20false%2C%0A%20%20%20%20%20%20%20%20%22maxNativeZoom%22%3A%2018%2C%0A%20%20%20%20%20%20%20%20%22maxZoom%22%3A%2018%2C%0A%20%20%20%20%20%20%20%20%22minZoom%22%3A%200%2C%0A%20%20%20%20%20%20%20%20%22noWrap%22%3A%20false%2C%0A%20%20%20%20%20%20%20%20%22opacity%22%3A%201%2C%0A%20%20%20%20%20%20%20%20%22subdomains%22%3A%20%22abc%22%2C%0A%20%20%20%20%20%20%20%20%22tms%22%3A%20false%0A%7D%29.addTo%28map_5bd69b6fd930459bb718d898a1319397%29%3B%0A%20%20%20%20%0A%20%20%20%20%20%20%20%20var%20marker_fbdc8201e1e44c14bf3056508a5aec9f%20%3D%20L.marker%28%0A%20%20%20%20%20%20%20%20%20%20%20%20%5B40.108909999999995%2C%20-83.09286%5D%2C%0A%20%20%20%20%20%20%20%20%20%20%20%20%7B%0A%20%20%20%20%20%20%20%20%20%20%20%20%20%20%20%20icon%3A%20new%20L.Icon.Default%28%29%2C%0A%20%20%20%20%20%20%20%20%20%20%20%20%20%20%20%20%7D%0A%20%20%20%20%20%20%20%20%20%20%20%20%29.addTo%28map_5bd69b6fd930459bb718d898a1319397%29%3B%0A%20%20%20%20%20%20%20%20%0A%3C/script%3E onload=\"this.contentDocument.open();this.contentDocument.write(    decodeURIComponent(this.getAttribute('data-html')));this.contentDocument.close();\" allowfullscreen webkitallowfullscreen mozallowfullscreen></iframe></div></div>"
            ],
            "text/plain": [
              "<folium.folium.Map at 0x7f357c048c10>"
            ]
          },
          "metadata": {},
          "execution_count": 69
        }
      ]
    },
    {
      "cell_type": "code",
      "metadata": {
        "id": "JiXMU-eI741u"
      },
      "source": [
        ""
      ],
      "execution_count": null,
      "outputs": []
    },
    {
      "cell_type": "code",
      "metadata": {
        "id": "A8zbqzlL74uy"
      },
      "source": [
        ""
      ],
      "execution_count": null,
      "outputs": []
    },
    {
      "cell_type": "code",
      "metadata": {
        "id": "gexGa86n74n5"
      },
      "source": [
        ""
      ],
      "execution_count": null,
      "outputs": []
    },
    {
      "cell_type": "markdown",
      "metadata": {
        "id": "vttMpabn762Z"
      },
      "source": [
        "## Accident Analysis"
      ]
    },
    {
      "cell_type": "code",
      "metadata": {
        "id": "6uxgp-K7KIsu"
      },
      "source": [
        "high_accident_cities = Cities_by_accidents[Cities_by_accidents >= 1000]\n",
        "low_accident_cities = Cities_by_accidents[Cities_by_accidents < 1000]"
      ],
      "execution_count": 39,
      "outputs": []
    },
    {
      "cell_type": "code",
      "metadata": {
        "colab": {
          "base_uri": "https://localhost:8080/"
        },
        "id": "IWV4aQ7nKiyl",
        "outputId": "6e7a8639-2249-4a04-d72c-08459dcff5a5"
      },
      "source": [
        "len(high_accident_cities)"
      ],
      "execution_count": 40,
      "outputs": [
        {
          "output_type": "execute_result",
          "data": {
            "text/plain": [
              "251"
            ]
          },
          "metadata": {},
          "execution_count": 40
        }
      ]
    },
    {
      "cell_type": "code",
      "metadata": {
        "colab": {
          "base_uri": "https://localhost:8080/"
        },
        "id": "r2OM-W8FKmsJ",
        "outputId": "25921325-ed43-492b-e3c0-879e343cf3e5"
      },
      "source": [
        "len(high_accident_cities)/len(cities)"
      ],
      "execution_count": 41,
      "outputs": [
        {
          "output_type": "execute_result",
          "data": {
            "text/plain": [
              "0.023550384687558643"
            ]
          },
          "metadata": {},
          "execution_count": 41
        }
      ]
    },
    {
      "cell_type": "code",
      "metadata": {
        "colab": {
          "base_uri": "https://localhost:8080/",
          "height": 350
        },
        "id": "joTXahA5LT6O",
        "outputId": "e139d1a5-a100-4bf3-9e43-87ca50711e9f"
      },
      "source": [
        "sns.distplot(high_accident_cities)"
      ],
      "execution_count": 42,
      "outputs": [
        {
          "output_type": "stream",
          "name": "stderr",
          "text": [
            "/usr/local/lib/python3.7/dist-packages/seaborn/distributions.py:2557: FutureWarning: `distplot` is a deprecated function and will be removed in a future version. Please adapt your code to use either `displot` (a figure-level function with similar flexibility) or `histplot` (an axes-level function for histograms).\n",
            "  warnings.warn(msg, FutureWarning)\n"
          ]
        },
        {
          "output_type": "execute_result",
          "data": {
            "text/plain": [
              "<matplotlib.axes._subplots.AxesSubplot at 0x7f325bda5910>"
            ]
          },
          "metadata": {},
          "execution_count": 42
        },
        {
          "output_type": "display_data",
          "data": {
            "image/png": "[encoded data removed]",
            "text/plain": [
              "<Figure size 432x288 with 1 Axes>"
            ]
          },
          "metadata": {}
        }
      ]
    },
    {
      "cell_type": "code",
      "metadata": {
        "colab": {
          "base_uri": "https://localhost:8080/",
          "height": 350
        },
        "id": "mEZfMXX6LeBt",
        "outputId": "6ce2e4a3-8941-420c-acac-f22892d0d045"
      },
      "source": [
        "sns.distplot(low_accident_cities)"
      ],
      "execution_count": 43,
      "outputs": [
        {
          "output_type": "stream",
          "name": "stderr",
          "text": [
            "/usr/local/lib/python3.7/dist-packages/seaborn/distributions.py:2557: FutureWarning: `distplot` is a deprecated function and will be removed in a future version. Please adapt your code to use either `displot` (a figure-level function with similar flexibility) or `histplot` (an axes-level function for histograms).\n",
            "  warnings.warn(msg, FutureWarning)\n"
          ]
        },
        {
          "output_type": "execute_result",
          "data": {
            "text/plain": [
              "<matplotlib.axes._subplots.AxesSubplot at 0x7f325bc94510>"
            ]
          },
          "metadata": {},
          "execution_count": 43
        },
        {
          "output_type": "display_data",
          "data": {
            "image/png": "[encoded data removed]",
            "text/plain": [
              "<Figure size 432x288 with 1 Axes>"
            ]
          },
          "metadata": {}
        }
      ]
    },
    {
      "cell_type": "code",
      "metadata": {
        "colab": {
          "base_uri": "https://localhost:8080/"
        },
        "id": "iPPqG-DEFQNj",
        "outputId": "d7e1aa58-9a8e-4692-be6f-8348c1374c39"
      },
      "source": [
        "\"NY\" in df.State"
      ],
      "execution_count": 44,
      "outputs": [
        {
          "output_type": "execute_result",
          "data": {
            "text/plain": [
              "False"
            ]
          },
          "metadata": {},
          "execution_count": 44
        }
      ]
    },
    {
      "cell_type": "markdown",
      "metadata": {
        "id": "MRsvxDLoDpaE"
      },
      "source": [
        "## Ask & Answer Questions\n",
        "\n",
        "1. Are there more accidents in warmer or colder areas?\n",
        "2. Which 5 states have the highest no. of accidents? How about per capita ?\n",
        "3. Does New York show up in the data? If yes, why is the count lower if this is the most populated city?\n",
        "4. Among the top 100 cities in no. of accidents, which state do they belong to most frequently ?\n",
        "5. What time of the day are the accidents most frequent in ?\n",
        "6. Which days of the week have the most accidents ?\n",
        "7. Which months have the most accidents?\n",
        "8. What is the trend of accidents year over year? (decreasing/increasing)\n",
        "9. When is accidents per unit of traffic is higher ?"
      ]
    },
    {
      "cell_type": "code",
      "metadata": {
        "id": "CDKxsC5kICDw"
      },
      "source": [
        ""
      ],
      "execution_count": null,
      "outputs": []
    },
    {
      "cell_type": "markdown",
      "metadata": {
        "id": "ARi9JvTaK0_C"
      },
      "source": [
        "# Summary & Conclusion \n",
        "\n",
        "Insights:\n",
        "- No data for New York\n",
        "- The no. of accidents per city decreases exponentially\n",
        "- Less than 2.5% cities have more than 1000 accidents yearly\n",
        "- Over 1100 cities have reported just 1 accident(need to investigate)"
      ]
    }
  ]
}